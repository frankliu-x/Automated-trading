{
 "cells": [
  {
   "cell_type": "code",
   "execution_count": 12,
   "id": "1f9ced0c",
   "metadata": {},
   "outputs": [],
   "source": [
    "#!pip install --user -r requirements.txt"
   ]
  },
  {
   "cell_type": "code",
   "execution_count": 2,
   "id": "198209b9",
   "metadata": {},
   "outputs": [
    {
     "name": "stderr",
     "output_type": "stream",
     "text": [
      "[nltk_data] Downloading package stopwords to /Users/swu/nltk_data...\n",
      "[nltk_data]   Package stopwords is already up-to-date!\n"
     ]
    },
    {
     "name": "stdout",
     "output_type": "stream",
     "text": [
      "1491842738811195395 2022-02-10 10:33:20 -0800 <blackshamrocks1> @tedtalksmacro Ted! May we kindly have an update after today's events and your outlook on BTC until next Fed waypoint? 🙏🏻\n",
      "1491842738714968065 2022-02-10 10:33:20 -0800 <mdsiam15849676> Trending on #LunarCrush:  \"Inside the Chess Match That Led the Feds to $3.6 Billion in Stolen Bitcoin\" via @TIME  Top coin mentions $btc   https://t.co/A93LS5rYWB\n",
      "1491842734243651590 2022-02-10 10:33:19 -0800 <Zeze_Kitapsever> @btc_magazin 🙏🙏🙏👏👏\n",
      "1491842730892222475 2022-02-10 10:33:18 -0800 <MccryptA> Another WINNER!! Be the next lucky one to win $50 in $BTC.   Join here: https://t.co/GZDCQ8Sjga\n",
      "1491842725032996864 2022-02-10 10:33:17 -0800 <kripto_teknik> Canlı yayınımız başladı. Bitcoin ve altcoinlerdeki son durumu konuşuyoruz. Aşağıdaki linkten katılabilirsiniz.   https://t.co/9lXo6uf7OL  #bitcoin #kriptopara $btc $eth\n",
      "1491842722700959745 2022-02-10 10:33:16 -0800 <CmoBitcoin> The latest #bitcoin block 722655 with 2713 transactions was just mined by F2Pool Total Fees:0.1567919 Block Subsidy:6.25 #Bitcoin #BTC #blockchain #analysis\n",
      "1491842718166880261 2022-02-10 10:33:15 -0800 <eddy_cooper56> @BTCTN And still holding btc on finex is safer than banks.\n",
      "1491842711825100807 2022-02-10 10:33:14 -0800 <TanerKa49828218> @btc_magazin @navyinvestors @crivizone @MoneyKripto @TradeWars_10 Herkese şimdiden hayırlı olsun\n",
      "1491842711577673730 2022-02-10 10:33:14 -0800 <RightBare> @garyblack00 @GerberKawasaki Add more BTC to the balance sheet\n",
      "1491842709555924994 2022-02-10 10:33:13 -0800 <CryptoK33470557> @Ob_rethYamamoto  #RocoFinance  #ComeToRoco  #Roco #Avalanche, #BTC, #Bitcoin @rocofi\n",
      "1491842703872638978 2022-02-10 10:33:12 -0800 <Recepakbaba16> @btc_magazin @MoneyKripto @navyinvestors @crivizone @TradeWars_10 👏👏🔥🔥🔥🔥👏👏\n",
      "1491842698747252749 2022-02-10 10:33:11 -0800 <DYORCryptoBot> [Scan results - #KuCoin - 15m]  Top 5 bullish trend on #BTC pair 1: $KRL 2: $EPS 3: $ACT 4: $JAR 5: $CRO  Top 5 bullish trend on #USDT pair 1: $AXC 2: $ARPA 3: $SWP 4: $C98 5: $EDG  All #KuCoin results:  https://t.co/3p6BeG9Ncd Not buy signals\n",
      "1491842696784318472 2022-02-10 10:33:10 -0800 <Crypto_McKenna> I'm beginning to de-risk alot of my spot buys here w/ markets beginning to price in 50 bps rate hike w/ higher probability due to highest CPI numbers in 40 yrs.  Also at HTF supply level so makes sense to reduce exposure here.  #BTC  https://t.co/gEtJc0yKh6\n",
      "1491842693407727638 2022-02-10 10:33:09 -0800 <FlopperBTC>  https://t.co/FhC5JFcfzU\n",
      "1491842679646429186 2022-02-10 10:33:06 -0800 <CryptoJobs3> @cryptoHODLk Hmm I think $BTC must touch 45 800$ before dumping, so let's see!\n",
      "1491842671245148164 2022-02-10 10:33:04 -0800 <ButterLemonBot> Market Sentiment Improves As Bitcoin (BTC), Solana (SOL) and Cardano (ADA) See Institutional Inflows: CoinShares :  https://t.co/udBiyXIG39  https://t.co/Bxtn0TLObx\n",
      "1491842666161745924 2022-02-10 10:33:03 -0800 <AmberTwemlow> #Bitcoin #BTC current price (GBP): £33,133.93 Like my updates? you can tip me at bc1qt30uz0hl68ze77xu9u08e40a2tk44rrha6jm39\n",
      "1491842662504280071 2022-02-10 10:33:02 -0800 <btc_bryan_21> @VailshireCap Once they put in the research hours that we have this will flip\n",
      "1491842661011136514 2022-02-10 10:33:02 -0800 <holeyprofit> #BTC stopped out. Wasn't playing nice at all.   #SPX stops to 4540. Current price 4527\n",
      "1491842658230276106 2022-02-10 10:33:01 -0800 <AlertingCryptos> [ $BTC ] Bitcoin   Bitcoin, Gold, and Meta: Weekly Overview — February 10   https://t.co/iGbH5XEDF2\n",
      "1491842656124739590 2022-02-10 10:33:00 -0800 <PatrickCrypto92> @retolipp @NZZ Wilkommen im Jahr 2014.\n",
      "1491842653100687362 2022-02-10 10:33:00 -0800 <OTC_BTC0IN> See?  https://t.co/dcRalh2qsE\n",
      "1491842652366675979 2022-02-10 10:33:00 -0800 <jssalbert> @CryptosR_Us 2 BTC PLEASE 🤑🚀🚀🚀🚀\n",
      "1491842650735099906 2022-02-10 10:32:59 -0800 <TheNexxuz> @textfiles My hesitation is using Patreon. I will not support a platform that allows funding of riots and then taking down funds for those that are ACTUALLY peacefully protesting. But I am willing to support in other ways. Does the project accept #BTC?\n",
      "1491842648071675904 2022-02-10 10:32:59 -0800 <OTC_BTC0IN> Do you guys have precise criteria for what you call bullish or bearish?  The computer algorithms that are used by all the big hedge funds from Singapore to New York certainly do.  I hope you're not just winging it.\n",
      "1491842642153455621 2022-02-10 10:32:57 -0800 <bullstreetcoin> Bloktopia announced a partnership with @Chiliz and @Algorand today.  Quality partners. There will be another announcement.   When the markets revive, we will see its reflection in the price.   #btc #Algorand #chz #cryptocurrency #eth #metaverse #DeFi #mana #Sandbox\n",
      "1491842640945500166 2022-02-10 10:32:57 -0800 <gavrilovdg> @TO I don't always follow this rule in my work, but when i do, i realize that the customer is still satisfied with the result)\n",
      "1491842638026268674 2022-02-10 10:32:56 -0800 <kivanc26es> @mrymdst Benım ne sucum. Var ben evdeyım 2 gundur  btc alıyorum satıyorum borsadayım yanj\n",
      "1491842636939935746 2022-02-10 10:32:56 -0800 <DYORCryptoBot> [Scan results - #Gateio - 15m]  Top 5 bullish trend on #BTC pair 1: $BEAM 2: $SSV 3: $MXC 4: $C98 5: $HNS  Top 5 bullish trend on #USDT pair 1: $WIT 2: $SRP 3: $WOM 4: $MDX 5: $LKR  All #Gateio results:  https://t.co/MZdL0PuAQU Not buy signals\n",
      "1491842636260397057 2022-02-10 10:32:56 -0800 <nilasyazlynn> @sosocvgn BTC has been falling recently, do you think BTC has hope to break 70K\n",
      "1491842632523587584 2022-02-10 10:32:55 -0800 <sumikrypto> @dapatzyml @ashwsbreal He really really ❤s #BTC 😄\n",
      "1491842632183648257 2022-02-10 10:32:55 -0800 <Emine21355503> @btc_magazin @navyinvestors @crivizone @MoneyKripto @TradeWars_10 Hepsini çoktan takibe almışım\n",
      "1491842631583870980 2022-02-10 10:32:55 -0800 <jdeadga> BTC pump incoming\n",
      "1491842628220035075 2022-02-10 10:32:54 -0800 <criptohilo> La mayoría sabéis que para tener un portafolio medianamente equilibrado debemos tener un porcentaje en las critomonedas de mayor capitalización como BTC, ya que estas son las que menos impacto negativo tendrán en las caídas.  Tener stablecoins también nos da estabilidad.\n",
      "1491842618577149971 2022-02-10 10:32:52 -0800 <TheKoodge> @GhostofStoney @BitcoinCameron @AwyeeDeaterBob @gettxoutsetinfo @JustinHodl @Rand0mGuest2 @gregzaj1 @ICOffenderII @RD_btc @re_tweet @Stacking_sats_ @bitcoincrusader @DenizSaaat @bitclaat2 @tmsbtc @tecn9nesaurus @saylor @Vikingobitcoin2 @taodejing2  https://twitter. com/JustinHodl/status/1491752660059385858\n",
      "1491842615309971460 2022-02-10 10:32:51 -0800 <Han94551923> @btc_magazin @navyinvestors @crivizone @MoneyKripto @TradeWars_10 @Cayde31032020 @Mustafa78611435\n",
      "1491842612394967049 2022-02-10 10:32:50 -0800 <ejones6800> @BossCatRCSales @BossCatRC @BlueMagicBCRC @deezy_BTC @NFT_Justin  Hmm…still seems a little low for a project like this 😉 just my opinion… Smells of a future #BlueChipNFT  https://t.co/dUKFEXjk7d\n",
      "1491842610356527107 2022-02-10 10:32:50 -0800 <alexdesouza72> #HeadTokenVCVIDAL Btc , etherium ve Bnb siz yürürseniz biz koşarız! 🔥 YTD ARAŞTIRIN!\n",
      "1491842602517372930 2022-02-10 10:32:48 -0800 <gethedgecrypto> You can buy me at  https://t.co/Fl0GAke8MR 🦔😃  #BTC #LTC #ETH #cryptocurrency  https://t.co/U9yrNPjzwn\n",
      "1491842602014064644 2022-02-10 10:32:48 -0800 <Naznesss> @btc_magazin Mag kazandığım çekilişi alamadım ama ben daha 😀 küstüm sana\n",
      "1491842598243291142 2022-02-10 10:32:47 -0800 <DigitalCDaily> @SamJaco03101247 @bradmillscan I think that's the BTC dev's...who are pretending that they can not implement updates to the network, while they implement updates to the network.\n",
      "1491842595466760197 2022-02-10 10:32:46 -0800 <mugecchi> @btc_magazin @navyinvestors @crivizone @MoneyKripto @TradeWars_10 @doaan01\n",
      "1491842583873601538 2022-02-10 10:32:43 -0800 <FatihTuran9535> @btc_magazin 🙏\n",
      "1491842580979593229 2022-02-10 10:32:43 -0800 <PnRcNkAda> @btc_magazin @navyinvestors @crivizone @MoneyKripto @TradeWars_10 @brkykrmn\n",
      "1491842578953736197 2022-02-10 10:32:42 -0800 <biteriumcoin> @btc_magazin @navyinvestors @crivizone @MoneyKripto @TradeWars_10 @UCAN_COiN72 @PervinK79818597\n",
      "1491842578622337024 2022-02-10 10:32:42 -0800 <bett_on2436> @CryptosR_Us 2 BTC 💯\n",
      "1491842577703657473 2022-02-10 10:32:42 -0800 <Abriell75214382> $BTC Real price will come out soon; Follow price target.~  https://t.co/ZKykCvWhcg\n",
      "1491842576646815746 2022-02-10 10:32:42 -0800 <Vikingobitcoin2> @ICOffender @D40five @ICOffenderII @gregzaj1 @GhostofStoney @BitcoinCameron @AwyeeDeaterBob @gettxoutsetinfo @JustinHodl @Rand0mGuest2 @RD_btc @re_tweet @Stacking_sats_ @bitcoincrusader @DenizSaaat @bitclaat2 @tmsbtc @tecn9nesaurus @saylor @taodejing2 Now you done it.  https://t.co/seMo2j6P75\n",
      "1491842574583500800 2022-02-10 10:32:41 -0800 <LbSeLyxGABtcQpc> @mxyxbxm 最初すぎて楽しさがわからない(&gt;&lt;)\n",
      "1491842574054993922 2022-02-10 10:32:41 -0800 <bangaloretrance> @MarkusSchulz @SamWolfeMusic @kill_script Holy shit ! What crazy bassline ! 😮 #GDJB\n",
      "1491842571005530114 2022-02-10 10:32:40 -0800 <Frogzilla4> @kale_abe I look at the market, look at the crazy inflation, look at btc and think wtf is going on. I’m all in. Let the insanity commence\n",
      "1491842566278504450 2022-02-10 10:32:39 -0800 <jwex12> @btc_magazin @navyinvestors @crivizone @MoneyKripto @TradeWars_10 🍀🍀\n",
      "1491842564302979073 2022-02-10 10:32:39 -0800 <muapaydin> En sade en anlaşılır grafik... (Haftalıktır. Uzun vadeli bakış açısıdır...)  Başka yerde yok grafiği :) #Bitcoin #Btc #Ethereum #Ada  https://t.co/wmt31W6s0p\n"
     ]
    },
    {
     "name": "stdout",
     "output_type": "stream",
     "text": [
      "1491842563485097988 2022-02-10 10:32:38 -0800 <YusufKerimYata> @btc_magazin @MoneyKripto @navyinvestors @crivizone @TradeWars_10 Hadi bakalım hayırlısı olsun\n",
      "1491842554202972164 2022-02-10 10:32:36 -0800 <andytarrab> 1 BTC = 1 BTC  #BTC #Bitcoin\n",
      "1491842546472992769 2022-02-10 10:32:34 -0800 <Caldave670> @GoingParabolic So it is true... BTC attracts criminal activities\n",
      "1491842532816433158 2022-02-10 10:32:31 -0800 <DYORCryptoBot> [Scan results - #Binance - 15m]  Top 5 bullish trend on #BTC pair 1: $MDX 2: $MBOX 3: $BNX 4: $THETA 5: $CLV  Top 5 bullish trend on #USDT pair 1: $MDX 2: $C98 3: $ARPA 4: $BEAM 5: $MBOX  All #Binance results:  https://t.co/NE27I4BsNN Not buy signals\n",
      "1491842525648281605 2022-02-10 10:32:29 -0800 <CRYPTOOUMIT> @btc_magazin @TradeWars_10 @navyinvestors @crivizone @MoneyKripto Hepsini takipteyim. İnşallah bana nasip olur\n",
      "1491842524713000966 2022-02-10 10:32:29 -0800 <Umut56481349> @btc_magazin @navyinvestors @crivizone @MoneyKripto @TradeWars_10 🙌\n",
      "1491842517960208391 2022-02-10 10:32:28 -0800 <albeyi297> @btc_magazin @MoneyKripto @navyinvestors @crivizone @TradeWars_10 ✋🏻\n",
      "1491842510154608646 2022-02-10 10:32:26 -0800 <Duke_2290> @ecantugalindo @GloriaAlvarez85 @GlodeJo07 @gloriaidali_ @JMilei @FrenteLiber @Lib_Disidentes @MovimientoLib15 @JTrianaT @ConnieGarciaMx @pablo_gonzalez Existe una plataforma de intercambio cripto por Fiat que tiene más de 200 plataformas en Rusia dedicadas a la compra venta de criptos e incluso bancos comercializando con proyectos . Los negocios están en crecimiento exponencial de adopción no solo de BTC, también otras criptos\n",
      "1491842509789708300 2022-02-10 10:32:26 -0800 <secoral> @btc_magazin @navyinvestors @crivizone @MoneyKripto @TradeWars_10 takip etmediğimiz masa yok :D\n",
      "1491842508174860292 2022-02-10 10:32:25 -0800 <PHYYe0927> 永远不要试图去带别人赚钱，世上没有比这更愚蠢的事情了。因为穷就是病。这种病只能靠自愈，你要是去给人开个药方，万一没有效果，病情加重，对方大概率会反咬你一口。因为你很难辨别对方是人还是狗。而你就算是侥幸给人带来好转，你收获的可能也仅仅只是一顿饭，甚至是一声感谢而已 #BTC #nft  https://t.co/jkaSsoQQ1V\n",
      "1491842501417869316 2022-02-10 10:32:24 -0800 <endoplazmkgarip> @btc_magazin @navyinvestors @crivizone @MoneyKripto @TradeWars_10 @Leylamiyav  ☀️\n",
      "1491842499547181065 2022-02-10 10:32:23 -0800 <MoneySavvyMind> @GalenBriggs16 @stoolpresidente Lettuce just appreciate the BTC shoutout from prezzzzzi\n",
      "1491842497454039054 2022-02-10 10:32:23 -0800 <btcunclesam> @Extremelyist @yangleicq Yeah I don’t buy that idea either\n",
      "1491842496711831560 2022-02-10 10:32:22 -0800 <Pirilti40622492> @btc_magazin Fenomenleri araştırdım kankaaa SLP'nin yükselişini bir tek @kriptohba yakalamış. Bu ara onu takipteyim\n",
      "1491842480622522374 2022-02-10 10:32:19 -0800 <Gdoor07561670> @AndrejCibik @francispouliot_ I can help on the design. And the print and distribution should be easy to handle.\n",
      "1491842478231670788 2022-02-10 10:32:18 -0800 <binance__jp> 招待コード入力で全取引の手数料が20%キャッシュバックされます。  招待ID:GLCPRTG7  以下のリンクから登録できます↓↓   https://t.co/aw8RwzUWO5  #招待ID #バイナンス #仮想通貨 #ビットコイン #BTC  #Binance  3:32\n",
      "1491842472376475648 2022-02-10 10:32:17 -0800 <btc_magazin> Son tweti rtleyip beğenen dostlar ıphone 13 pro max ve 1000$ gönderiyoruz 🤝  Kanala katılmayı unutmayın    https://t.co/tiqE0aGt3O\n",
      "1491842472020004869 2022-02-10 10:32:17 -0800 <o_mujdat> @goddess_cz @Bitcoin @BTC_Archive @MASTERBTCLTC @cz_binance @BTCFoundation @binance @justinsuntron @elonmusk Will see, i am also waiting\n",
      "1491842469721427974 2022-02-10 10:32:16 -0800 <VisualMED88> Beautiful PA today . Algos in sync morning leg was a joy … decrypt this shit ANON #BTC #ETH $BTC $ETH\n",
      "1491842464847745027 2022-02-10 10:32:15 -0800 <AlferaTheDemon> @DylanLeClair_ yes if btc goes to 30k that would be nice risk off bro\n",
      "1491842455368568837 2022-02-10 10:32:13 -0800 <coinavcilarii> @btc_magazin Hocam kanaldayız uzun süredir umarım bize dokunursun ☺️\n",
      "1491842453753987072 2022-02-10 10:32:12 -0800 <BluHrvstDigital> From StockheadComAu \" Mooners and Shakers: Crypto market dips then surges after new US inflation data hits \" published 11/02/2022 $BTC $CEL #Crypto #Markets #Finance   https://t.co/1Hpgo5qhtc\n",
      "1491842448821452803 2022-02-10 10:32:11 -0800 <Rondeau_BTC> @OttoBlockchain Glad to see this update\n",
      "1491842447978213376 2022-02-10 10:32:11 -0800 <JorgeCalderonMx> 🇺🇸 USTs: Massive repricing that started with inflation print and increased the proportion after Bullard’s statements; the 30y auction tail was solid with a BtC of 2.3x vs 2.2x of the last one and indirect bidders demanded 68% (highest since October). 2s reaching 1.546% (+18 bp)  https://t.co/6klbTauWEl\n",
      "1491842447906902023 2022-02-10 10:32:11 -0800 <Jas_ekza> @btc_magazin @navyinvestors @crivizone @MoneyKripto @TradeWars_10 Hepsi tamamdır kaptan. Merakla sonucu bekliyorum inşallah yüzüm bu sefer sayende gülecek.\n",
      "1491842447110029316 2022-02-10 10:32:11 -0800 <BtcPadre> @BabooTabouli @QNT_Capy @Timcast And you still believe that malarkey?\n",
      "1491842444614197266 2022-02-10 10:32:10 -0800 <Invest100Es> Bitcoin rechaza una venta masiva mientras que la inflación del 7.5% en EEUU no logra mantener a BTC bajo por mucho tiempo  https://t.co/pyFnmPe8on\n",
      "1491842442840231943 2022-02-10 10:32:10 -0800 <Kahinbey0> #bitcoin’de yükselişler devam edecek ve 45,500 üstüne gün kapatmamızla 53 K bandına yolculuk başlamasını bekliyorum..  #btc için verdiğimiz 10 tane hedef nokta atışı ile gerçekleşti ve gerçekleşmeye devam edecek..\n",
      "1491842440755437568 2022-02-10 10:32:09 -0800 <SportsbookBTC> Milan agree Botman personal terms, but Newcastle and Tottenham still in race  https://t.co/85aufXkf3Z ⟶ via  https://t.co/0I4IIflkwI  https://t.co/7AqDiguYD1\n",
      "1491842439795122182 2022-02-10 10:32:09 -0800 <Veysinar11> @Selcoin Btc düşüş bekliyor musunuz düzeltme\n",
      "1491842436548775937 2022-02-10 10:32:08 -0800 <AxeC975> Le cabinet mentionne que l'utilisation par le pays du BTC comme monnaie légale contribue à l'incertitude sur un programme potentiel du Fonds monétaire international qui pourrait fournir le financement dont le pays a besoin en 2022-2023.\n",
      "1491842434678022154 2022-02-10 10:32:08 -0800 <priormiles68> $ETC vs $ETH - To paraphrase a line from the Shawshank Redemption, “How can you be so Obtuse?” Well, on this chart @eth_classic is being mathematically obtuse in a good way as it gains value versus #Ethereum .  #BTC  https://t.co/irtK4JSbFY\n",
      "1491842431007875094 2022-02-10 10:32:07 -0800 <SamBTC5150> @LeynaNguyenTV What a cuck! 🤣  How dare they cancel on you!!\n",
      "1491842430722662429 2022-02-10 10:32:07 -0800 <SportsbookBTC> Coppa Italia Liveblog: Atalanta-Fiorentina and Juventus-Sassuolo  https://t.co/cITYfMkeX1 ⟶ via  https://t.co/0I4IIflkwI  https://t.co/v7D8G3umoB\n",
      "1491842426998120457 2022-02-10 10:32:06 -0800 <DandKTrades> 💚4 pg translation of @maxkeiser sharing the President's @nayibbukele #Vision for El Salvador ... using #BTC &amp; #VolcanoBonds to help grow their #economy. . On his twitter, his Brilliant title is '#CEO of El Salvador'.   #CleanEnergy #CryptoMining $CEI $HUT $BTBT $HIVE $DGHI $BITF\n",
      "1491842420836687894 2022-02-10 10:32:04 -0800 <btctradep2p> Bitcoin、Litecoin、Monero、DASHなどを完全匿名で現金で個人間で簡単に対面売買することができるサイト、btc-trade-p2pの運営をしております。ご質問などがあれば、お気軽にどうぞ。よろしくお願いいたします。  #暗号通貨 #Bitcoin #ビットコイン\n",
      "1491842420568322049 2022-02-10 10:32:04 -0800 <ECrypto24> BTC/USD Swings Above $45,000 Resistance  https://t.co/CHL2mnTfqz\n",
      "1491842417946808320 2022-02-10 10:32:04 -0800 <SportsbookBTC> Agent: ‘Radu better goalkeeper than Onana for Inter’  https://t.co/YEhcgyuEVW ⟶ via  https://t.co/0I4IIflkwI  https://t.co/9vmmlP9Rpj\n",
      "1491842415828910080 2022-02-10 10:32:03 -0800 <Ctmo41> @btc_magazin @navyinvestors @crivizone @MoneyKripto @TradeWars_10 Missions completed 🙂🙂\n",
      "1491842414796890132 2022-02-10 10:32:03 -0800 <ECrypto24> Market Sentiment Improves As Bitcoin (BTC), Solana (SOL) and Cardano (ADA) See Institutional Inflows: CoinShares  https://t.co/qF14SKwSsS\n",
      "1491842409675866117 2022-02-10 10:32:02 -0800 <ScoringBitties> @Khaleeq75112491 @Tims_TA It’s not negative my guy, it being real about what the market it saying. If it’s bearish, you can’t pretend it’s bullish cause it sounds better. Long term $BTC is going up and to the right!! #Bitcoin\n",
      "1491842409373835270 2022-02-10 10:32:02 -0800 <lllMrXlll> @andres92705497 @KevinSvenson_ Bulls were “in control “ at 69k too yiu marry the ticker and have no understanding of anything outside happening or you would understand btc current situation. Please educate yourself first\n",
      "1491842408362831873 2022-02-10 10:32:01 -0800 <btcunclesam> @WinSmit21590271 Do you have any good links?\n",
      "1491842399794040835 2022-02-10 10:31:59 -0800 <OTC_BTC0IN> How's US CPI?  Remember when Bitcoin didn't GAF about the macro markets?  Then you guys HAD to keep wishing institutions would come in!\n",
      "1491842399273996288 2022-02-10 10:31:59 -0800 <DenizBayramGrmz> @btc_magazin Ona da katılmışımm :)\n"
     ]
    },
    {
     "name": "stdout",
     "output_type": "stream",
     "text": [
      "1491842398456102913 2022-02-10 10:31:59 -0800 <huzumlukekim> @btc_magazin @navyinvestors @crivizone @MoneyKripto @TradeWars_10 Mag sen varsın diye güveniyorum, inşallah yüzümüz Güler beee\n",
      "1491842398279843849 2022-02-10 10:31:59 -0800 <OTC_BTC0IN> Stop profit longs. 0.3%\n",
      "1491842397134807044 2022-02-10 10:31:59 -0800 <Crypto_Jeremiah> #Bitcoin $BTC  Today was a hectic day. After all this choppy chop, I'm building short position above 45k  I still think this is a deviation above 45k and possible bear divs up to 8h are building  https://t.co/0drTulAQMQ\n",
      "1491842390641897472 2022-02-10 10:31:57 -0800 <IAmRandomBot> Current #Bitcoin Price is $45040 #BTC #Crypto\n",
      "1491842385457917953 2022-02-10 10:31:56 -0800 <pw_imouokhome> @SpiffyJV @DurgoatB @Ic3yHurts @BleacherReport @NBAKrell Ratio’d\n",
      "1491842381083258885 2022-02-10 10:31:55 -0800 <BTC_Bash> @Scalabrine Wyc is under the tax tho\n",
      "1491842370987606023 2022-02-10 10:31:52 -0800 <AhmetsBal1> @btc_magazin @navyinvestors @crivizone @MoneyKripto @TradeWars_10 🚀🤝\n",
      "1491842370555584514 2022-02-10 10:31:52 -0800 <beratdemir29> @btc_magazin @navyinvestors @crivizone @MoneyKripto @TradeWars_10 👍👍👍\n",
      "1491842370035400711 2022-02-10 10:31:52 -0800 <LN_Master_Hub> @ZubyMusic I wonder if they bought out Joe Rogan with the purpose of silencing him...\n",
      "1491842369016274946 2022-02-10 10:31:52 -0800 <Oct___9thWonder> @fameboyej2x @Btc_Please Hell yea\n",
      "1491842367904694278 2022-02-10 10:31:52 -0800 <CutinoYordanis> @ToadPunkz @coinkit_ #BTC #NFTCommumity\n",
      "1491842366247821342 2022-02-10 10:31:51 -0800 <mattysats> @Underrated_Dom #BTC #LFG  https://t.co/LWlywq3OcK\n",
      "1491842363056132107 2022-02-10 10:31:51 -0800 <kriptopara48> #btc\n"
     ]
    }
   ],
   "source": [
    "import sys\n",
    "import os\n",
    "# Set up TWINT config\n",
    "import twint\n",
    "# Solve compatibility issues with notebooks and RunTime errors.\n",
    "import nest_asyncio\n",
    "\n",
    "# stopword\n",
    "import nltk\n",
    "from nltk.corpus import stopwords\n",
    "nltk.download('stopwords')\n",
    "sw_nltk = stopwords.words('english')\n",
    "\n",
    "\n",
    "nest_asyncio.apply()\n",
    "c = twint.Config()\n",
    "c.Search = \"BTC\"\n",
    "c.Lang = \"en\"\n",
    "# c.Username = \"noneprivacy\"\n",
    "# c.Custom[\"tweet\"] = [\"id\"]\n",
    "# c.Custom[\"user\"] = [\"bio\"]\n",
    "\n",
    "c.Store_pandas = True\n",
    "# c.Store_csv = True\n",
    "# c.Output = \"test.csv\"\n",
    "c.Limit = 100\n",
    "c.Pandas = True\n",
    "twint.run.Search(c)"
   ]
  },
  {
   "cell_type": "code",
   "execution_count": 6,
   "id": "d10bbd31",
   "metadata": {},
   "outputs": [
    {
     "name": "stdout",
     "output_type": "stream",
     "text": [
      "<class 'pandas.core.frame.DataFrame'>\n",
      "RangeIndex: 111 entries, 0 to 110\n",
      "Data columns (total 7 columns):\n",
      " #   Column     Non-Null Count  Dtype \n",
      "---  ------     --------------  ----- \n",
      " 0   date       111 non-null    object\n",
      " 1   username   111 non-null    object\n",
      " 2   tweet      111 non-null    object\n",
      " 3   hashtags   111 non-null    object\n",
      " 4   nreplies   111 non-null    int64 \n",
      " 5   nretweets  111 non-null    int64 \n",
      " 6   nlikes     111 non-null    int64 \n",
      "dtypes: int64(3), object(4)\n",
      "memory usage: 6.2+ KB\n"
     ]
    }
   ],
   "source": [
    "# Transform result to pandas\n",
    "def twint_to_pandas(columns):\n",
    "    return twint.output.panda.Tweets_df[columns]\n",
    "df = twint_to_pandas([\"date\", \"username\",\"tweet\", \"hashtags\", \"nreplies\", \"nretweets\",\"nlikes\"])\n",
    "df.info()"
   ]
  },
  {
   "cell_type": "code",
   "execution_count": 7,
   "id": "4eaf8e76",
   "metadata": {},
   "outputs": [
    {
     "data": {
      "text/html": [
       "<div>\n",
       "<style scoped>\n",
       "    .dataframe tbody tr th:only-of-type {\n",
       "        vertical-align: middle;\n",
       "    }\n",
       "\n",
       "    .dataframe tbody tr th {\n",
       "        vertical-align: top;\n",
       "    }\n",
       "\n",
       "    .dataframe thead th {\n",
       "        text-align: right;\n",
       "    }\n",
       "</style>\n",
       "<table border=\"1\" class=\"dataframe\">\n",
       "  <thead>\n",
       "    <tr style=\"text-align: right;\">\n",
       "      <th></th>\n",
       "      <th>date</th>\n",
       "      <th>username</th>\n",
       "      <th>tweet</th>\n",
       "      <th>hashtags</th>\n",
       "      <th>nreplies</th>\n",
       "      <th>nretweets</th>\n",
       "      <th>nlikes</th>\n",
       "    </tr>\n",
       "  </thead>\n",
       "  <tbody>\n",
       "    <tr>\n",
       "      <th>0</th>\n",
       "      <td>2022-02-10 10:33:20</td>\n",
       "      <td>blackshamrocks1</td>\n",
       "      <td>@tedtalksmacro Ted! May we kindly have an upda...</td>\n",
       "      <td>[]</td>\n",
       "      <td>0</td>\n",
       "      <td>0</td>\n",
       "      <td>0</td>\n",
       "    </tr>\n",
       "    <tr>\n",
       "      <th>1</th>\n",
       "      <td>2022-02-10 10:33:20</td>\n",
       "      <td>mdsiam15849676</td>\n",
       "      <td>Trending on #LunarCrush:  \"Inside the Chess Ma...</td>\n",
       "      <td>[lunarcrush]</td>\n",
       "      <td>0</td>\n",
       "      <td>0</td>\n",
       "      <td>0</td>\n",
       "    </tr>\n",
       "    <tr>\n",
       "      <th>2</th>\n",
       "      <td>2022-02-10 10:33:19</td>\n",
       "      <td>Zeze_Kitapsever</td>\n",
       "      <td>@btc_magazin 🙏🙏🙏👏👏</td>\n",
       "      <td>[]</td>\n",
       "      <td>0</td>\n",
       "      <td>0</td>\n",
       "      <td>0</td>\n",
       "    </tr>\n",
       "    <tr>\n",
       "      <th>3</th>\n",
       "      <td>2022-02-10 10:33:18</td>\n",
       "      <td>MccryptA</td>\n",
       "      <td>Another WINNER!! Be the next lucky one to win ...</td>\n",
       "      <td>[]</td>\n",
       "      <td>0</td>\n",
       "      <td>0</td>\n",
       "      <td>0</td>\n",
       "    </tr>\n",
       "    <tr>\n",
       "      <th>4</th>\n",
       "      <td>2022-02-10 10:33:17</td>\n",
       "      <td>kripto_teknik</td>\n",
       "      <td>Canlı yayınımız başladı. Bitcoin ve altcoinler...</td>\n",
       "      <td>[bitcoin, kriptopara]</td>\n",
       "      <td>1</td>\n",
       "      <td>0</td>\n",
       "      <td>0</td>\n",
       "    </tr>\n",
       "  </tbody>\n",
       "</table>\n",
       "</div>"
      ],
      "text/plain": [
       "                  date         username  \\\n",
       "0  2022-02-10 10:33:20  blackshamrocks1   \n",
       "1  2022-02-10 10:33:20   mdsiam15849676   \n",
       "2  2022-02-10 10:33:19  Zeze_Kitapsever   \n",
       "3  2022-02-10 10:33:18         MccryptA   \n",
       "4  2022-02-10 10:33:17    kripto_teknik   \n",
       "\n",
       "                                               tweet               hashtags  \\\n",
       "0  @tedtalksmacro Ted! May we kindly have an upda...                     []   \n",
       "1  Trending on #LunarCrush:  \"Inside the Chess Ma...           [lunarcrush]   \n",
       "2                                 @btc_magazin 🙏🙏🙏👏👏                     []   \n",
       "3  Another WINNER!! Be the next lucky one to win ...                     []   \n",
       "4  Canlı yayınımız başladı. Bitcoin ve altcoinler...  [bitcoin, kriptopara]   \n",
       "\n",
       "   nreplies  nretweets  nlikes  \n",
       "0         0          0       0  \n",
       "1         0          0       0  \n",
       "2         0          0       0  \n",
       "3         0          0       0  \n",
       "4         1          0       0  "
      ]
     },
     "execution_count": 7,
     "metadata": {},
     "output_type": "execute_result"
    }
   ],
   "source": [
    "df.head(5)"
   ]
  },
  {
   "cell_type": "markdown",
   "id": "c8881a20",
   "metadata": {},
   "source": [
    "## Sentiment analysis"
   ]
  },
  {
   "cell_type": "markdown",
   "id": "3027b4a3",
   "metadata": {},
   "source": [
    "### 1. Preprocessing"
   ]
  },
  {
   "cell_type": "code",
   "execution_count": 13,
   "id": "e02e9c7c",
   "metadata": {},
   "outputs": [],
   "source": [
    "def clean_anonymization(tweet):\n",
    "    res=[]\n",
    "    # Lowercase\n",
    "    tweet = tweet.lower()\n",
    "    # Remove single letter words\n",
    "    # tweet = ' '.join( [w for w in tweet.split() if len(w)>1] )\n",
    "    \n",
    "    # Remove stopword\n",
    "    tweet = ' '.join([word for word in tweet.split() if word.lower() not in sw_nltk])\n",
    "    # remove the word after @ OR #\n",
    "    for i in tweet.split():\n",
    "        if i.startswith(\"@\") or i.startswith(\"#\"):\n",
    "            continue\n",
    "        else:\n",
    "            res.append(i)\n",
    "    return ' '.join(res)"
   ]
  },
  {
   "cell_type": "code",
   "execution_count": 14,
   "id": "003ca7cd",
   "metadata": {},
   "outputs": [
    {
     "name": "stderr",
     "output_type": "stream",
     "text": [
      "<ipython-input-14-79f1e2b532d2>:1: SettingWithCopyWarning: \n",
      "A value is trying to be set on a copy of a slice from a DataFrame.\n",
      "Try using .loc[row_indexer,col_indexer] = value instead\n",
      "\n",
      "See the caveats in the documentation: https://pandas.pydata.org/pandas-docs/stable/user_guide/indexing.html#returning-a-view-versus-a-copy\n",
      "  df['tweet']=df['tweet'].apply(lambda x:clean_anonymization(x))\n"
     ]
    }
   ],
   "source": [
    "df['tweet']=df['tweet'].apply(lambda x:clean_anonymization(x))"
   ]
  },
  {
   "cell_type": "code",
   "execution_count": 15,
   "id": "a19ae321",
   "metadata": {},
   "outputs": [
    {
     "data": {
      "text/html": [
       "<div>\n",
       "<style scoped>\n",
       "    .dataframe tbody tr th:only-of-type {\n",
       "        vertical-align: middle;\n",
       "    }\n",
       "\n",
       "    .dataframe tbody tr th {\n",
       "        vertical-align: top;\n",
       "    }\n",
       "\n",
       "    .dataframe thead th {\n",
       "        text-align: right;\n",
       "    }\n",
       "</style>\n",
       "<table border=\"1\" class=\"dataframe\">\n",
       "  <thead>\n",
       "    <tr style=\"text-align: right;\">\n",
       "      <th></th>\n",
       "      <th>date</th>\n",
       "      <th>username</th>\n",
       "      <th>tweet</th>\n",
       "      <th>hashtags</th>\n",
       "      <th>nreplies</th>\n",
       "      <th>nretweets</th>\n",
       "      <th>nlikes</th>\n",
       "    </tr>\n",
       "  </thead>\n",
       "  <tbody>\n",
       "    <tr>\n",
       "      <th>0</th>\n",
       "      <td>2022-02-10 10:33:20</td>\n",
       "      <td>blackshamrocks1</td>\n",
       "      <td>ted! may kindly update today's events outlook ...</td>\n",
       "      <td>[]</td>\n",
       "      <td>0</td>\n",
       "      <td>0</td>\n",
       "      <td>0</td>\n",
       "    </tr>\n",
       "    <tr>\n",
       "      <th>1</th>\n",
       "      <td>2022-02-10 10:33:20</td>\n",
       "      <td>mdsiam15849676</td>\n",
       "      <td>trending \"inside chess match led feds $3.6 bil...</td>\n",
       "      <td>[lunarcrush]</td>\n",
       "      <td>0</td>\n",
       "      <td>0</td>\n",
       "      <td>0</td>\n",
       "    </tr>\n",
       "    <tr>\n",
       "      <th>2</th>\n",
       "      <td>2022-02-10 10:33:19</td>\n",
       "      <td>Zeze_Kitapsever</td>\n",
       "      <td>🙏🙏🙏👏👏</td>\n",
       "      <td>[]</td>\n",
       "      <td>0</td>\n",
       "      <td>0</td>\n",
       "      <td>0</td>\n",
       "    </tr>\n",
       "    <tr>\n",
       "      <th>3</th>\n",
       "      <td>2022-02-10 10:33:18</td>\n",
       "      <td>MccryptA</td>\n",
       "      <td>another winner!! next lucky one win $50 $btc. ...</td>\n",
       "      <td>[]</td>\n",
       "      <td>0</td>\n",
       "      <td>0</td>\n",
       "      <td>0</td>\n",
       "    </tr>\n",
       "    <tr>\n",
       "      <th>4</th>\n",
       "      <td>2022-02-10 10:33:17</td>\n",
       "      <td>kripto_teknik</td>\n",
       "      <td>canlı yayınımız başladı. bitcoin altcoinlerdek...</td>\n",
       "      <td>[bitcoin, kriptopara]</td>\n",
       "      <td>1</td>\n",
       "      <td>0</td>\n",
       "      <td>0</td>\n",
       "    </tr>\n",
       "  </tbody>\n",
       "</table>\n",
       "</div>"
      ],
      "text/plain": [
       "                  date         username  \\\n",
       "0  2022-02-10 10:33:20  blackshamrocks1   \n",
       "1  2022-02-10 10:33:20   mdsiam15849676   \n",
       "2  2022-02-10 10:33:19  Zeze_Kitapsever   \n",
       "3  2022-02-10 10:33:18         MccryptA   \n",
       "4  2022-02-10 10:33:17    kripto_teknik   \n",
       "\n",
       "                                               tweet               hashtags  \\\n",
       "0  ted! may kindly update today's events outlook ...                     []   \n",
       "1  trending \"inside chess match led feds $3.6 bil...           [lunarcrush]   \n",
       "2                                              🙏🙏🙏👏👏                     []   \n",
       "3  another winner!! next lucky one win $50 $btc. ...                     []   \n",
       "4  canlı yayınımız başladı. bitcoin altcoinlerdek...  [bitcoin, kriptopara]   \n",
       "\n",
       "   nreplies  nretweets  nlikes  \n",
       "0         0          0       0  \n",
       "1         0          0       0  \n",
       "2         0          0       0  \n",
       "3         0          0       0  \n",
       "4         1          0       0  "
      ]
     },
     "execution_count": 15,
     "metadata": {},
     "output_type": "execute_result"
    }
   ],
   "source": [
    "df.head()"
   ]
  },
  {
   "cell_type": "markdown",
   "id": "44bd3338",
   "metadata": {},
   "source": [
    "### 2. Stacked-LSTM "
   ]
  },
  {
   "cell_type": "code",
   "execution_count": 15,
   "id": "d888e21e",
   "metadata": {},
   "outputs": [
    {
     "name": "stdout",
     "output_type": "stream",
     "text": [
      "[[[-0.00656106]\n",
      "  [-0.01648533]\n",
      "  [-0.02826213]]]\n"
     ]
    }
   ],
   "source": [
    "# Example of one output for each input time step\n",
    "from keras.models import Sequential\n",
    "from keras.layers import LSTM\n",
    "from numpy import array\n",
    "# define model where LSTM is also output layer\n",
    "model = Sequential()\n",
    "model.add(LSTM(1, return_sequences=True, input_shape=(3,1)))\n",
    "model.compile(optimizer='adam', loss='mse')\n",
    "# input time steps\n",
    "data = array([0.1, 0.2, 0.3]).reshape((1,3,1))\n",
    "# make and show prediction\n",
    "print(model.predict(data))"
   ]
  },
  {
   "cell_type": "code",
   "execution_count": 11,
   "id": "3f50bbe2",
   "metadata": {},
   "outputs": [],
   "source": []
  },
  {
   "cell_type": "code",
   "execution_count": 13,
   "id": "6d95963d",
   "metadata": {},
   "outputs": [],
   "source": [
    "from textblob import TextBlob\n",
    "from IPython.display import Markdown, display"
   ]
  },
  {
   "cell_type": "code",
   "execution_count": 14,
   "id": "4b5c87b3",
   "metadata": {},
   "outputs": [],
   "source": [
    "def printmd(string, color=None):\n",
    "    colorstr = \"<span style='color:{}'>{}</span>\".format(color, string)\n",
    "    display(Markdown(colorstr))"
   ]
  },
  {
   "cell_type": "code",
   "execution_count": 15,
   "id": "3a4d953c",
   "metadata": {},
   "outputs": [
    {
     "name": "stdout",
     "output_type": "stream",
     "text": [
      "@Israelm16432 @Tarjas5 @Cryptobullza @BTC_Archive So this happened to me for 3-weeks and I tried so many means but all failed, luckily for me I got in contact with this Hacker pro.craxk on Instagram, he was the one who helped me, he should help you with yours.\n",
      "Sentiment(polarity=0.1111111111111111, subjectivity=0.5444444444444444)\n"
     ]
    },
    {
     "data": {
      "text/markdown": [
       "<span style='color:green'>Positive</span>"
      ],
      "text/plain": [
       "<IPython.core.display.Markdown object>"
      ]
     },
     "metadata": {},
     "output_type": "display_data"
    },
    {
     "name": "stdout",
     "output_type": "stream",
     "text": [
      "@Barbarasllv6 Boa noite 🔥 chegou com fogo na btc né\n",
      "Sentiment(polarity=0.0, subjectivity=0.0)\n"
     ]
    },
    {
     "data": {
      "text/markdown": [
       "<span style='color:grey'>Neutral</span>"
      ],
      "text/plain": [
       "<IPython.core.display.Markdown object>"
      ]
     },
     "metadata": {},
     "output_type": "display_data"
    },
    {
     "name": "stdout",
     "output_type": "stream",
     "text": [
      "\n",
      "I had a dream that #BTC reached $ 79,000🤔\n",
      "Sentiment(polarity=0.0, subjectivity=0.0)\n"
     ]
    },
    {
     "data": {
      "text/markdown": [
       "<span style='color:grey'>Neutral</span>"
      ],
      "text/plain": [
       "<IPython.core.display.Markdown object>"
      ]
     },
     "metadata": {},
     "output_type": "display_data"
    },
    {
     "name": "stdout",
     "output_type": "stream",
     "text": [
      "\n",
      "Bloc #BTC : 721413 Nombre de transactions entrantes : 6911 Nombre de transactions sortantes : 1469\n",
      "Sentiment(polarity=0.0, subjectivity=0.0)\n"
     ]
    },
    {
     "data": {
      "text/markdown": [
       "<span style='color:grey'>Neutral</span>"
      ],
      "text/plain": [
       "<IPython.core.display.Markdown object>"
      ]
     },
     "metadata": {},
     "output_type": "display_data"
    },
    {
     "name": "stdout",
     "output_type": "stream",
     "text": [
      "\n",
      ". @MicroStrategy now holds 125,051 bitcoins.  Opportunities to use its BTC to generate yield, etc., will increase as more banks enter space, according to CEO Michael @saylor.   https://t.co/GrAd9tTGk6\n",
      "Sentiment(polarity=0.5, subjectivity=0.5)\n"
     ]
    },
    {
     "data": {
      "text/markdown": [
       "<span style='color:green'>Positive</span>"
      ],
      "text/plain": [
       "<IPython.core.display.Markdown object>"
      ]
     },
     "metadata": {},
     "output_type": "display_data"
    },
    {
     "name": "stdout",
     "output_type": "stream",
     "text": [
      "@tyanu_khah 1/2 C’est pas se chauffer qui ne sert a rien. Il voulait dire c’est que c’est le radiateur lui même qui ne sert à rien a part restituer de la chaleur alors que tu pourrais te chauffer avec un mineur de BTC qui restituerait la même chaleur avec sa puissance de calcul.\n",
      "Sentiment(polarity=0.0, subjectivity=0.0)\n"
     ]
    },
    {
     "data": {
      "text/markdown": [
       "<span style='color:grey'>Neutral</span>"
      ],
      "text/plain": [
       "<IPython.core.display.Markdown object>"
      ]
     },
     "metadata": {},
     "output_type": "display_data"
    },
    {
     "name": "stdout",
     "output_type": "stream",
     "text": [
      "\n",
      "@jaygould 30% tax #BTC\n",
      "Sentiment(polarity=0.0, subjectivity=0.0)\n"
     ]
    },
    {
     "data": {
      "text/markdown": [
       "<span style='color:grey'>Neutral</span>"
      ],
      "text/plain": [
       "<IPython.core.display.Markdown object>"
      ]
     },
     "metadata": {},
     "output_type": "display_data"
    },
    {
     "name": "stdout",
     "output_type": "stream",
     "text": [
      "\n",
      "Thoughts on $mstr ? Isn’t the btc value priced in already? What do you think?\n",
      "Sentiment(polarity=0.0, subjectivity=0.0)\n"
     ]
    },
    {
     "data": {
      "text/markdown": [
       "<span style='color:grey'>Neutral</span>"
      ],
      "text/plain": [
       "<IPython.core.display.Markdown object>"
      ]
     },
     "metadata": {},
     "output_type": "display_data"
    },
    {
     "name": "stdout",
     "output_type": "stream",
     "text": [
      "\n",
      "@TheCryptoLark Nobody is talking about the hack wallet with billions of dollars in bitcoin that move the founds from bitfinex yesterday.  I don't get it why people should buy #btc now...???\n",
      "Sentiment(polarity=0.0, subjectivity=0.0)\n"
     ]
    },
    {
     "data": {
      "text/markdown": [
       "<span style='color:grey'>Neutral</span>"
      ],
      "text/plain": [
       "<IPython.core.display.Markdown object>"
      ]
     },
     "metadata": {},
     "output_type": "display_data"
    },
    {
     "name": "stdout",
     "output_type": "stream",
     "text": [
      "\n",
      "$BTC OBV 1D  looking good 👀📌\n",
      "Sentiment(polarity=0.7, subjectivity=0.6000000000000001)\n"
     ]
    },
    {
     "data": {
      "text/markdown": [
       "<span style='color:green'>Positive</span>"
      ],
      "text/plain": [
       "<IPython.core.display.Markdown object>"
      ]
     },
     "metadata": {},
     "output_type": "display_data"
    },
    {
     "name": "stdout",
     "output_type": "stream",
     "text": [
      "@Bitso Si gano ese Bitcoin, dejaré un % en BTC (la cantidad la definiré después) y lo demás lo cambiaré en diferentes cryptos, para tener un portafolio mas amplio.  P.D. Los quiero mucho y los quiero ver triunfar.\n",
      "Sentiment(polarity=0.0, subjectivity=0.0)\n"
     ]
    },
    {
     "data": {
      "text/markdown": [
       "<span style='color:grey'>Neutral</span>"
      ],
      "text/plain": [
       "<IPython.core.display.Markdown object>"
      ]
     },
     "metadata": {},
     "output_type": "display_data"
    },
    {
     "name": "stdout",
     "output_type": "stream",
     "text": [
      "\n",
      "@cattyverse Exceptional logic  but we don't want Cryto bear now Since you are creator of Universe much earlier than Mark Zuckerberg created Metaverse, you can control this and push BTC to SUN\n",
      "Sentiment(polarity=0.3333333333333333, subjectivity=0.75)\n"
     ]
    },
    {
     "data": {
      "text/markdown": [
       "<span style='color:green'>Positive</span>"
      ],
      "text/plain": [
       "<IPython.core.display.Markdown object>"
      ]
     },
     "metadata": {},
     "output_type": "display_data"
    },
    {
     "name": "stdout",
     "output_type": "stream",
     "text": [
      "Tryna fly bae overseas but we up &amp; down like BTC\n",
      "Sentiment(polarity=0.32222222222222224, subjectivity=0.5944444444444444)\n"
     ]
    },
    {
     "data": {
      "text/markdown": [
       "<span style='color:green'>Positive</span>"
      ],
      "text/plain": [
       "<IPython.core.display.Markdown object>"
      ]
     },
     "metadata": {},
     "output_type": "display_data"
    },
    {
     "name": "stdout",
     "output_type": "stream",
     "text": [
      "@saylor #BTC Bossssss 🔥💀🌹🙌💎\n",
      "Sentiment(polarity=0.0, subjectivity=0.0)\n"
     ]
    },
    {
     "data": {
      "text/markdown": [
       "<span style='color:grey'>Neutral</span>"
      ],
      "text/plain": [
       "<IPython.core.display.Markdown object>"
      ]
     },
     "metadata": {},
     "output_type": "display_data"
    },
    {
     "name": "stdout",
     "output_type": "stream",
     "text": [
      "\n"
     ]
    }
   ],
   "source": [
    "for tweet in df['tweet']:\n",
    "    print(tweet)\n",
    "    analysis = TextBlob(tweet)\n",
    "    print(analysis.sentiment)\n",
    "    if analysis.sentiment[0]>0:\n",
    "        printmd('Positive', color=\"green\")\n",
    "    elif analysis.sentiment[0]<0:\n",
    "        printmd('Negative', color=\"red\")\n",
    "    else:\n",
    "        printmd(\"Neutral\", color=\"grey\")\n",
    "        print(\"\")"
   ]
  },
  {
   "cell_type": "code",
   "execution_count": 16,
   "id": "edf25f0e",
   "metadata": {},
   "outputs": [],
   "source": [
    "from textblob import TextBlob\n",
    "from pyspark.sql.functions import udf\n",
    "from pyspark.sql.types import DoubleType\n",
    "# Function to get sentiment \n",
    "def apply_blob(sentence):\n",
    "    temp = TextBlob(sentence).sentiment[0]\n",
    "    if temp == 0.0:\n",
    "        return 0.0 # Neutral\n",
    "    elif temp >= 0.0:\n",
    "        return 1.0 # Positive\n",
    "    else:\n",
    "        return 2.0 # Negative\n",
    "# UDF to write sentiment on DF\n",
    "sentiment = udf(apply_blob, DoubleType())\n",
    "# Transform result to pandas\n",
    "def twint_to_pandas(columns):\n",
    "    return twint.output.panda.Tweets_df[columns]\n",
    "def tweets_sentiment(search, limit=1):\n",
    "    c.Search = search\n",
    "    # Custom output format\n",
    "    c.Format = \"Username: {username} |  Tweet: {tweet}\"\n",
    "    c.Limit = limit\n",
    "    c.Pandas = True\n",
    "    with HiddenPrints():\n",
    "        print(twint.run.Search(c))\n",
    "    \n",
    "    # Transform tweets to pandas DF\n",
    "    df_pd = twint_to_pandas([\"date\", \"username\", \"tweet\", \"hashtags\", \"nlikes\"])\n",
    "    \n",
    "    # Transform Pandas DF to Optimus/Spark DF\n",
    "    df = op.create.data_frame(pdf= df_pd)\n",
    "    \n",
    "    # Clean tweets\n",
    "    clean_tweets = df.cols.remove_accents(\"tweet\") \\\n",
    "                 .cols.remove_special_chars(\"tweet\")\n",
    "    \n",
    "    # Add sentiment to final DF\n",
    "    return clean_tweets.withColumn(\"sentiment\",    sentiment(clean_tweets['tweet']))"
   ]
  },
  {
   "cell_type": "markdown",
   "id": "3e3a8f1b",
   "metadata": {},
   "source": [
    "## Add sentiments to dataframe"
   ]
  },
  {
   "cell_type": "code",
   "execution_count": null,
   "id": "e21d2571",
   "metadata": {},
   "outputs": [],
   "source": []
  }
 ],
 "metadata": {
  "kernelspec": {
   "display_name": "Python 3",
   "language": "python",
   "name": "python3"
  },
  "language_info": {
   "codemirror_mode": {
    "name": "ipython",
    "version": 3
   },
   "file_extension": ".py",
   "mimetype": "text/x-python",
   "name": "python",
   "nbconvert_exporter": "python",
   "pygments_lexer": "ipython3",
   "version": "3.8.8"
  }
 },
 "nbformat": 4,
 "nbformat_minor": 5
}
