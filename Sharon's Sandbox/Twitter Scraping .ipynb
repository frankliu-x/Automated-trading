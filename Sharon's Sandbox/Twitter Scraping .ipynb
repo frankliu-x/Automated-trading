{
 "cells": [
  {
   "cell_type": "code",
   "execution_count": 1,
   "id": "1f9ced0c",
   "metadata": {},
   "outputs": [],
   "source": [
    "#!pip install --user -r requirements.txt"
   ]
  },
  {
   "cell_type": "code",
   "execution_count": 2,
   "id": "198209b9",
   "metadata": {},
   "outputs": [
    {
     "name": "stderr",
     "output_type": "stream",
     "text": [
      "[nltk_data] Downloading package stopwords to /Users/swu/nltk_data...\n",
      "[nltk_data]   Package stopwords is already up-to-date!\n"
     ]
    },
    {
     "name": "stdout",
     "output_type": "stream",
     "text": [
      "1491300578236178434 2022-02-08 22:38:59 -0800 <STLdocks> $IOTX and $ACH are still doing very well against the fall back in btc. The things that still give me hope while I wait on $jasmy $xyo and the never up $spell to come back up lmao!! Alt season is going to be great!\n",
      "1491300577258909696 2022-02-08 22:38:59 -0800 <Bentley11863142> SmartDeFi™ by FEG – Build Your Next Token the SmartDeFi™ Way  https://t.co/evCjdhxNBw  @GGGSmartDefi @BTC_Archive @CoinMarketCap @davidgokhshtein @Next100XGEMS @IvanOnTech @cryptomanran @AltcoinDailyio @TheCryptoLark @BCBacker @Bitboy_Crypto @MMCrypto @cryptojack @ChinaPumpWXC\n",
      "1491300569423749120 2022-02-08 22:38:57 -0800 <BitCoinAlertBot> #BTC has risen by 13.76% in the last week. The price is currently $43701.59.\n",
      "1491300565133172736 2022-02-08 22:38:56 -0800 <umayahsepti> Trending on #LunarCrush:  \"Google Cloud launches agentless cryptojacking malware scanner | ZDNet\" via @ZDNet  Top coin mentions $btc   https://t.co/PC5o5TUJTj\n",
      "1491300548230131713 2022-02-08 22:38:52 -0800 <bava23> @safalniveshak #btc works 24/7\n",
      "1491300546132975616 2022-02-08 22:38:51 -0800 <_CRYPTO_ART_> Hello everyone 🔥On $BTC at the moment we have rejected the STRONG upper line of the Fibonacci gold pocket and I expect lower prices in the area of ~$41,000 for retest📉 Also we are very oversold on 1D candles and 12H candles📉 #Bitcoin #Crypto  https://t.co/ZFtNwjXn06\n",
      "1491300535227813893 2022-02-08 22:38:49 -0800 <ZachRector7> @saylor about to be the only person willing to buy that Bitcoin from the government. #BTC\n",
      "1491300505380868097 2022-02-08 22:38:42 -0800 <BTC_binance1> こちらの招待IDか固定ツイートのURLからバイナンスへ登録して頂くと取引額から手数料20%が永久に割引されます。  是非ご利用ください。  ID:FKZ6AXPG   15:38 #Binance  #BTC x\n",
      "1491300498993205249 2022-02-08 22:38:40 -0800 <TropicalPunter> @cryptogemguy @scatblingbling @CryptmundFreud @btc_sol Gouda boys we eatin\n",
      "1491300494643728385 2022-02-08 22:38:39 -0800 <VatsalNath3> @AlecoNFT @SadBoyz_NFT @sadboyprolific @Bitcoin @cryptocom\n",
      "1491300491242143745 2022-02-08 22:38:38 -0800 <darwonboy> You have to respect someone that's a self proclaimed btc maxi, that's not scared to give credit to an other crypto.  This is good.\n",
      "1491300481314213890 2022-02-08 22:38:36 -0800 <10_FORTYONE> That being said, if you're going to show part of the picture, make sure you also show the whole picture. Amazon went parabolic after several years of consolidation. Will BTC do the same, or will it level off and find a new stable market value? 🤷‍♂️  https://t.co/lfoa31WwOf\n",
      "1491300477711306752 2022-02-08 22:38:35 -0800 <Luna22627436> 7000$ in $ETH &amp; #NFT 7 winners!  To win:                        1. Follow me 2. Like &amp; Retweet  3. Join -  https://t.co/JIeeTjrfi6 4. Drop your wallet address👍 $SHIB $BTC $JOZ $ETH $GALA $DOGE $ADA $MATIC  https://t.co/7M3EIyrKZg\n",
      "1491300477572890624 2022-02-08 22:38:35 -0800 <10_FORTYONE> actually, considered a bullish pattern. BTC's PA is playing out very similar to the early Amazon days before the  https://t.co/0bKZqEwE1M bubble burst. The Andrews pitchfork channel corroborates the harmonics. Regulations will play a huge factor in what happens at Point D.\n",
      "1491300475270238210 2022-02-08 22:38:34 -0800 <10_FORTYONE> $BTC #BTC Weekly: Amazon and BTC are not the same in the least. One is a private company and one is decentralized currency. This is strictly a side by side comparison of chart dynamics and what is most likely to occur with this macro formation. The \"Shark\" harmonic pattern is..  https://t.co/nKhBX1Ysn3\n",
      "1491300459671265280 2022-02-08 22:38:31 -0800 <OsmanBey585858> @NedirBuCoin Btc düşecek ne 50K sı.\n",
      "1491300457033396224 2022-02-08 22:38:30 -0800 <AgarthaBitcoin> @BitcoinErrorLog People will pay a bigger price on their privacy once fiat cash becomes digital.. sounds like am repeating my self for 4+ years  The future will be interesting.. that’s why I buy land/properties with my btc profits that I’ve paid taxes on  This is the tax monster of the millennium  https://t.co/vWZdnYY3X0\n",
      "1491300453241565184 2022-02-08 22:38:29 -0800 <bearishbulltard> $btc  Already made a higher low on the daily timeframe and closed yesterday with technically a higher high as well. Very small HH, so preferable is to close the current daily green as well, but at least the downtrend seems broken and bears start crying.  https://t.co/8i2mwAGpWi\n",
      "1491300452096671745 2022-02-08 22:38:29 -0800 <TraderEcua> @BillSPACman So happy it is untraceable and decentralized. Second time the government seized btc. 😆\n",
      "1491300443540307969 2022-02-08 22:38:27 -0800 <mustakin3683> #11MINUTES #BTC #CRYPTO\n",
      "1491300435352858626 2022-02-08 22:38:25 -0800 <ExcelTradingBot> PrimeXBTPremiumBot$ignal $BTC #Bitcoin  Place market Sell trade for BTC/USDT market price at present on @PrimeXBT is 43669.0. This is the 120 minute BOT\n",
      "1491300416893566976 2022-02-08 22:38:21 -0800 <moneyizmm> #IOTA #iotausdt   🏆🏆🏆  #BTC salarsa yine 1.00+  dikkat etmek lazim  yeni girisi  https://t.co/kIrbqegZ16\n",
      "1491300369355444225 2022-02-08 22:38:09 -0800 <coincapitan> $BTC Price: $43753 $ETH Price: $3099 $LTC Price: $137  Next update in 10 minutes Last updated: 1:38:9.01\n",
      "1491300357896835074 2022-02-08 22:38:07 -0800 <bittu_crypto> the strongest bullish signal flashed for #Bitcoin. Not trend reverse but price bounce is anticipated!  @Tradeosiann  is a super #crypto Trader  I’ve been following his tweets and tips seriously &amp; I’ve been doing great #Metaverse #BTC #DOGE #NFTmm\n",
      "1491300346396016640 2022-02-08 22:38:04 -0800 <Aida122962> @BTC_Archive $aida122962\n",
      "1491300333984915461 2022-02-08 22:38:01 -0800 <CryptofalkaH> Az Audius (AUDIO) egy blokklánc alapú decentralizált zenei platform, melynek célja, hogy a zeneipar hagyományos közvetítőit kirekesztve visszaadja a zenészek kezébe az alkotásaik feletti teljes kontrollt.  . #kriptovaluta #blokklánc #befektetés #btc #Audio  https://t.co/WJ3cYecl7l\n",
      "1491300329677201409 2022-02-08 22:38:00 -0800 <bittu_crypto> the strongest bullish signal flashed for #Bitcoin. Not trend reverse but price bounce is anticipated!  @Tradeosiann  is a super #crypto Trader  I’ve been following his tweets and tips seriously &amp; I’ve been doing great #Metaverse #BTC #DOGE #NFTnn\n",
      "1491300328360538116 2022-02-08 22:37:59 -0800 <alhamdulillahok> @_TokenHunter @AGFI_Official @BTC_fairy Could you please give your opinion on the quite unfortunate issue of privacy coin been delisted on some popular exchanges like Bittrex due to reasons of been used for dark web and money laundering? Do you see that as a barrier to the mass adoption? @KingVic82 @TRA_M1 @King_TRA2\n",
      "1491300326296928257 2022-02-08 22:37:59 -0800 <Alex82638080> @johan_ragnorak3 @TheCryptoLark They are returning the btc to the exchange it was stolen from. 🤦\n",
      "1491300313353326594 2022-02-08 22:37:56 -0800 <StijnAllaerts> @wmiddelkoop I think you mean 100k, or I will buy all the new BTC 😁\n",
      "1491300311860150275 2022-02-08 22:37:56 -0800 <shibucr4> Trending on #LunarCrush:  \"Man gets jail for forging payslips with higher salary to get credit card for Bitcoin purchases\" via @ChannelNewsAsia  Top coin mentions $btc   https://t.co/94W9FMqeEB\n",
      "1491300287113752580 2022-02-08 22:37:50 -0800 <BTCteacher1> [ご報告] 9000人もの方にフォローいただけました☺️ ビットコイン分析をメインにしていますが、それがたくさんの人に参考になっていると思うと嬉しいです👨‍🏫  前回のように上がるアルトコインなどに関する情報も、需要があれば今後たくさん発信しようと思いますので見たい方はいいねお願いします👍 ＃BTC\n",
      "1491300269552193538 2022-02-08 22:37:45 -0800 <rezagarena1> @tmv_crypto how long do you think btc will stay up before it goes down ?\n",
      "1491300263009091588 2022-02-08 22:37:44 -0800 <MelisAksoyFx> Bitcoin (BTC), dün 45 bin dolara ulaşmayı başardı. Bununla birlikte, kısmi bir geri çekilme yaşıyor ve an itibariyle yüzde 1.75 düşüşle 43.321 dolardan  işlem görüyor. Son fiyat artışıyla birlikte Bitcoin, Kasım ayından bu yana düşen trend çizgisinden çıkmayı başardı\n",
      "1491300240246571008 2022-02-08 22:37:38 -0800 <DaturaDaimonic> xpect volatility in $BTC\n",
      "1491300235158880259 2022-02-08 22:37:37 -0800 <FransCharts> BREAKING: The Russian government and central bank have just reached an agreement on cryptocurrencies, according to Russia's Kommersant.  Both organizations will treat bitcoin and crypto-assets as currencies. #btc 🙌🔥\n",
      "1491300227747545092 2022-02-08 22:37:35 -0800 <Okennaokechukwu> Trending on #LunarCrush:  \"BREAKING: #Bitcoin to be recognized as legal currency in Russia. 🇷🇺\" via @WatcherGuru  Top coin mentions $btc   https://t.co/pFVrQOgc9K\n",
      "1491300223876059137 2022-02-08 22:37:35 -0800 <Cryptoacademysp> 'Powder keg’: FSInsight report says a single spark could see BTC 5X  https://t.co/ltOqYR1sJk  https://t.co/RVlmfoMjqC\n",
      "1491300205135859714 2022-02-08 22:37:30 -0800 <cryptomarketbot> 1. BTC --  43,773.35331 USD 2. ETH --  3,100.21849 USD 3. BNB --  414.39695 USD 4. XRP --  0.86268 USD 5. ADA --  1.18295 USD 6. DOT --  21.51834 USD 7. DOGE --  0.15732 USD 8. LTC --  137.86034 USD 9. LINK --  18.11281 USD 10. TRX -- 0.06815 USD\n",
      "1491300182054825984 2022-02-08 22:37:25 -0800 <Baize_Research> 福布斯“区块链 50 强”中的大公司正在使用区块链做什么？   https://t.co/2kKN0c0GhU  #cryptocurrecy #Blockchain #BTC\n",
      "1491300174223663106 2022-02-08 22:37:23 -0800 <rcubed17> @OSovol @myna_threat @disclosetv @deyonte_btc Well if you look at the founding of our country and how easy it's been for communist supporting Democrats to violate the constitution he has a very valid point.  Democracy only works if the people make it work and stop voting for free stuff or working for foreign countries\n",
      "1491300171506139136 2022-02-08 22:37:22 -0800 <iamJasonSharp> It really is to be used (BTC) sure this could be one of the largest asset classes in the world, but you'll probably be 6ft under when it happens. And the sailors will already be returned to earth. They are coming to the end of the road why wouldn't they keep spouting? Seegoldbugs\n",
      "1491300167735255043 2022-02-08 22:37:21 -0800 <NewsDopamine> 'Powder keg’: FSInsight report says a single spark could see BTC 5X  https://t.co/pIPpOHVjJy\n"
     ]
    },
    {
     "name": "stdout",
     "output_type": "stream",
     "text": [
      "1491300166506524675 2022-02-08 22:37:21 -0800 <iamJasonSharp> Thoughts on BTC.. Since we now have futures contracts on BTC, like gold, people no longer need the underlying asset to trade it, they use paper contracts.   Now the two of three biggest powers have an agreement 🤝, in my opinion, to manipulate the price.  https://t.co/fXB6BWGkJC\n",
      "1491300165025943552 2022-02-08 22:37:21 -0800 <nono01022> @INVESTMENTSHULK @captainweb  Contexte : ces gens sont suspecté d’avoir participé au Hack de Bitfinex en 2016 ( 160k BTC = 3,6 MIYIARS DE $) .  Un pur produit de l’intelligence humaine.  Ils sont été arrêtés par la CIA mardi.\n",
      "1491300157497163776 2022-02-08 22:37:19 -0800 <bittu_crypto> the strongest bullish signal flashed for #Bitcoin. Not trend reverse but price bounce is anticipated!  @Tradeosiann  is a super #crypto Trader  I’ve been following his tweets and tips seriously &amp; I’ve been doing great #Metaverse #BTC #DOGE #NFT🤞\n",
      "1491300151415435267 2022-02-08 22:37:17 -0800 <popstarkiller> still early? sumthing wrong with your head dude $btc  https://t.co/OAwSQzrLWj\n",
      "1491300143961886723 2022-02-08 22:37:15 -0800 <wanhedaTheI00> @semih_aktrk @crypto_gunlugum @stevedabitcoin Btc yerine avax alsan daha kârlı olursun.\n",
      "1491300142313783299 2022-02-08 22:37:15 -0800 <Qamarbi53147752> Btc\n",
      "1491300138945748993 2022-02-08 22:37:14 -0800 <themis_mag> @BullishRippers BTC TSLA all you need bro and thank me in 5 years.\n",
      "1491300132692062208 2022-02-08 22:37:13 -0800 <ClawXbt> $DYDX 1D  Unless $BTC nukes this is looking really good. Flipped S/R and diagonal that's been in play since early October. Worth a punt.  https://t.co/O4PeXOCxDn\n",
      "1491300120423694339 2022-02-08 22:37:10 -0800 <jpjwpxg_xpmpgmg> @ColinNFT @StonerApeClub @bitman_billion @btc_orderalert @Soju17_\n",
      "1491300117282168832 2022-02-08 22:37:09 -0800 <bittu_crypto> the strongest bullish signal flashed for #Bitcoin. Not trend reverse but price bounce is anticipated!  @Tradeosiann  is a super #crypto Trader  I’ve been following his tweets and tips seriously &amp; I’ve been doing great #Metaverse #BTC #DOGE #NFT🦵\n",
      "1491300098680451072 2022-02-08 22:37:05 -0800 <bittu_crypto> the strongest bullish signal flashed for #Bitcoin. Not trend reverse but price bounce is anticipated!  @Tradeosiann  is a super #crypto Trader  I’ve been following his tweets and tips seriously &amp; I’ve been doing great #Metaverse #BTC #DOGE #NFT✋✋\n",
      "1491300097661218816 2022-02-08 22:37:04 -0800 <BigAl66667288> @Gregariou1 @100trillionUSD @TimeFreedomROB Does not work if you zoom out on BTC chart, plan b makes more sense\n",
      "1491300095245324289 2022-02-08 22:37:04 -0800 <yunyivip1> #BTC 今日行情分析。 具体情况以操作为主。 昨晚理论上来讲要跌就是最好的时机。 我是看41000附近的。 没有跌下去，表明市场多头的强势。 昨晚的42500算是一个支撑位了 今天的话就逢低做多。 做好风控，设好止损😻 祝大家好运😊😘#区块链  转发关注+3月有惊喜密码 @yunyivip1  https://t.co/9Vi8QYa5NS\n",
      "1491300089620402176 2022-02-08 22:37:03 -0800 <CryptoTraderPro> $BTCUSD 🚨  Bitcoin Price Prediction: BTC/USD Trades Near $45,000 Resistance - InsideBitcoins  https://t.co/dXGZAsVjgh 🙋 Bet with $BTC via  https://t.co/4h0cyuWSHk √\n",
      "1491300076840714243 2022-02-08 22:36:59 -0800 <TheTwatter3> @BITCOIN_OR_HFSP @JLesinskis @notgrubles It's not rocketscience, but if she doesn't understand how this works she shouldn't buy BTC in the first place. Not to mention, I don't even like BTC to begin with. There are much better coins\n",
      "1491300074361856000 2022-02-08 22:36:59 -0800 <bittu_crypto> the strongest bullish signal flashed for #Bitcoin. Not trend reverse but price bounce is anticipated!  @Tradeosiann  is a super #crypto Trader  I’ve been following his tweets and tips seriously &amp; I’ve been doing great #Metaverse #BTC #DOGE #NFT😒\n",
      "1491300074143772673 2022-02-08 22:36:59 -0800 <HYCRYM> Treasury just went over 800 million and there’s still talk of “winding down”  @Wonderland_fi and that’s Crazy!🧠 $Wmemo $Time # #Crypto #BTC\n",
      "1491300066841460741 2022-02-08 22:36:57 -0800 <ArwaaLone> @futrii Only if BTC stays above the current price level. If it dumps again,it will be huge but final dump most probably.\n",
      "1491300064920223745 2022-02-08 22:36:57 -0800 <Bifrost_Crypto> Last prices updates:   #BTC: $43,709.994 0.70% 💚 #ETH: $3,095.554 0.61% 💚 #USDT: $1.001 0.02% 💚 #BNB: $413.722 0.82% 💚 #USDC: $1.000 -0.01% 💔 #XRP: $0.862 0.54% 💚 #ADA: $1.181 0.99% 💚 #HEX: $0.208 -0.10% 💔 #SOL: $111.287 0.99% 💚 #LUNA: $55.514 0.33% 💚\n",
      "1491300060113825792 2022-02-08 22:36:56 -0800 <Mallardshead> @Wrightsinvest @JeffBooth Yes, in an exponentially inflationary system. This is what people's minds are wired for, thus your mainstream taking point. Ur assuming this is the order that will always be, and that #btc will just exist in it. But btc is the transition out of it--not designed for half measures.\n",
      "1491300057676611586 2022-02-08 22:36:55 -0800 <invernere> $btc 44k flipped back to resistance. With thousands of coins about to be dumped on the market, and not much spot buying even before that….not really a good look. But bulltards will continue to throw you Rorschach charts to convince you otherwise .\n",
      "1491300039687565312 2022-02-08 22:36:51 -0800 <BrimstonedLLC> Yours for the low, low price of 1000 #BTC!  https://t.co/BHpOpsJI9R\n",
      "1491300023845650434 2022-02-08 22:36:47 -0800 <0xCryptoChan> $BTC 【指标更新】SSR强势突破下轨，暴拉正当时💪  #Bitcoin #cryptocurrency  https://t.co/WZeOst0kzz\n",
      "1491300021853061128 2022-02-08 22:36:46 -0800 <IcemanRafcio> @not_katarina Btc 100k 😂😂\n",
      "1491300019890102275 2022-02-08 22:36:46 -0800 <IAmRandomBot> Current #Bitcoin Price is $43710 #BTC #Crypto\n",
      "1491300002450542594 2022-02-08 22:36:42 -0800 <KAPTAN775ALI> @Coinator_1 Hocam müsait olduğunuzda btc sinyalleri atarmısın\n",
      "1491300000093306884 2022-02-08 22:36:41 -0800 <VillagerUseless> @lastmjs icBTC or dBTC (Dfinity BTC)\n",
      "1491299993848004612 2022-02-08 22:36:40 -0800 <btc_status> #BTC Derivs Sheet (Tweet every 15 min.) CME Delayed (10 min) GS Delayed (15 min) and OI = SHARES OUT  https://t.co/3n6OGkbkX5\n",
      "1491299975241908225 2022-02-08 22:36:35 -0800 <cryptotrendin> Top 5 Mentions Updated Every 15 Minutes    [BETA STAGE] Except BTC and ETH      1- $XRP:666464 point 🚀    2- $XTZ:478448 point 🚀    3- $NKN:417880 point 🚀    4- $IOTA:408994 point 🚀    5- $SOL:397886 point 🚀\n",
      "1491299973270441984 2022-02-08 22:36:35 -0800 <goldminerpulse> Lose your keys, then it's not your #BTC.\n",
      "1491299951137390592 2022-02-08 22:36:30 -0800 <Mister100x> Ok. It's official.   https://t.co/qkoMfmenPR  #Russia is preparing to legalize #crypto and treat it as #currency! $BTC $ETH $CELL\n",
      "1491299950994821122 2022-02-08 22:36:29 -0800 <bittu_crypto> the strongest bullish signal flashed for #Bitcoin. Not trend reverse but price bounce is anticipated!  @Tradeosiann  is a super #crypto Trader  I’ve been following his tweets and tips seriously &amp; I’ve been doing great #Metaverse #BTC #DOGE #NFTR\n",
      "1491299941834436609 2022-02-08 22:36:27 -0800 <TakipTrend> Traders lose their discipline for the same reason as people who start diets or start sports to get in shape.   https://t.co/zHyS4LAXg9   https://t.co/zlEFp7ykNd  #Metaverse #NFT #BTC #invest #Domains #ETH\n",
      "1491299937346547717 2022-02-08 22:36:26 -0800 <RiponDe17038493> Trending on #LunarCrush:  \"Shiba Inu Team Announces Decentraland Competitor\" via @Utoday_en  Top coin mentions $btc $mana   https://t.co/C8FEDuWneC\n",
      "1491299932367880192 2022-02-08 22:36:25 -0800 <bittu_crypto> the strongest bullish signal flashed for #Bitcoin. Not trend reverse but price bounce is anticipated!  @Tradeosiann  is a super #crypto Trader  I’ve been following his tweets and tips seriously &amp; I’ve been doing great #Metaverse #BTC #DOGE #NFTM\n",
      "1491299929301860354 2022-02-08 22:36:24 -0800 <Coinator_1> #1INCHUSDT Direnç kırılımı ve onay hareketi mevcut. 2.25$ hedefi var fakat 1.98$ direnci geçilmesi gerekiyor.  #Bitcoin #BTC  https://t.co/XJAp1DLvSr\n",
      "1491299925421961217 2022-02-08 22:36:23 -0800 <btcinday_> O BTC caiu para R$ 229.985 - 😕\n",
      "1491299919025811456 2022-02-08 22:36:22 -0800 <bittu_crypto> the strongest bullish signal flashed for #Bitcoin. Not trend reverse but price bounce is anticipated!  @Tradeosiann  is a super #crypto Trader  I’ve been following his tweets and tips seriously &amp; I’ve been doing great #Metaverse #BTC #DOGE #NFTC\n",
      "1491299906019270657 2022-02-08 22:36:19 -0800 <madamkripto34> #BTC  alt coinler harekete hazır patlama bir habere bakar 💪⏳\n",
      "1491299894099079169 2022-02-08 22:36:16 -0800 <alhamdulillahok> @_TokenHunter @AGFI_Official @BTC_fairy @KingVic82 @TRA_M1 @King_TRA2\n",
      "1491299893067251714 2022-02-08 22:36:16 -0800 <bittu_crypto> the strongest bullish signal flashed for #Bitcoin. Not trend reverse but price bounce is anticipated!  @Tradeosiann  is a super #crypto Trader  I’ve been following his tweets and tips seriously &amp; I’ve been doing great #Metaverse #BTC #DOGE #NFTJ\n",
      "1491299883349049344 2022-02-08 22:36:13 -0800 <vichukd11> BREAKING - The U.S. Government now holds $3.6B of $BTC   Bullish. That’s it.\n",
      "1491299882270789632 2022-02-08 22:36:13 -0800 <Clementberlie> 94000 #BTC d’une valeur de 3,6B$ saisie au #EtatsUnis . Pour tout les détracteurs des #cryptomonnaie, je vous souligne le commentaire de @LisaMonaco qui est totalement exact !  https://t.co/an2E36KFIz\n",
      "1491299876982095874 2022-02-08 22:36:12 -0800 <Mslincoln1085> @campdavidtraing @Rodney_589 @YaGha01 @PeterSchiff I hate to break it to you, but people will lose money in any asset they invest in at some point. Hills and valleys. No asset perpetually goes up.  Long-term investors in BTC likely lost money as well given the recent crashes in the Crypto market.\n",
      "1491299874255831040 2022-02-08 22:36:11 -0800 <rainbow_cat222> #仮想通貨　#BTC #XRP #MONA #Rossiya\n",
      "1491299872565186566 2022-02-08 22:36:11 -0800 <WoodySFM> @JCrypto50 @realFUD @miamordineroxo It's been repeated multiple times that the people that hold those spaces are specifically doing it on purpose to get the SFM army in there and then conduct fud. MC Donald's prick \"brain\"and his BTC maxis have their agenda.\n",
      "1491299862591127552 2022-02-08 22:36:08 -0800 <alhamdulillahok> @_TokenHunter @AGFI_Official @BTC_fairy Too many projects promise magic but never release any working product or prove any revenue, Within a short/long time of release. Is it like this? If not can u tell us, What makes it different from other projects?\n",
      "1491299854546784258 2022-02-08 22:36:06 -0800 <bittu_crypto> the strongest bullish signal flashed for #Bitcoin. Not trend reverse but price bounce is anticipated!  @Tradeosiann  is a super #crypto Trader  I’ve been following his tweets and tips seriously &amp; I’ve been doing great #Metaverse #BTC #DOGE #NFTg\n",
      "1491299840554594304 2022-02-08 22:36:03 -0800 <AbbasHassani25> @RobinhoodIran @ImanOracle So what is the point of your whole tweet when you just confirmed that US government should give all the BTC back to the rightful owners?\n",
      "1491299838948179968 2022-02-08 22:36:03 -0800 <EsukheiEnkh> @Hotmoontoken @Bitcoin HotMoon, we are many, we are together, we are on the moon\n"
     ]
    },
    {
     "name": "stdout",
     "output_type": "stream",
     "text": [
      "1491299834657390592 2022-02-08 22:36:02 -0800 <bittu_crypto> the strongest bullish signal flashed for #Bitcoin. Not trend reverse but price bounce is anticipated!  @Tradeosiann  is a super #crypto Trader  I’ve been following his tweets and tips seriously &amp; I’ve been doing great #Metaverse #BTC #DOGE #NFT÷×\n",
      "1491299832996446209 2022-02-08 22:36:01 -0800 <shibucr4> Trending on #LunarCrush:  \"Ukrainians are using bitcoin to crowdfund Russian war, says blockchain analyst\" via @MarketWatch  Top coin mentions $btc   https://t.co/t4Aes12UNs\n",
      "1491299831478112256 2022-02-08 22:36:01 -0800 <saamon2500> BTCはたかしが触り始めたら触ることにします。\n",
      "1491299826159734785 2022-02-08 22:36:00 -0800 <EmikoSevern> ビットコインやリップル、イーサリアム等の仮想通貨を取引してる方、興味がある方、日本初海外取引所bitarzに無料登録で1万円分のbtcが貰えます。この資金でレバレッジ888倍のfx取引をして資金を一気に増やしませんか？ゼロカットでリスクなし登録はメアドだけで可能  https://t.co/HQqi2JL7QV\n",
      "1491299823164993537 2022-02-08 22:35:59 -0800 <vijay5972> @WazirXCares @ajmerapriyansh2 @NischalShetty @shardeum Add #BabyDoge also..Just for Fun like Shib n Doge n BTC\n",
      "1491299820828561411 2022-02-08 22:35:58 -0800 <enderton_justin> BTC UPDATE! for BINANCE #Trading #bitcoin via  https://t.co/Yd1zxcM76n  https://t.co/Hv8Rg1YlXf\n",
      "1491299817011957760 2022-02-08 22:35:58 -0800 <bittu_crypto> the strongest bullish signal flashed for #Bitcoin. Not trend reverse but price bounce is anticipated!  @Tradeosiann  is a super #crypto Trader  I’ve been following his tweets and tips seriously &amp; I’ve been doing great #Metaverse #BTC #DOGE #NFT••\n",
      "1491299800259923968 2022-02-08 22:35:54 -0800 <bittu_crypto> the strongest bullish signal flashed for #Bitcoin. Not trend reverse but price bounce is anticipated!  @Tradeosiann  is a super #crypto Trader  I’ve been following his tweets and tips seriously &amp; I’ve been doing great #Metaverse #BTC #DOGE #NFTππ\n",
      "1491299795537100800 2022-02-08 22:35:52 -0800 <RajaramGopinath> This is just the beginning of the $XRP flipping $BTC. This will not happen immediately though. #XRPArmy #XRPCommunity\n",
      "1491299784438992897 2022-02-08 22:35:50 -0800 <bittu_crypto> the strongest bullish signal flashed for #Bitcoin. Not trend reverse but price bounce is anticipated!  @Tradeosiann  is a super #crypto Trader  I’ve been following his tweets and tips seriously &amp; I’ve been doing great #Metaverse #BTC #DOGE #NFT¶\n",
      "1491299767804379136 2022-02-08 22:35:46 -0800 <bittu_crypto> the strongest bullish signal flashed for #Bitcoin. Not trend reverse but price bounce is anticipated!  @Tradeosiann  is a super #crypto Trader  I’ve been following his tweets and tips seriously &amp; I’ve been doing great #Metaverse #BTC #DOGE #NFT∆\n",
      "1491299749190057987 2022-02-08 22:35:41 -0800 <Cryptogkbtc> BREAKING - The U.S. Government now holds $3.6B of $BTC   Bullish.  https://t.co/ztJbXUm1lH\n"
     ]
    }
   ],
   "source": [
    "import sys\n",
    "import os\n",
    "# Set up TWINT config\n",
    "import twint\n",
    "# Solve compatibility issues with notebooks and RunTime errors.\n",
    "import nest_asyncio\n",
    "\n",
    "# stopword\n",
    "import nltk\n",
    "from nltk.corpus import stopwords\n",
    "nltk.download('stopwords')\n",
    "sw_nltk = stopwords.words('english')\n",
    "\n",
    "\n",
    "nest_asyncio.apply()\n",
    "c = twint.Config()\n",
    "c.Search = \"BTC\"\n",
    "c.Lang = \"en\"\n",
    "# c.Username = \"noneprivacy\"\n",
    "# c.Custom[\"tweet\"] = [\"id\"]\n",
    "# c.Custom[\"user\"] = [\"bio\"]\n",
    "\n",
    "c.Store_pandas = True\n",
    "# c.Store_csv = True\n",
    "# c.Output = \"test.csv\"\n",
    "c.Limit = 100\n",
    "c.Pandas = True\n",
    "twint.run.Search(c)"
   ]
  },
  {
   "cell_type": "code",
   "execution_count": 4,
   "id": "d10bbd31",
   "metadata": {},
   "outputs": [
    {
     "name": "stdout",
     "output_type": "stream",
     "text": [
      "<class 'pandas.core.frame.DataFrame'>\n",
      "RangeIndex: 105 entries, 0 to 104\n",
      "Data columns (total 7 columns):\n",
      " #   Column     Non-Null Count  Dtype \n",
      "---  ------     --------------  ----- \n",
      " 0   date       105 non-null    object\n",
      " 1   username   105 non-null    object\n",
      " 2   tweet      105 non-null    object\n",
      " 3   hashtags   105 non-null    object\n",
      " 4   nreplies   105 non-null    int64 \n",
      " 5   nretweets  105 non-null    int64 \n",
      " 6   nlikes     105 non-null    int64 \n",
      "dtypes: int64(3), object(4)\n",
      "memory usage: 5.9+ KB\n"
     ]
    }
   ],
   "source": [
    "# Transform result to pandas\n",
    "def twint_to_pandas(columns):\n",
    "    return twint.output.panda.Tweets_df[columns]\n",
    "df = twint_to_pandas([\"date\", \"username\",\"tweet\", \"hashtags\", \"nreplies\", \"nretweets\",\"nlikes\"])\n",
    "df.info()"
   ]
  },
  {
   "cell_type": "code",
   "execution_count": 5,
   "id": "4eaf8e76",
   "metadata": {},
   "outputs": [
    {
     "data": {
      "text/html": [
       "<div>\n",
       "<style scoped>\n",
       "    .dataframe tbody tr th:only-of-type {\n",
       "        vertical-align: middle;\n",
       "    }\n",
       "\n",
       "    .dataframe tbody tr th {\n",
       "        vertical-align: top;\n",
       "    }\n",
       "\n",
       "    .dataframe thead th {\n",
       "        text-align: right;\n",
       "    }\n",
       "</style>\n",
       "<table border=\"1\" class=\"dataframe\">\n",
       "  <thead>\n",
       "    <tr style=\"text-align: right;\">\n",
       "      <th></th>\n",
       "      <th>date</th>\n",
       "      <th>username</th>\n",
       "      <th>tweet</th>\n",
       "      <th>hashtags</th>\n",
       "      <th>nreplies</th>\n",
       "      <th>nretweets</th>\n",
       "      <th>nlikes</th>\n",
       "    </tr>\n",
       "  </thead>\n",
       "  <tbody>\n",
       "    <tr>\n",
       "      <th>0</th>\n",
       "      <td>2022-02-08 22:38:59</td>\n",
       "      <td>STLdocks</td>\n",
       "      <td>$IOTX and $ACH are still doing very well again...</td>\n",
       "      <td>[]</td>\n",
       "      <td>0</td>\n",
       "      <td>0</td>\n",
       "      <td>0</td>\n",
       "    </tr>\n",
       "    <tr>\n",
       "      <th>1</th>\n",
       "      <td>2022-02-08 22:38:59</td>\n",
       "      <td>Bentley11863142</td>\n",
       "      <td>SmartDeFi™ by FEG – Build Your Next Token the ...</td>\n",
       "      <td>[]</td>\n",
       "      <td>0</td>\n",
       "      <td>0</td>\n",
       "      <td>0</td>\n",
       "    </tr>\n",
       "    <tr>\n",
       "      <th>2</th>\n",
       "      <td>2022-02-08 22:38:57</td>\n",
       "      <td>BitCoinAlertBot</td>\n",
       "      <td>#BTC has risen by 13.76% in the last week. The...</td>\n",
       "      <td>[btc]</td>\n",
       "      <td>0</td>\n",
       "      <td>0</td>\n",
       "      <td>0</td>\n",
       "    </tr>\n",
       "    <tr>\n",
       "      <th>3</th>\n",
       "      <td>2022-02-08 22:38:56</td>\n",
       "      <td>umayahsepti</td>\n",
       "      <td>Trending on #LunarCrush:  \"Google Cloud launch...</td>\n",
       "      <td>[lunarcrush]</td>\n",
       "      <td>0</td>\n",
       "      <td>0</td>\n",
       "      <td>0</td>\n",
       "    </tr>\n",
       "    <tr>\n",
       "      <th>4</th>\n",
       "      <td>2022-02-08 22:38:52</td>\n",
       "      <td>bava23</td>\n",
       "      <td>@safalniveshak #btc works 24/7</td>\n",
       "      <td>[btc]</td>\n",
       "      <td>0</td>\n",
       "      <td>0</td>\n",
       "      <td>0</td>\n",
       "    </tr>\n",
       "  </tbody>\n",
       "</table>\n",
       "</div>"
      ],
      "text/plain": [
       "                  date         username  \\\n",
       "0  2022-02-08 22:38:59         STLdocks   \n",
       "1  2022-02-08 22:38:59  Bentley11863142   \n",
       "2  2022-02-08 22:38:57  BitCoinAlertBot   \n",
       "3  2022-02-08 22:38:56      umayahsepti   \n",
       "4  2022-02-08 22:38:52           bava23   \n",
       "\n",
       "                                               tweet      hashtags  nreplies  \\\n",
       "0  $IOTX and $ACH are still doing very well again...            []         0   \n",
       "1  SmartDeFi™ by FEG – Build Your Next Token the ...            []         0   \n",
       "2  #BTC has risen by 13.76% in the last week. The...         [btc]         0   \n",
       "3  Trending on #LunarCrush:  \"Google Cloud launch...  [lunarcrush]         0   \n",
       "4                     @safalniveshak #btc works 24/7         [btc]         0   \n",
       "\n",
       "   nretweets  nlikes  \n",
       "0          0       0  \n",
       "1          0       0  \n",
       "2          0       0  \n",
       "3          0       0  \n",
       "4          0       0  "
      ]
     },
     "execution_count": 5,
     "metadata": {},
     "output_type": "execute_result"
    }
   ],
   "source": [
    "df.head(5)"
   ]
  },
  {
   "cell_type": "markdown",
   "id": "c8881a20",
   "metadata": {},
   "source": [
    "## Sentiment analysis"
   ]
  },
  {
   "cell_type": "markdown",
   "id": "3027b4a3",
   "metadata": {},
   "source": [
    "### 1. Preprocessing"
   ]
  },
  {
   "cell_type": "code",
   "execution_count": 9,
   "id": "e02e9c7c",
   "metadata": {},
   "outputs": [],
   "source": [
    "def clean_anonymization(tweet):\n",
    "    res=[]\n",
    "    # Lowercase\n",
    "    tweet = tweet.lower()\n",
    "    # Remove single letter words\n",
    "    # tweet = ' '.join( [w for w in tweet.split() if len(w)>1] )\n",
    "    # Remove stopword\n",
    "    tweet = ' '.join([word for word in tweet.split() if word.lower() not in sw_nltk])\n",
    "    for i in tweet.split():\n",
    "        # remove the word after@\n",
    "        if i.startswith(\"@\") or i.startswith(\"#\"):\n",
    "            continue\n",
    "        else:\n",
    "            res.append(i)\n",
    "    return ' '.join(res)"
   ]
  },
  {
   "cell_type": "code",
   "execution_count": 10,
   "id": "003ca7cd",
   "metadata": {},
   "outputs": [
    {
     "name": "stderr",
     "output_type": "stream",
     "text": [
      "<ipython-input-10-79f1e2b532d2>:1: SettingWithCopyWarning: \n",
      "A value is trying to be set on a copy of a slice from a DataFrame.\n",
      "Try using .loc[row_indexer,col_indexer] = value instead\n",
      "\n",
      "See the caveats in the documentation: https://pandas.pydata.org/pandas-docs/stable/user_guide/indexing.html#returning-a-view-versus-a-copy\n",
      "  df['tweet']=df['tweet'].apply(lambda x:clean_anonymization(x))\n"
     ]
    }
   ],
   "source": [
    "df['tweet']=df['tweet'].apply(lambda x:clean_anonymization(x))"
   ]
  },
  {
   "cell_type": "code",
   "execution_count": 11,
   "id": "a19ae321",
   "metadata": {},
   "outputs": [
    {
     "data": {
      "text/html": [
       "<div>\n",
       "<style scoped>\n",
       "    .dataframe tbody tr th:only-of-type {\n",
       "        vertical-align: middle;\n",
       "    }\n",
       "\n",
       "    .dataframe tbody tr th {\n",
       "        vertical-align: top;\n",
       "    }\n",
       "\n",
       "    .dataframe thead th {\n",
       "        text-align: right;\n",
       "    }\n",
       "</style>\n",
       "<table border=\"1\" class=\"dataframe\">\n",
       "  <thead>\n",
       "    <tr style=\"text-align: right;\">\n",
       "      <th></th>\n",
       "      <th>date</th>\n",
       "      <th>username</th>\n",
       "      <th>tweet</th>\n",
       "      <th>hashtags</th>\n",
       "      <th>nreplies</th>\n",
       "      <th>nretweets</th>\n",
       "      <th>nlikes</th>\n",
       "    </tr>\n",
       "  </thead>\n",
       "  <tbody>\n",
       "    <tr>\n",
       "      <th>0</th>\n",
       "      <td>2022-02-08 22:38:59</td>\n",
       "      <td>STLdocks</td>\n",
       "      <td>$iotx $ach still well fall back btc. things st...</td>\n",
       "      <td>[]</td>\n",
       "      <td>0</td>\n",
       "      <td>0</td>\n",
       "      <td>0</td>\n",
       "    </tr>\n",
       "    <tr>\n",
       "      <th>1</th>\n",
       "      <td>2022-02-08 22:38:59</td>\n",
       "      <td>Bentley11863142</td>\n",
       "      <td>smartdefi™ feg – build next token smartdefi™ w...</td>\n",
       "      <td>[]</td>\n",
       "      <td>0</td>\n",
       "      <td>0</td>\n",
       "      <td>0</td>\n",
       "    </tr>\n",
       "    <tr>\n",
       "      <th>2</th>\n",
       "      <td>2022-02-08 22:38:57</td>\n",
       "      <td>BitCoinAlertBot</td>\n",
       "      <td>risen 13.76% last week. price currently $43701...</td>\n",
       "      <td>[btc]</td>\n",
       "      <td>0</td>\n",
       "      <td>0</td>\n",
       "      <td>0</td>\n",
       "    </tr>\n",
       "    <tr>\n",
       "      <th>3</th>\n",
       "      <td>2022-02-08 22:38:56</td>\n",
       "      <td>umayahsepti</td>\n",
       "      <td>trending \"google cloud launches agentless cryp...</td>\n",
       "      <td>[lunarcrush]</td>\n",
       "      <td>0</td>\n",
       "      <td>0</td>\n",
       "      <td>0</td>\n",
       "    </tr>\n",
       "    <tr>\n",
       "      <th>4</th>\n",
       "      <td>2022-02-08 22:38:52</td>\n",
       "      <td>bava23</td>\n",
       "      <td>works 24/7</td>\n",
       "      <td>[btc]</td>\n",
       "      <td>0</td>\n",
       "      <td>0</td>\n",
       "      <td>0</td>\n",
       "    </tr>\n",
       "  </tbody>\n",
       "</table>\n",
       "</div>"
      ],
      "text/plain": [
       "                  date         username  \\\n",
       "0  2022-02-08 22:38:59         STLdocks   \n",
       "1  2022-02-08 22:38:59  Bentley11863142   \n",
       "2  2022-02-08 22:38:57  BitCoinAlertBot   \n",
       "3  2022-02-08 22:38:56      umayahsepti   \n",
       "4  2022-02-08 22:38:52           bava23   \n",
       "\n",
       "                                               tweet      hashtags  nreplies  \\\n",
       "0  $iotx $ach still well fall back btc. things st...            []         0   \n",
       "1  smartdefi™ feg – build next token smartdefi™ w...            []         0   \n",
       "2  risen 13.76% last week. price currently $43701...         [btc]         0   \n",
       "3  trending \"google cloud launches agentless cryp...  [lunarcrush]         0   \n",
       "4                                         works 24/7         [btc]         0   \n",
       "\n",
       "   nretweets  nlikes  \n",
       "0          0       0  \n",
       "1          0       0  \n",
       "2          0       0  \n",
       "3          0       0  \n",
       "4          0       0  "
      ]
     },
     "execution_count": 11,
     "metadata": {},
     "output_type": "execute_result"
    }
   ],
   "source": [
    "df.head()"
   ]
  },
  {
   "cell_type": "markdown",
   "id": "44bd3338",
   "metadata": {},
   "source": [
    "### 2. Stacked-LSTM "
   ]
  },
  {
   "cell_type": "code",
   "execution_count": null,
   "id": "d888e21e",
   "metadata": {},
   "outputs": [],
   "source": [
    "# Example of one output for each input time step\n",
    "from keras.models import Sequential\n",
    "from keras.layers import LSTM\n",
    "from numpy import array\n",
    "# define model where LSTM is also output layer\n",
    "model = Sequential()\n",
    "model.add(LSTM(1, return_sequences=True, input_shape=(3,1)))\n",
    "model.compile(optimizer='adam', loss='mse')\n",
    "# input time steps\n",
    "data = array([0.1, 0.2, 0.3]).reshape((1,3,1))\n",
    "# make and show prediction\n",
    "print(model.predict(data))"
   ]
  },
  {
   "cell_type": "code",
   "execution_count": null,
   "id": "3f50bbe2",
   "metadata": {},
   "outputs": [],
   "source": []
  },
  {
   "cell_type": "code",
   "execution_count": 13,
   "id": "6d95963d",
   "metadata": {},
   "outputs": [],
   "source": [
    "from textblob import TextBlob\n",
    "from IPython.display import Markdown, display"
   ]
  },
  {
   "cell_type": "code",
   "execution_count": 14,
   "id": "4b5c87b3",
   "metadata": {},
   "outputs": [],
   "source": [
    "def printmd(string, color=None):\n",
    "    colorstr = \"<span style='color:{}'>{}</span>\".format(color, string)\n",
    "    display(Markdown(colorstr))"
   ]
  },
  {
   "cell_type": "code",
   "execution_count": 15,
   "id": "3a4d953c",
   "metadata": {},
   "outputs": [
    {
     "name": "stdout",
     "output_type": "stream",
     "text": [
      "@Israelm16432 @Tarjas5 @Cryptobullza @BTC_Archive So this happened to me for 3-weeks and I tried so many means but all failed, luckily for me I got in contact with this Hacker pro.craxk on Instagram, he was the one who helped me, he should help you with yours.\n",
      "Sentiment(polarity=0.1111111111111111, subjectivity=0.5444444444444444)\n"
     ]
    },
    {
     "data": {
      "text/markdown": [
       "<span style='color:green'>Positive</span>"
      ],
      "text/plain": [
       "<IPython.core.display.Markdown object>"
      ]
     },
     "metadata": {},
     "output_type": "display_data"
    },
    {
     "name": "stdout",
     "output_type": "stream",
     "text": [
      "@Barbarasllv6 Boa noite 🔥 chegou com fogo na btc né\n",
      "Sentiment(polarity=0.0, subjectivity=0.0)\n"
     ]
    },
    {
     "data": {
      "text/markdown": [
       "<span style='color:grey'>Neutral</span>"
      ],
      "text/plain": [
       "<IPython.core.display.Markdown object>"
      ]
     },
     "metadata": {},
     "output_type": "display_data"
    },
    {
     "name": "stdout",
     "output_type": "stream",
     "text": [
      "\n",
      "I had a dream that #BTC reached $ 79,000🤔\n",
      "Sentiment(polarity=0.0, subjectivity=0.0)\n"
     ]
    },
    {
     "data": {
      "text/markdown": [
       "<span style='color:grey'>Neutral</span>"
      ],
      "text/plain": [
       "<IPython.core.display.Markdown object>"
      ]
     },
     "metadata": {},
     "output_type": "display_data"
    },
    {
     "name": "stdout",
     "output_type": "stream",
     "text": [
      "\n",
      "Bloc #BTC : 721413 Nombre de transactions entrantes : 6911 Nombre de transactions sortantes : 1469\n",
      "Sentiment(polarity=0.0, subjectivity=0.0)\n"
     ]
    },
    {
     "data": {
      "text/markdown": [
       "<span style='color:grey'>Neutral</span>"
      ],
      "text/plain": [
       "<IPython.core.display.Markdown object>"
      ]
     },
     "metadata": {},
     "output_type": "display_data"
    },
    {
     "name": "stdout",
     "output_type": "stream",
     "text": [
      "\n",
      ". @MicroStrategy now holds 125,051 bitcoins.  Opportunities to use its BTC to generate yield, etc., will increase as more banks enter space, according to CEO Michael @saylor.   https://t.co/GrAd9tTGk6\n",
      "Sentiment(polarity=0.5, subjectivity=0.5)\n"
     ]
    },
    {
     "data": {
      "text/markdown": [
       "<span style='color:green'>Positive</span>"
      ],
      "text/plain": [
       "<IPython.core.display.Markdown object>"
      ]
     },
     "metadata": {},
     "output_type": "display_data"
    },
    {
     "name": "stdout",
     "output_type": "stream",
     "text": [
      "@tyanu_khah 1/2 C’est pas se chauffer qui ne sert a rien. Il voulait dire c’est que c’est le radiateur lui même qui ne sert à rien a part restituer de la chaleur alors que tu pourrais te chauffer avec un mineur de BTC qui restituerait la même chaleur avec sa puissance de calcul.\n",
      "Sentiment(polarity=0.0, subjectivity=0.0)\n"
     ]
    },
    {
     "data": {
      "text/markdown": [
       "<span style='color:grey'>Neutral</span>"
      ],
      "text/plain": [
       "<IPython.core.display.Markdown object>"
      ]
     },
     "metadata": {},
     "output_type": "display_data"
    },
    {
     "name": "stdout",
     "output_type": "stream",
     "text": [
      "\n",
      "@jaygould 30% tax #BTC\n",
      "Sentiment(polarity=0.0, subjectivity=0.0)\n"
     ]
    },
    {
     "data": {
      "text/markdown": [
       "<span style='color:grey'>Neutral</span>"
      ],
      "text/plain": [
       "<IPython.core.display.Markdown object>"
      ]
     },
     "metadata": {},
     "output_type": "display_data"
    },
    {
     "name": "stdout",
     "output_type": "stream",
     "text": [
      "\n",
      "Thoughts on $mstr ? Isn’t the btc value priced in already? What do you think?\n",
      "Sentiment(polarity=0.0, subjectivity=0.0)\n"
     ]
    },
    {
     "data": {
      "text/markdown": [
       "<span style='color:grey'>Neutral</span>"
      ],
      "text/plain": [
       "<IPython.core.display.Markdown object>"
      ]
     },
     "metadata": {},
     "output_type": "display_data"
    },
    {
     "name": "stdout",
     "output_type": "stream",
     "text": [
      "\n",
      "@TheCryptoLark Nobody is talking about the hack wallet with billions of dollars in bitcoin that move the founds from bitfinex yesterday.  I don't get it why people should buy #btc now...???\n",
      "Sentiment(polarity=0.0, subjectivity=0.0)\n"
     ]
    },
    {
     "data": {
      "text/markdown": [
       "<span style='color:grey'>Neutral</span>"
      ],
      "text/plain": [
       "<IPython.core.display.Markdown object>"
      ]
     },
     "metadata": {},
     "output_type": "display_data"
    },
    {
     "name": "stdout",
     "output_type": "stream",
     "text": [
      "\n",
      "$BTC OBV 1D  looking good 👀📌\n",
      "Sentiment(polarity=0.7, subjectivity=0.6000000000000001)\n"
     ]
    },
    {
     "data": {
      "text/markdown": [
       "<span style='color:green'>Positive</span>"
      ],
      "text/plain": [
       "<IPython.core.display.Markdown object>"
      ]
     },
     "metadata": {},
     "output_type": "display_data"
    },
    {
     "name": "stdout",
     "output_type": "stream",
     "text": [
      "@Bitso Si gano ese Bitcoin, dejaré un % en BTC (la cantidad la definiré después) y lo demás lo cambiaré en diferentes cryptos, para tener un portafolio mas amplio.  P.D. Los quiero mucho y los quiero ver triunfar.\n",
      "Sentiment(polarity=0.0, subjectivity=0.0)\n"
     ]
    },
    {
     "data": {
      "text/markdown": [
       "<span style='color:grey'>Neutral</span>"
      ],
      "text/plain": [
       "<IPython.core.display.Markdown object>"
      ]
     },
     "metadata": {},
     "output_type": "display_data"
    },
    {
     "name": "stdout",
     "output_type": "stream",
     "text": [
      "\n",
      "@cattyverse Exceptional logic  but we don't want Cryto bear now Since you are creator of Universe much earlier than Mark Zuckerberg created Metaverse, you can control this and push BTC to SUN\n",
      "Sentiment(polarity=0.3333333333333333, subjectivity=0.75)\n"
     ]
    },
    {
     "data": {
      "text/markdown": [
       "<span style='color:green'>Positive</span>"
      ],
      "text/plain": [
       "<IPython.core.display.Markdown object>"
      ]
     },
     "metadata": {},
     "output_type": "display_data"
    },
    {
     "name": "stdout",
     "output_type": "stream",
     "text": [
      "Tryna fly bae overseas but we up &amp; down like BTC\n",
      "Sentiment(polarity=0.32222222222222224, subjectivity=0.5944444444444444)\n"
     ]
    },
    {
     "data": {
      "text/markdown": [
       "<span style='color:green'>Positive</span>"
      ],
      "text/plain": [
       "<IPython.core.display.Markdown object>"
      ]
     },
     "metadata": {},
     "output_type": "display_data"
    },
    {
     "name": "stdout",
     "output_type": "stream",
     "text": [
      "@saylor #BTC Bossssss 🔥💀🌹🙌💎\n",
      "Sentiment(polarity=0.0, subjectivity=0.0)\n"
     ]
    },
    {
     "data": {
      "text/markdown": [
       "<span style='color:grey'>Neutral</span>"
      ],
      "text/plain": [
       "<IPython.core.display.Markdown object>"
      ]
     },
     "metadata": {},
     "output_type": "display_data"
    },
    {
     "name": "stdout",
     "output_type": "stream",
     "text": [
      "\n"
     ]
    }
   ],
   "source": [
    "for tweet in df['tweet']:\n",
    "    print(tweet)\n",
    "    analysis = TextBlob(tweet)\n",
    "    print(analysis.sentiment)\n",
    "    if analysis.sentiment[0]>0:\n",
    "        printmd('Positive', color=\"green\")\n",
    "    elif analysis.sentiment[0]<0:\n",
    "        printmd('Negative', color=\"red\")\n",
    "    else:\n",
    "        printmd(\"Neutral\", color=\"grey\")\n",
    "        print(\"\")"
   ]
  },
  {
   "cell_type": "code",
   "execution_count": 16,
   "id": "edf25f0e",
   "metadata": {},
   "outputs": [],
   "source": [
    "from textblob import TextBlob\n",
    "from pyspark.sql.functions import udf\n",
    "from pyspark.sql.types import DoubleType\n",
    "# Function to get sentiment \n",
    "def apply_blob(sentence):\n",
    "    temp = TextBlob(sentence).sentiment[0]\n",
    "    if temp == 0.0:\n",
    "        return 0.0 # Neutral\n",
    "    elif temp >= 0.0:\n",
    "        return 1.0 # Positive\n",
    "    else:\n",
    "        return 2.0 # Negative\n",
    "# UDF to write sentiment on DF\n",
    "sentiment = udf(apply_blob, DoubleType())\n",
    "# Transform result to pandas\n",
    "def twint_to_pandas(columns):\n",
    "    return twint.output.panda.Tweets_df[columns]\n",
    "def tweets_sentiment(search, limit=1):\n",
    "    c.Search = search\n",
    "    # Custom output format\n",
    "    c.Format = \"Username: {username} |  Tweet: {tweet}\"\n",
    "    c.Limit = limit\n",
    "    c.Pandas = True\n",
    "    with HiddenPrints():\n",
    "        print(twint.run.Search(c))\n",
    "    \n",
    "    # Transform tweets to pandas DF\n",
    "    df_pd = twint_to_pandas([\"date\", \"username\", \"tweet\", \"hashtags\", \"nlikes\"])\n",
    "    \n",
    "    # Transform Pandas DF to Optimus/Spark DF\n",
    "    df = op.create.data_frame(pdf= df_pd)\n",
    "    \n",
    "    # Clean tweets\n",
    "    clean_tweets = df.cols.remove_accents(\"tweet\") \\\n",
    "                 .cols.remove_special_chars(\"tweet\")\n",
    "    \n",
    "    # Add sentiment to final DF\n",
    "    return clean_tweets.withColumn(\"sentiment\",    sentiment(clean_tweets['tweet']))"
   ]
  },
  {
   "cell_type": "markdown",
   "id": "3e3a8f1b",
   "metadata": {},
   "source": [
    "## Add sentiments to dataframe"
   ]
  },
  {
   "cell_type": "code",
   "execution_count": null,
   "id": "e21d2571",
   "metadata": {},
   "outputs": [],
   "source": []
  }
 ],
 "metadata": {
  "kernelspec": {
   "display_name": "Python 3",
   "language": "python",
   "name": "python3"
  },
  "language_info": {
   "codemirror_mode": {
    "name": "ipython",
    "version": 3
   },
   "file_extension": ".py",
   "mimetype": "text/x-python",
   "name": "python",
   "nbconvert_exporter": "python",
   "pygments_lexer": "ipython3",
   "version": "3.8.8"
  }
 },
 "nbformat": 4,
 "nbformat_minor": 5
}
