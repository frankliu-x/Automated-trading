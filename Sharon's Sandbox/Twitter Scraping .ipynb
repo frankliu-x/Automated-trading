{
 "cells": [
  {
   "cell_type": "code",
   "execution_count": 96,
   "id": "61f3bb90",
   "metadata": {},
   "outputs": [
    {
     "name": "stdout",
     "output_type": "stream",
     "text": [
      "1487993882201792514 2022-01-30 19:39:21 -0800 <CerdasCrypto> Analis JPMorgan Turunkan Secara Drastis Target Harga Jangka Panjang untuk Bitcoin, Sebutkan Tantangan Terbesar untuk BTC  https://t.co/iuDfARNrWj\n",
      "1487993876551847940 2022-01-30 19:39:20 -0800 <Thinley16613447> @TheMoonCarl Have been in BTC since 2019.\n",
      "1487993868335386625 2022-01-30 19:39:18 -0800 <TedatACA> In $BTC?\n",
      "1487993856537010179 2022-01-30 19:39:15 -0800 <rvxbt_> $BTC  Something like this  https://t.co/1hYegCAWgq\n",
      "1487993854158585856 2022-01-30 19:39:15 -0800 <Rayshown42> @Political_Jerry @magliani07 @sparrowhead22 @lizelly10 @djbenhameen @MetaMask @Whitehat_BTC #metamaskscam this some balogna how meta gon kick my dawg dog in the face ? @peta\n",
      "1487993838388097028 2022-01-30 19:39:11 -0800 <SwichLabs> #Bitcoin Risk Metric:  #btc $BTC  https://t.co/b9TzAHcQoN\n",
      "1487993837947879428 2022-01-30 19:39:11 -0800 <bitcoin_sougo> 世界最大の証券取引所であるニューヨーク証券取引所のCEOが Bitcoinが最初の世界通貨になるだろうと発言 #仮想通貨 $BTC #ビットコイン #BTC #暗号資産 #投資 #ニューヨーク証券取引所 #世界通貨\n",
      "1487993836131721218 2022-01-30 19:39:10 -0800 <All4freedom_B> @btc_chilly That was already attempted and failed, so apparently not.\n",
      "1487993791806017538 2022-01-30 19:39:00 -0800 <Crypto_umebosi> 反発の兆しか？ 機関投資家向け仮想通貨ファンド、5週間ぶりに資金流入がプラスに🚀 機関投資家の資金が戻り始めているのは反発の最初の兆候！✨　ただいま絶賛仕込みチャンス('ω')   https://t.co/M3JEXmOsif #BTC #仮想通貨 #GameFi #NFT #Metaverse #暗号通貨\n",
      "1487993788521975810 2022-01-30 19:38:59 -0800 <takacoin555> @LisaNEdwards I think buy btc now is not safe because you didn't confirm the uptrend  https://t.co/o8ol7cMYfF\n",
      "1487993781844688897 2022-01-30 19:38:57 -0800 <BtcLiberty> @btc_chilly @All4freedom_B Change the math???  Only phunking #FiatBrainz would do that.\n",
      "1487993767084789767 2022-01-30 19:38:54 -0800 <VailshireCap> @Travis_Kling It’s because they’re holding the spot BTC ETF hostage until their “crypto” issues and exchange demands are met.\n",
      "1487993763100168193 2022-01-30 19:38:53 -0800 <redmagic16ffff> 月次は目を背けたくなるようなマイナスです。 怨嗟。 #BTC #ビットコイン\n",
      "1487993745656188928 2022-01-30 19:38:49 -0800 <pauloo_pdrs> @duda_btc ele votando na jessi conquistou meu coração\n",
      "1487993728287469569 2022-01-30 19:38:45 -0800 <IAmBitcoinBot> Current #Bitcoin Price is $36998 #BTC #Crypto\n",
      "1487993727688011778 2022-01-30 19:38:44 -0800 <Kailash5086> $FIDA .. very good price to buy another pump coming soon !  #BTC $SOL $TLM $SAND $MANA $MINA $ZEC $OGN $CVP $one  https://t.co/K1vBG0V4dp\n",
      "1487993726676791296 2022-01-30 19:38:44 -0800 <chronodevourer> If you survive this weekend, you shall be reward from next week on!   #crypto #btc #ALTSEASON\n"
     ]
    }
   ],
   "source": [
    "import sys\n",
    "import os\n",
    "# Set up TWINT config\n",
    "import twint\n",
    "# Solve compatibility issues with notebooks and RunTime errors.\n",
    "import nest_asyncio\n",
    "nest_asyncio.apply()\n",
    "c = twint.Config()\n",
    "\n",
    "c.Search = \"BTC\"\n",
    "# c.Username = \"noneprivacy\"\n",
    "# c.Custom[\"tweet\"] = [\"id\"]\n",
    "# c.Custom[\"user\"] = [\"bio\"]\n",
    "\n",
    "c.Limit = 100\n",
    "c.Store_pandas = True\n",
    "# c.Store_csv = True\n",
    "# c.Output = \"test.csv\"\n",
    "c.Limit = 1\n",
    "c.Pandas = True\n",
    "twint.run.Search(c)"
   ]
  },
  {
   "cell_type": "code",
   "execution_count": 108,
   "id": "2fb76d33",
   "metadata": {},
   "outputs": [],
   "source": [
    "from textblob import TextBlob\n",
    "from pyspark.sql.functions import udf\n",
    "from pyspark.sql.types import DoubleType\n",
    "# Function to get sentiment \n",
    "def apply_blob(sentence):\n",
    "    temp = TextBlob(sentence).sentiment[0]\n",
    "    if temp == 0.0:\n",
    "        return 0.0 # Neutral\n",
    "    elif temp >= 0.0:\n",
    "        return 1.0 # Positive\n",
    "    else:\n",
    "        return 2.0 # Negative\n",
    "# UDF to write sentiment on DF\n",
    "sentiment = udf(apply_blob, DoubleType())\n",
    "# Transform result to pandas\n",
    "def twint_to_pandas(columns):\n",
    "    return twint.output.panda.Tweets_df[columns]\n",
    "def tweets_sentiment(search, limit=1):\n",
    "    c.Search = search\n",
    "    # Custom output format\n",
    "    c.Format = \"Username: {username} |  Tweet: {tweet}\"\n",
    "    c.Limit = limit\n",
    "    c.Pandas = True\n",
    "    with HiddenPrints():\n",
    "        print(twint.run.Search(c))\n",
    "    \n",
    "    # Transform tweets to pandas DF\n",
    "    df_pd = twint_to_pandas([\"date\", \"username\", \"tweet\", \"hashtags\", \"nlikes\"])\n",
    "    \n",
    "    # Transform Pandas DF to Optimus/Spark DF\n",
    "    df = op.create.data_frame(pdf= df_pd)\n",
    "    \n",
    "    # Clean tweets\n",
    "    clean_tweets = df.cols.remove_accents(\"tweet\") \\\n",
    "                 .cols.remove_special_chars(\"tweet\")\n",
    "    \n",
    "    # Add sentiment to final DF\n",
    "    return clean_tweets.withColumn(\"sentiment\",    sentiment(clean_tweets['tweet']))"
   ]
  },
  {
   "cell_type": "code",
   "execution_count": 110,
   "id": "6c141f0f",
   "metadata": {},
   "outputs": [
    {
     "name": "stdout",
     "output_type": "stream",
     "text": [
      "date\n",
      "Sentiment(polarity=0.0, subjectivity=0.0)\n"
     ]
    },
    {
     "data": {
      "text/markdown": [
       "<span style='color:grey'>No result</span>"
      ],
      "text/plain": [
       "<IPython.core.display.Markdown object>"
      ]
     },
     "metadata": {},
     "output_type": "display_data"
    },
    {
     "name": "stdout",
     "output_type": "stream",
     "text": [
      "\n",
      "username\n",
      "Sentiment(polarity=0.0, subjectivity=0.0)\n"
     ]
    },
    {
     "data": {
      "text/markdown": [
       "<span style='color:grey'>No result</span>"
      ],
      "text/plain": [
       "<IPython.core.display.Markdown object>"
      ]
     },
     "metadata": {},
     "output_type": "display_data"
    },
    {
     "name": "stdout",
     "output_type": "stream",
     "text": [
      "\n",
      "tweet\n",
      "Sentiment(polarity=0.0, subjectivity=0.0)\n"
     ]
    },
    {
     "data": {
      "text/markdown": [
       "<span style='color:grey'>No result</span>"
      ],
      "text/plain": [
       "<IPython.core.display.Markdown object>"
      ]
     },
     "metadata": {},
     "output_type": "display_data"
    },
    {
     "name": "stdout",
     "output_type": "stream",
     "text": [
      "\n",
      "hashtags\n",
      "Sentiment(polarity=0.0, subjectivity=0.0)\n"
     ]
    },
    {
     "data": {
      "text/markdown": [
       "<span style='color:grey'>No result</span>"
      ],
      "text/plain": [
       "<IPython.core.display.Markdown object>"
      ]
     },
     "metadata": {},
     "output_type": "display_data"
    },
    {
     "name": "stdout",
     "output_type": "stream",
     "text": [
      "\n",
      "nreplies\n",
      "Sentiment(polarity=0.0, subjectivity=0.0)\n"
     ]
    },
    {
     "data": {
      "text/markdown": [
       "<span style='color:grey'>No result</span>"
      ],
      "text/plain": [
       "<IPython.core.display.Markdown object>"
      ]
     },
     "metadata": {},
     "output_type": "display_data"
    },
    {
     "name": "stdout",
     "output_type": "stream",
     "text": [
      "\n",
      "nretweets\n",
      "Sentiment(polarity=0.0, subjectivity=0.0)\n"
     ]
    },
    {
     "data": {
      "text/markdown": [
       "<span style='color:grey'>No result</span>"
      ],
      "text/plain": [
       "<IPython.core.display.Markdown object>"
      ]
     },
     "metadata": {},
     "output_type": "display_data"
    },
    {
     "name": "stdout",
     "output_type": "stream",
     "text": [
      "\n",
      "nlikes\n",
      "Sentiment(polarity=0.0, subjectivity=0.0)\n"
     ]
    },
    {
     "data": {
      "text/markdown": [
       "<span style='color:grey'>No result</span>"
      ],
      "text/plain": [
       "<IPython.core.display.Markdown object>"
      ]
     },
     "metadata": {},
     "output_type": "display_data"
    },
    {
     "name": "stdout",
     "output_type": "stream",
     "text": [
      "\n"
     ]
    }
   ],
   "source": [
    "from textblob import TextBlob\n",
    "from IPython.display import Markdown, display\n",
    "# Pretty printing the result\n",
    "def printmd(string, color=None):\n",
    "    colorstr = \"<span style='color:{}'>{}</span>\".format(color, string)\n",
    "    display(Markdown(colorstr))\n",
    "for tweet in df:\n",
    "    print(tweet)\n",
    "    analysis = TextBlob(tweet)\n",
    "    print(analysis.sentiment)\n",
    "    if analysis.sentiment[0]>0:\n",
    "        printmd('Positive', color=\"green\")\n",
    "    elif analysis.sentiment[0]<0:\n",
    "        printmd('Negative', color=\"red\")\n",
    "    else:\n",
    "        printmd(\"No result\", color=\"grey\")\n",
    "        print(\"\")"
   ]
  },
  {
   "cell_type": "code",
   "execution_count": 67,
   "id": "9248417d",
   "metadata": {},
   "outputs": [],
   "source": [
    "# Transform result to pandas\n",
    "def twint_to_pandas(columns):\n",
    "    return twint.output.panda.Tweets_df[columns]"
   ]
  },
  {
   "cell_type": "code",
   "execution_count": 80,
   "id": "07b0a573",
   "metadata": {},
   "outputs": [],
   "source": [
    "df = twint_to_pandas([\"date\", \"username\",\"tweet\", \"hashtags\", \"nreplies\", \"nretweets\",\"nlikes\"])"
   ]
  },
  {
   "cell_type": "code",
   "execution_count": 82,
   "id": "29422134",
   "metadata": {},
   "outputs": [
    {
     "data": {
      "text/html": [
       "<div>\n",
       "<style scoped>\n",
       "    .dataframe tbody tr th:only-of-type {\n",
       "        vertical-align: middle;\n",
       "    }\n",
       "\n",
       "    .dataframe tbody tr th {\n",
       "        vertical-align: top;\n",
       "    }\n",
       "\n",
       "    .dataframe thead th {\n",
       "        text-align: right;\n",
       "    }\n",
       "</style>\n",
       "<table border=\"1\" class=\"dataframe\">\n",
       "  <thead>\n",
       "    <tr style=\"text-align: right;\">\n",
       "      <th></th>\n",
       "      <th>date</th>\n",
       "      <th>username</th>\n",
       "      <th>tweet</th>\n",
       "      <th>hashtags</th>\n",
       "      <th>nreplies</th>\n",
       "      <th>nretweets</th>\n",
       "      <th>nlikes</th>\n",
       "    </tr>\n",
       "  </thead>\n",
       "  <tbody>\n",
       "    <tr>\n",
       "      <th>0</th>\n",
       "      <td>2022-01-30 13:29:37</td>\n",
       "      <td>saadin_ozdemir</td>\n",
       "      <td>@btc_magazin @gmgiray Savaşami diye srcaktim d...</td>\n",
       "      <td>[]</td>\n",
       "      <td>0</td>\n",
       "      <td>0</td>\n",
       "      <td>0</td>\n",
       "    </tr>\n",
       "    <tr>\n",
       "      <th>1</th>\n",
       "      <td>2022-01-30 13:29:36</td>\n",
       "      <td>FitzoCrypto</td>\n",
       "      <td>So many influencers last night brought the gid...</td>\n",
       "      <td>[btc, bitcoin]</td>\n",
       "      <td>0</td>\n",
       "      <td>0</td>\n",
       "      <td>0</td>\n",
       "    </tr>\n",
       "    <tr>\n",
       "      <th>2</th>\n",
       "      <td>2022-01-30 13:29:35</td>\n",
       "      <td>yekkripto</td>\n",
       "      <td>#SuddenChange : Coin|From-&amp;gt;To|Last Hour|Tod...</td>\n",
       "      <td>[suddenchange, pump, crypto, coin]</td>\n",
       "      <td>0</td>\n",
       "      <td>0</td>\n",
       "      <td>0</td>\n",
       "    </tr>\n",
       "    <tr>\n",
       "      <th>3</th>\n",
       "      <td>2022-01-30 13:29:34</td>\n",
       "      <td>Vaskar506</td>\n",
       "      <td>New week, New Top 30!   Which of these are in ...</td>\n",
       "      <td>[]</td>\n",
       "      <td>0</td>\n",
       "      <td>0</td>\n",
       "      <td>0</td>\n",
       "    </tr>\n",
       "    <tr>\n",
       "      <th>4</th>\n",
       "      <td>2022-01-30 13:29:32</td>\n",
       "      <td>Idriss6363</td>\n",
       "      <td>@PessiRakim et est ce que tu es conseillé pour...</td>\n",
       "      <td>[]</td>\n",
       "      <td>0</td>\n",
       "      <td>0</td>\n",
       "      <td>0</td>\n",
       "    </tr>\n",
       "  </tbody>\n",
       "</table>\n",
       "</div>"
      ],
      "text/plain": [
       "                  date        username  \\\n",
       "0  2022-01-30 13:29:37  saadin_ozdemir   \n",
       "1  2022-01-30 13:29:36     FitzoCrypto   \n",
       "2  2022-01-30 13:29:35       yekkripto   \n",
       "3  2022-01-30 13:29:34       Vaskar506   \n",
       "4  2022-01-30 13:29:32      Idriss6363   \n",
       "\n",
       "                                               tweet  \\\n",
       "0  @btc_magazin @gmgiray Savaşami diye srcaktim d...   \n",
       "1  So many influencers last night brought the gid...   \n",
       "2  #SuddenChange : Coin|From-&gt;To|Last Hour|Tod...   \n",
       "3  New week, New Top 30!   Which of these are in ...   \n",
       "4  @PessiRakim et est ce que tu es conseillé pour...   \n",
       "\n",
       "                             hashtags  nreplies  nretweets  nlikes  \n",
       "0                                  []         0          0       0  \n",
       "1                      [btc, bitcoin]         0          0       0  \n",
       "2  [suddenchange, pump, crypto, coin]         0          0       0  \n",
       "3                                  []         0          0       0  \n",
       "4                                  []         0          0       0  "
      ]
     },
     "execution_count": 82,
     "metadata": {},
     "output_type": "execute_result"
    }
   ],
   "source": [
    "df.head()"
   ]
  },
  {
   "cell_type": "code",
   "execution_count": 99,
   "id": "4868e1bc",
   "metadata": {},
   "outputs": [],
   "source": [
    "class HiddenPrints:\n",
    "    def __enter__(self):\n",
    "        self._original_stdout = sys.stdout\n",
    "        sys.stdout = open(os.devnull, 'w')\n",
    "    def __exit__(self, exc_type, exc_val, exc_tb):\n",
    "        sys.stdout.close()\n",
    "        sys.stdout = self._original_stdout\n",
    "        "
   ]
  },
  {
   "cell_type": "code",
   "execution_count": 105,
   "id": "9d3a55ff",
   "metadata": {},
   "outputs": [],
   "source": [
    "def get_tweets(search, limit=100):\n",
    "    c = twint.Config()\n",
    "    c.Search = search\n",
    "    c.Limit = limit\n",
    "    c.Pandas = True\n",
    "    c.Pandas_clean = True"
   ]
  },
  {
   "cell_type": "code",
   "execution_count": 103,
   "id": "90ecfcc3",
   "metadata": {},
   "outputs": [],
   "source": [
    "def generate_word_cloud(tweets):\n",
    "    \n",
    "    # Getting the text out of the tweets\n",
    "    text = tweets.tweet.values\n",
    "    \n",
    "    # adding movie script specific stopwords\n",
    "    stopwords = set(STOPWORDS)\n",
    "    stopwords.add(\"https\")\n",
    "    stopwords.add(\"xa0\")\n",
    "    stopwords.add(\"xa0'\")\n",
    "    stopwords.add(\"bitly\")\n",
    "    stopwords.add(\"bit\")\n",
    "    stopwords.add(\"ly\")\n",
    "    stopwords.add(\"twitter\")\n",
    "    stopwords.add(\"pic\")\n",
    "    \n",
    "    wordcloud = WordCloud(\n",
    "        background_color = 'black',\n",
    "        width = 1000,\n",
    "        height = 500,\n",
    "        stopwords = stopwords).generate(str(text))\n",
    "    \n",
    "    plt.imshow(wordcloud, interpolation='bilinear')\n",
    "    plt.axis(\"off\")\n",
    "    plt.rcParams['figure.figsize'] = [10, 10]"
   ]
  },
  {
   "cell_type": "code",
   "execution_count": 106,
   "id": "80a2dddb",
   "metadata": {},
   "outputs": [
    {
     "ename": "AttributeError",
     "evalue": "'NoneType' object has no attribute 'tweet'",
     "output_type": "error",
     "traceback": [
      "\u001b[0;31m---------------------------------------------------------------------------\u001b[0m",
      "\u001b[0;31mAttributeError\u001b[0m                            Traceback (most recent call last)",
      "\u001b[0;32m<ipython-input-106-915252045967>\u001b[0m in \u001b[0;36m<module>\u001b[0;34m\u001b[0m\n\u001b[1;32m      1\u001b[0m \u001b[0mtweets\u001b[0m \u001b[0;34m=\u001b[0m \u001b[0mget_tweets\u001b[0m\u001b[0;34m(\u001b[0m\u001b[0;34m\"artificial intelligence\"\u001b[0m\u001b[0;34m,\u001b[0m \u001b[0mlimit\u001b[0m\u001b[0;34m=\u001b[0m\u001b[0;36m1000\u001b[0m\u001b[0;34m)\u001b[0m\u001b[0;34m\u001b[0m\u001b[0;34m\u001b[0m\u001b[0m\n\u001b[0;32m----> 2\u001b[0;31m \u001b[0mgenerate_word_cloud\u001b[0m\u001b[0;34m(\u001b[0m\u001b[0mtweets\u001b[0m\u001b[0;34m)\u001b[0m\u001b[0;34m\u001b[0m\u001b[0;34m\u001b[0m\u001b[0m\n\u001b[0m",
      "\u001b[0;32m<ipython-input-103-cefb55d2b900>\u001b[0m in \u001b[0;36mgenerate_word_cloud\u001b[0;34m(tweets)\u001b[0m\n\u001b[1;32m      2\u001b[0m \u001b[0;34m\u001b[0m\u001b[0m\n\u001b[1;32m      3\u001b[0m     \u001b[0;31m# Getting the text out of the tweets\u001b[0m\u001b[0;34m\u001b[0m\u001b[0;34m\u001b[0m\u001b[0;34m\u001b[0m\u001b[0m\n\u001b[0;32m----> 4\u001b[0;31m     \u001b[0mtext\u001b[0m \u001b[0;34m=\u001b[0m \u001b[0mtweets\u001b[0m\u001b[0;34m.\u001b[0m\u001b[0mtweet\u001b[0m\u001b[0;34m.\u001b[0m\u001b[0mvalues\u001b[0m\u001b[0;34m\u001b[0m\u001b[0;34m\u001b[0m\u001b[0m\n\u001b[0m\u001b[1;32m      5\u001b[0m \u001b[0;34m\u001b[0m\u001b[0m\n\u001b[1;32m      6\u001b[0m     \u001b[0;31m# adding movie script specific stopwords\u001b[0m\u001b[0;34m\u001b[0m\u001b[0;34m\u001b[0m\u001b[0;34m\u001b[0m\u001b[0m\n",
      "\u001b[0;31mAttributeError\u001b[0m: 'NoneType' object has no attribute 'tweet'"
     ]
    }
   ],
   "source": [
    "tweets = get_tweets(\"artificial intelligence\", limit=1000)\n",
    "generate_word_cloud(tweets)"
   ]
  },
  {
   "cell_type": "code",
   "execution_count": null,
   "id": "22e19170",
   "metadata": {},
   "outputs": [],
   "source": []
  }
 ],
 "metadata": {
  "kernelspec": {
   "display_name": "Python 3",
   "language": "python",
   "name": "python3"
  },
  "language_info": {
   "codemirror_mode": {
    "name": "ipython",
    "version": 3
   },
   "file_extension": ".py",
   "mimetype": "text/x-python",
   "name": "python",
   "nbconvert_exporter": "python",
   "pygments_lexer": "ipython3",
   "version": "3.8.8"
  }
 },
 "nbformat": 4,
 "nbformat_minor": 5
}
