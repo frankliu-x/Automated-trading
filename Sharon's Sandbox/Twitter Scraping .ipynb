{
 "cells": [
  {
   "cell_type": "code",
   "execution_count": 12,
   "id": "1f9ced0c",
   "metadata": {},
   "outputs": [],
   "source": [
    "#!pip install --user -r requirements.txt"
   ]
  },
  {
   "cell_type": "code",
   "execution_count": 30,
   "id": "198209b9",
   "metadata": {},
   "outputs": [
    {
     "name": "stderr",
     "output_type": "stream",
     "text": [
      "[nltk_data] Downloading package stopwords to /Users/swu/nltk_data...\n",
      "[nltk_data]   Package stopwords is already up-to-date!\n"
     ]
    }
   ],
   "source": [
    "import sys\n",
    "import os\n",
    "# Set up TWINT config\n",
    "import twint\n",
    "# Solve compatibility issues with notebooks and RunTime errors.\n",
    "import nest_asyncio\n",
    "\n",
    "# stopword\n",
    "import nltk\n",
    "from nltk.corpus import stopwords\n",
    "nltk.download('stopwords')\n",
    "sw_nltk = stopwords.words('english')\n",
    "\n",
    "from keras.models import Sequential\n",
    "from keras.layers import LSTM,Flatten,Embedding,Dense,Conv2D,MaxPooling2D"
   ]
  },
  {
   "cell_type": "code",
   "execution_count": 31,
   "id": "f8d00d47",
   "metadata": {},
   "outputs": [
    {
     "name": "stdout",
     "output_type": "stream",
     "text": [
      "1491862711176765446 2022-02-10 11:52:42 -0800 <coinprensi2021> @PitmagCommunity @BscPitbull_TR @RoboWolf8 @Crypt0mummy @bitgetglobal @swapzoneio @BitcoinMagazine @KenneltoCouch @BartBaker Don't be late buy more $pit - #ForzaPitbull BscPitbull Our target is 1 billion market value by the end of the year. #PitbullCREW #PitbullTokenShibaKiller #Metaverse #P2E #NFT #Bsc #Bnb #BTC  https://t.co/EVWi7fGZvJ\n",
      "1491862705657065472 2022-02-10 11:52:41 -0800 <Twiltydo> @RaduDorin9 @BTC_Archive Most people are on bitcoin just for profit. In the end everyone has switched back to their fiat currency. It has become more a asset then a currency.\n",
      "1491862705375957005 2022-02-10 11:52:41 -0800 <DrDr62989046> the strongest bullish signal flashed for #Bitcoin. Not trend reverse but price bounce is anticipated!  @Tradeosiann is a super #cryptocurrency Trader  I’ve been following his tweets and tips seriously &amp; I’ve been doing great #Metaverse #BTC #DOGE #NFT(&amp;$#\n",
      "1491862703555633156 2022-02-10 11:52:40 -0800 <leox2294> @gamdom #btc\n",
      "1491862696182128653 2022-02-10 11:52:38 -0800 <btc_blockbot> $BTC Latest Block Info: Block 722665 holds 2,788 transactions for a total of 6,350.87720 #Bitcoin including Block Reward. Block Size 1,523,415 Bytes\n",
      "1491862690943352838 2022-02-10 11:52:37 -0800 <Shipocrypto1> @CryptosR_Us The car then sell it for more btc its surely worth more than 90k\n",
      "1491862686082252801 2022-02-10 11:52:36 -0800 <KamilBrejcha> @masonic_tweets The question is, why did you even wrap this stuff? Also wrapping BTC on the top of the sidechain with a native STX token secured by the BTC chain does not make much sense. Just complicating already complicated stuff.\n",
      "1491862675021721604 2022-02-10 11:52:33 -0800 <CryptoTraderPro> Bitcoin Magazine: What Is The Future Of International Bitcoin Adoption?  https://t.co/4omWFTQzUC 🙋 Bet with $BTC via ⟶  https://t.co/IZRIXuhFIf √  https://t.co/Yekbg63Vcb\n",
      "1491862674698911747 2022-02-10 11:52:33 -0800 <plun_corp> #Pushing #BTC  https://t.co/R14TZX6BP5\n",
      "1491862671616061440 2022-02-10 11:52:33 -0800 <crypto_whispers> Top 5 #crypto prices with 24h change:  #BTC #ETH #BNB #XRP #ADA   🔴 $BTC $44562.49 (-0.00%) 🔴 $ETH $3131.19 (-3.76%) 🔴 $BNB $422.2 (-1.08%) 🔴 $XRP $0.8515 (-5.15%) 🔴 $ADA $1.172 (-3.30%)  Do you #hodl any of these coins?\n",
      "1491862670391357443 2022-02-10 11:52:32 -0800 <iaminfinance> @DarioEpstein No. Punto y aparte. Incluso, cada pibe que se hace el experto en Crypto habla que el BTC es \"deflacionario\". Cuando no entienden que la inflación o deflación es de precios y no de monedas. En todo caso se devalúa o valua. Lo tenía que decir! Jajjaja\n",
      "1491862662833180674 2022-02-10 11:52:30 -0800 <sekin79514380> @misstraderr Hocam telegramdan rica etsek btc yi şu an ki durum için yorumlar mısınız? İçerde kaldık🙃\n",
      "1491862658424975365 2022-02-10 11:52:29 -0800 <h_sarpcan> @btc_magazin @navyinvestors @crivizone @MoneyKripto @TradeWars_10 Herkese bol şans🙏\n",
      "1491862655920922624 2022-02-10 11:52:29 -0800 <Weeg__> I ain’t gone never let a disloyal btc hold me back\n",
      "1491862651818983430 2022-02-10 11:52:28 -0800 <JohnWalter10101> Don't miss our pre-sale we are coming with a HUGE AWARD SYSTEM in BSC network SOFT CAP: 25 BNB HARD CAP: 50 BNB(  https://t.co/OBmTr4KbeC )  https://t.co/343AwscBeV #BSC #BSCGEM #shibago #btc #eth #coinmarketcap #coingecko ..\n",
      "1491862647901413378 2022-02-10 11:52:27 -0800 <BscGemHunter2> With an excellent system, it will save everyone a lot, join us before it's too late (  https://t.co/ygk2jRjfOV )  https://t.co/uD8Km2niER #BSC #BSCGEM #BSCGEMS #btc #eth #coinmarketcap #coingecko #shibago  metamask\n",
      "1491862645091274757 2022-02-10 11:52:26 -0800 <MeanlngfulQu> LIVE THE FUTURE TODAY AND EARN YOUR FUTURE BITCOINS NOW (for free)  https://t.co/IETBxDCKGS $sol $dot $luna $sand $one $doge $bnb $mana $REAL $bnb $gala $blok $BTC $matic $avax $bico $sys $spell $HBAR $ATOM $FET $xrp $bch $qrdo $UST $GTC\n",
      "1491862644562739205 2022-02-10 11:52:26 -0800 <Yasirglts> @btc_magazin @navyinvestors @crivizone @MoneyKripto @TradeWars_10 Allahim sen konuyu biliyosun amin ❤️🤲🏼  https://t.co/PRsq8orVRM\n",
      "1491862642847371269 2022-02-10 11:52:26 -0800 <Kriptocum4> @btc_magazin Woww 😀😀\n",
      "1491862637000507392 2022-02-10 11:52:24 -0800 <Jeamps> Right now, I think I would choose #BTC #Bitcoin\n",
      "1491862629220032513 2022-02-10 11:52:22 -0800 <DrDr62989046> the strongest bullish signal flashed for #Bitcoin. Not trend reverse but price bounce is anticipated!  @Tradeosiann is a super #cryptocurrency Trader  I’ve been following his tweets and tips seriously &amp; I’ve been doing great #Metaverse #BTC #DOGE #NFT#_-8\n",
      "1491862629077372935 2022-02-10 11:52:22 -0800 <sayinmuti> 2018 öncesi çıtır olduğum, doların 1.5 BTC nin 40 olduğu zamanlara ışınlayın beni\n",
      "1491862620390912009 2022-02-10 11:52:20 -0800 <defnotbeka> thats $12-13/btc in 2012 prices. his $260 investment in 2012 is now worth $892k, even after the drop since november lol\n",
      "1491862608491786243 2022-02-10 11:52:17 -0800 <sshah1111> @CryptoMichNL If you really cared about her, you would gift her 1 BTC. Love is now measured in BTC.\n",
      "1491862606126190599 2022-02-10 11:52:17 -0800 <AMAE29739496> @inancsalman Btc 38 k düşecek gibi ne diyorsunuz\n",
      "1491862591966167045 2022-02-10 11:52:14 -0800 <CryptoNews_21> 🚨🚨 CRYPTO NEWS ALERT! 🚨🚨  New Hampshire Governor issues executive order establishing commission to study crypto   https://t.co/3KsoEjLvgX  #regulation #cryptocurrencies #unitedstates #government #newhampshire #Crypto #BTC #ETH #DOGE\n",
      "1491862574085795841 2022-02-10 11:52:09 -0800 <adam_quaglino> @CryptosR_Us 2 BTC 🤓 🙏🏻\n",
      "1491862570139013126 2022-02-10 11:52:08 -0800 <DrDr62989046> the strongest bullish signal flashed for #Bitcoin. Not trend reverse but price bounce is anticipated!  @Tradeosiann is a super #cryptocurrency Trader  I’ve been following his tweets and tips seriously &amp; I’ve been doing great #Metaverse #BTC #DOGE #NFTzcv\n",
      "1491862564011192329 2022-02-10 11:52:07 -0800 <GoPickUpCoin> \"Pretty straightforward price action-wise for BTC,\" he tweeted in fresh analysis on the day.  https://t.co/ZVdmlkrDgP via @cointelegraph #Litecoin #XRP #Blockchain #USDT #ETH\n",
      "1491862560966012934 2022-02-10 11:52:06 -0800 <RBM_Photo> Thanks @WhatBitcoinDid &amp; @jackmaIlers #btc #LightningNetwork #IMF  https://t.co/SXT0tluXuP\n",
      "1491862547561168907 2022-02-10 11:52:03 -0800 <jaldeko> @alporpe Luego el BTC no sólo no ha protegido frente a la inflación no esperada sino que se ha depreciado aún más que el dólar. Es cierto que es en el corto plazo, pero no me espero una respuesta así de un activo refugio o reserva de valor que elijo para protegerme frente al dólar.\n",
      "1491862545573072903 2022-02-10 11:52:02 -0800 <ruppicoin> تعداد آدرس هایی که بیش از 1000000 دلار #بیت_کوین دارند به 96492 رسیده است.  #Bitcoin | #BTC  https://t.co/mjDz62MeHd\n",
      "1491862542146281474 2022-02-10 11:52:02 -0800 <doption> If the gap down opening was A, then C is complete here and we’ll end the week UP. Protection is lagging though.. $spx $btc\n",
      "1491862538635591689 2022-02-10 11:52:01 -0800 <CarlosethEth> @222Iammichael @TrustWallet We are in the month of Love, I want to do $1k worth of BTC, ETH, and any other cryptocurrency to 5 lucky winners, send me your wallets asap\n",
      "1491862532365053952 2022-02-10 11:51:59 -0800 <jayapranapro> Seandainya (dengan modal sama), saya sudah ikut nabung $BTC di awal pandemi. Mengapa baru mulai 27 Sep 2021? Penyesalan memang datang terlambat.\n",
      "1491862527034146823 2022-02-10 11:51:58 -0800 <GymVoids> @CryptosR_Us I’d take 1 BTC if the offer was out there.💯🤑BronxBitcoinBulls 👊🏻\n",
      "1491862520168169474 2022-02-10 11:51:56 -0800 <CmoBitcoin> #Bitcoin supply audit! Total #Bitcoins mined till date: 18953950.04247566 Total Supply: 20,999,999.9769 #Bitcoin supply remaining:2046049.9344243407 Percentage in circulation:90.2569% #Bitcoin #BTC #blockchain #mining #analysis\n",
      "1491862519627059205 2022-02-10 11:51:56 -0800 <ebere_richie> @alto_defi Alto is the next btc......buy and hold now! Your future is secured.😍\n",
      "1491862517672468480 2022-02-10 11:51:56 -0800 <tekniker30> @btc_magazin @navyinvestors @crivizone @MoneyKripto @TradeWars_10 @srknolgn @prensfire48 @mumya48\n",
      "1491862508440895497 2022-02-10 11:51:54 -0800 <Snow60883956> Nobody else in the world can inspire you, the way you can inspire yourself. Surprise yourself with the things you can do.#BTC #ETH #cryptocurrencies #SuccessTRAIN  https://t.co/AZoEOvPaIe\n",
      "1491862500459126786 2022-02-10 11:51:52 -0800 <MrHowellCEO> Remember This: It's Never About Them, It's Always About You!  That Man/Woman in the Mirror is Ur Only Competition.  Remember....Everything is Bitcoin Right Now. Profit from the Wave. $BTC $SHIB  Ask Me How. #NextLevel #YoungBoss #BlackWealth #MoneyMotivated #BossDivas #BTCWealth  https://t.co/s85hg5BAMo\n",
      "1491862496600330242 2022-02-10 11:51:51 -0800 <darnleymining> 25,000 #ASICMiners, 200PH/s, and 300 #BTC mined per month. That’s Darnley Mining!  Click on  https://t.co/hJLbXJFfhc, create an account, and deposit some Bitcoin.  Joining has never been easier..             #Bitcoin  #crypto #BitcoinMining #btcmining\n"
     ]
    },
    {
     "name": "stdout",
     "output_type": "stream",
     "text": [
      "1491862494444498950 2022-02-10 11:51:50 -0800 <ChandlerRuiz4> &lt;&lt;Today's Pizza in Tomorrow's Bitcoin&gt;&gt;🍕🍕🍕 How much did your pizza cost in future bitcoin #NFT #NFTs #nftart #BTC  https://t.co/3aNUsJIFQw\n",
      "1491862488647876612 2022-02-10 11:51:49 -0800 <DrDr62989046> the strongest bullish signal flashed for #Bitcoin. Not trend reverse but price bounce is anticipated!  @Tradeosiann is a super #cryptocurrency Trader  I’ve been following his tweets and tips seriously &amp; I’ve been doing great #Metaverse #BTC #DOGE #NFT&amp;-#\n",
      "1491862486831804418 2022-02-10 11:51:48 -0800 <Steef_Kas> @CryptoIRELAND1 Aaaaaaand thats how the $ gets killed.  Imagine that you just can print #BTC it would be worthless instantly.\n",
      "1491862486361927706 2022-02-10 11:51:48 -0800 <santhoshvizag> $BTC would be nice if computer algos didn't trade this in lock step with equities and the Fed Reserve would STFU 👍\n",
      "1491862483727966213 2022-02-10 11:51:48 -0800 <coincapitan> $BTC Price: $44719 $ETH Price: $3140 $LTC Price: $136  Next update in 10 minutes Last updated: 14:51:46.05\n",
      "1491862480464846851 2022-02-10 11:51:47 -0800 <rbtownctown> @TonKayly @intocryptoverse BTC now red\n",
      "1491862478485352449 2022-02-10 11:51:46 -0800 <RatanRo7209> $BTC $ETH $DOGE $yfi EARNED 100K WITHIN A YEAR AFTER JOINING CT.THEIR LESSONS, ALERTS, CALL HELP ME A LOT THANKS TO CT.  https://t.co/VKOOgnwGql  https://t.co/J9vxWMu7os\n",
      "1491862476706701315 2022-02-10 11:51:46 -0800 <FALGSCHacker> @The_BTC_Express I think we are in a Goat Market.\n",
      "1491862474676654082 2022-02-10 11:51:46 -0800 <kurtoglusinav> @birarifin Fırtına btc ve akaryakıt fiyatını yükseltip uçuyoruz tamam dediğimizde yere mi vuracak.Aslanamca böyle bir  durumda bunu degerlendirip çift dikiş yapabilirimiyiz .siz  btc ölü toprağını üzerinden attı demiştiniz.\n",
      "1491862471786868741 2022-02-10 11:51:45 -0800 <CamotilloPillo> @fujigolp Shibita, consulta. Sabes cuál es el fee por transferencia de BTC de Wallet a Wallet?\n",
      "1491862468125241351 2022-02-10 11:51:44 -0800 <Crypto_Crabs> MONEY IS NOT EVERTHING want to go to heaven ? its never to late watch this  and learn to repent $BTC $ETH $ADA $BNB $MOVR $GLMR $AVAX $SOL #CryptoNews\n",
      "1491862466497818624 2022-02-10 11:51:44 -0800 <NurRayArt> #Shortsqueeze #stocks #stockmarketcrash #stockmarkets #StockMarket #cryptocurrency #cryptocurrencies $GME $AMC $XELA $BBIG $PROG $MMAT $ATER $BKKT $SNDL $IRNT $CEI $BTC $ETH Vote Down Below!\n",
      "1491862460789317645 2022-02-10 11:51:42 -0800 <ari77719> @RogerTh43176914 @CFrogE1 its up 7% against btc in a year lol.\n",
      "1491862460135092227 2022-02-10 11:51:42 -0800 <GrafikPolisi07> #BTC #BTCUSDT #BTCUSD #Bitcoin Arkadaşlar dün btc nin yükseleceğini öngörüp alt coinlerden  sebeplenelim kazanalım istedim ve işlemlere başlamıştım.. Ama malumunuz piyasadaki güvensizlik baş neden olmak üzere altlarda hareket başlamadı genel anlamda hepsi yerinde sayıyor..\n",
      "1491862454686654469 2022-02-10 11:51:41 -0800 <sgleahy> The recent decreased correlations between #BTC and all others is a good thing for the digital assets market.\n",
      "1491862450475782144 2022-02-10 11:51:40 -0800 <btc_status> #BTC Derivs Sheet (Tweet every 15 min.) CME Delayed (10 min) GS Delayed (15 min) and OI = SHARES OUT  https://t.co/tD1ccQ8tOm\n",
      "1491862450400280576 2022-02-10 11:51:40 -0800 <alexjazzi1> @DaCryptoGems @unoreinsure What happens if btc breaks below 40k ? How will it affect #UnoRe ?\n",
      "1491862441638207495 2022-02-10 11:51:38 -0800 <MhmtYldz1912> @cz_binance #BTC\n",
      "1491862433983606785 2022-02-10 11:51:36 -0800 <BscGemHunter2> You can get our free coin with our game and we are making it first in #BSC we have multiple REWARD system (  https://t.co/ygk2jRjfOV )  https://t.co/uD8Km2niER #BSC #BSCGEM #BSCGEMS #btc #eth #coinmarketcap #coingecko #shibago\n",
      "1491862433752915968 2022-02-10 11:51:36 -0800 <ErektrycznyLuk> @piotr_rataj @kobuch6 @kobuch6  BTC wytwarza energię z prądu? Hmm... ciekawe w jaki sposób? Auto wykorzystuje energię z paliwa do przemieszczania się. A BTC do czego? BTC to raczej magazyn ale poprostu \"wartości\" I my mu tą wartość nadajemy.\n",
      "1491862431664115716 2022-02-10 11:51:35 -0800 <cryptotrendin> Top 5 Mentions Updated Every 15 Minutes    [BETA STAGE] Except BTC and ETH      1- $FTM:354216 point 🚀    2- $THETA:301428 point 🚀    3- $BEAM:287865 point 🚀    4- $NWC:287772 point 🚀    5- $DIA:245337 point 🚀\n",
      "1491862429655085064 2022-02-10 11:51:35 -0800 <realBitcoinaire> @MacroScope17 How much you want to bet BTC tanks after 4pm est today? BTC lags stonks\n",
      "1491862420805009412 2022-02-10 11:51:33 -0800 <AndrejCibik> @CHAIRFORCE_BTC Save your close people.  https://t.co/hUZfYZyqgT\n",
      "1491862419672428545 2022-02-10 11:51:32 -0800 <thejoeyelite> @coffeebreak_YT @The_BTC_Express @squiggles Squiggles = Scam\n",
      "1491862413171474434 2022-02-10 11:51:31 -0800 <DrDr62989046> the strongest bullish signal flashed for #Bitcoin. Not trend reverse but price bounce is anticipated!  @Tradeosiann is a super #cryptocurrency Trader  I’ve been following his tweets and tips seriously &amp; I’ve been doing great #Metaverse #BTC #DOGE #NFT$&amp;+\n",
      "1491862409484640258 2022-02-10 11:51:30 -0800 <Gizem94854809> @saurik @andy8052 @optimismPBC #BTC #Sol #Avax\n",
      "1491862400185872386 2022-02-10 11:51:28 -0800 <DaGiltyMan> @btc_random @goodblackdude As George Carlin said, “You have no rights, just temporary privileges.”\n",
      "1491862378081828865 2022-02-10 11:51:23 -0800 <AlexV02920586> @PoloniexRussia #конкурсPoloniex BTC 51.320$\n",
      "1491862374298624007 2022-02-10 11:51:22 -0800 <MatthewKBT> @MorningBrew Cash - assuming I’m allowed to spend on multiple stocks, BTC, and/or other investments immediately\n",
      "1491862373459800066 2022-02-10 11:51:21 -0800 <CipherGNFT> Super Bowl 50,000$ $BTC giveaway  To enter: 1. Retweet this tweet♻️  2. Tag 2 friends👇  3. Create NitrogenSports account here:  https://t.co/ZQEIy9tQPW 4. Submit your entries here:  https://t.co/dH0QRvA9ZB  Enter all contests, 25+ winners🎊   #ETH #NFTGiveaway #NFTCommunity\n",
      "1491862372260143110 2022-02-10 11:51:21 -0800 <HawalMouhamed> @SusieCupon @Bitcoin Okay I really want to know more about it and you ! 😁\n",
      "1491862361799540737 2022-02-10 11:51:19 -0800 <airdropcucoinci> @yseminaksoy Ben gram altın alım  fiyatını ve lisanslı BTC nin bir tur  daha aşağı düşüp düşmeyeceğini merak ediyorum düşecekse de sizce  nereye kadar düşebilir...gramda  alım yapmadım sizi dinledikten sonra bir kaç tane alt coin alcam ancak sizi dinledikten sonra bir tur\n",
      "1491862360776183814 2022-02-10 11:51:18 -0800 <CryptoSke> @Thraeki @BTC_Archive Yeah but Bitcoin isn’t causing wealth disparity. It can be a solution to it\n",
      "1491862354581147650 2022-02-10 11:51:17 -0800 <Anaristlerdenm1> @btc_magazin @navyinvestors @crivizone @MoneyKripto @TradeWars_10 🤝\n",
      "1491862352702021632 2022-02-10 11:51:17 -0800 <JessieGCrypto> Bitcoin rejects sell-off as 7.5% US inflation fails to keep BTC down for long  https://t.co/xGeQNthhA4 via @cointelegraph\n",
      "1491862350080663556 2022-02-10 11:51:16 -0800 <john_j_brown> For every $1k price move of BTC, prospective $LEO buyback changes by $80m.  This translates to a price impact of $0.085 on LEO per $1k BTC price move.\n",
      "1491862344942911488 2022-02-10 11:51:15 -0800 <hocca_official> #btc #bitcoin dominance  https://t.co/sg4gHIIWN5\n",
      "1491862336445075464 2022-02-10 11:51:13 -0800 <DrDr62989046> the strongest bullish signal flashed for #Bitcoin. Not trend reverse but price bounce is anticipated!  @Tradeosiann is a super #cryptocurrency Trader  I’ve been following his tweets and tips seriously &amp; I’ve been doing great #Metaverse #BTC #DOGE #NFT@#&amp;\n",
      "1491862335383916548 2022-02-10 11:51:12 -0800 <LiveHodl> @Anders_ No, this is misleading. How about some responsible BTC shilling? Maxis aren’t programmed for that I guess.  How about if you have 1 BTC, in 5 years chances are you are gonna be more comfortable than you are now.   But that doesn’t drive meaningless Twitter engagement.\n",
      "1491862328060653570 2022-02-10 11:51:11 -0800 <KallaFlorian> @SheldonEvans I think the crypto market is still moving too close to tradfi. As long as we don't entirely decouple this year will be bumpy (high inflation should drive BTC, but inflations means risk for tradfi, and inflations means risk off, and inflations means DCF models go down)\n",
      "1491862321026977793 2022-02-10 11:51:09 -0800 <heles_alex> I'm part of a server where top traders actually get paid based on results (over $70k last month). All based on merit. That's how you know you're getting the best alerts  https://t.co/MO6dcdsWPi  - $WISH $XOM $RIOT $SKLZ $DRNA $AAPL $AMZN $TSLA $BTC $FB $SPY $NFLX $AMD $MSFT $AMC\n",
      "1491862313942634496 2022-02-10 11:51:07 -0800 <ereyestercrypto> BTC/JPY = 5163884円  ETH/JPY = 363397円  XRP/JPY = 98.817円  LTC/JPY = 15828.3円  #ビットコイン #仮想通貨 #BTC #ETH #XRP #LTC\n",
      "1491862307844116480 2022-02-10 11:51:06 -0800 <One_MkB> #BTC 🥷  https://t.co/ApXmOM7o7p\n"
     ]
    },
    {
     "name": "stdout",
     "output_type": "stream",
     "text": [
      "1491862305650483208 2022-02-10 11:51:05 -0800 <Yusuf1Aksu> @yseminaksoy Btc 393xx\n",
      "1491862305600008283 2022-02-10 11:51:05 -0800 <JDxBruce> FollowBack 🏇 #Bitcoin #BTC #Cryptos ifb Airdrop @cctip_com draw 1200 SHIB 100  👉 Shill me your Gem 💎 🚀   https://t.co/btz1jImr9m\n",
      "1491862304526266376 2022-02-10 11:51:05 -0800 <CryptoBazz_> #Crypto Bears talking about resistance rejection and how we’ll now resume the Bear Market 😂😂  Can’t wait what they come up with at $50k, $55k, $60k, $65k, New ATHs. 😂😂  $BTC $XRP $ETH $LTC $QNT\n",
      "1491862289049288704 2022-02-10 11:51:01 -0800 <BloodFaceBear> TA scale: Right 100% =impossible / God Right 90% = impossible / Batman Right 80% =possible / Sheldon Right 70% =possible / Wolf Right 60% =possible / Wallstreet Moral = you'll nevr find the \"1\" Find opposing TA's &amp; respect their findings &amp; draw your own conclusions $vra #BTC #ETH\n",
      "1491862288583716873 2022-02-10 11:51:01 -0800 <crypto910bot> 直近1分間で大きな価格変動がありました BTC-MOVE-0210    -10.14%\n",
      "1491862287627563012 2022-02-10 11:51:01 -0800 <ExchangeWhales> 🚀🚀🚀 $1,684,680 BTCUSDT LONGED @$44,500.00 on #Binance (19:51:01 UTC) #BTC #cryptocurrency\n",
      "1491862287141195778 2022-02-10 11:51:01 -0800 <btc_orderalert> 🐋📉【Sell】 BTCUSDT Qty：$1,684,681（37.8 BTC）🐳🐳🐳 Price：$44,500 [19:51:01 UTC] on Binance Futures\n",
      "1491862285912092681 2022-02-10 11:51:01 -0800 <FindCoinAction> #BITCOIN #BTC impulse bar 44558 - 44797.86  $BTC Bar close 44558.94  #Crypto short term volatility detection\n",
      "1491862285119336451 2022-02-10 11:51:00 -0800 <kriptox0> #bitcoin  yükseliyor buna mukabil #ethereum ve bir kaç istisna hariç genel olarak #altcoinler yükselmiyor,  Bu çok can sıkıcı..Btc dominansı da ahım şahım yükselmiyor üstelik.  Btc nin yeni rekor ve ath yapması akabinde altcoinlerin yükselmesi gerektiği dışında fikri olan var mı?\n",
      "1491862282703458315 2022-02-10 11:51:00 -0800 <Crypto_Oswal2> @DiarioBitcoin Si hubiera otra selección de crypto lo invertirá completo pero en esas opciones bitcoin y stalking en btc\n",
      "1491862280329633793 2022-02-10 11:50:59 -0800 <Mixgareth> @martypartymusic #BabyDoge #BabyDogeArmyBR #BSC #BTC #BabyDogeArmy #BabyDogeCoinNFT #BabyDogeCoin @BabyDogeCoin  https://t.co/pe6JWo0nCx\n",
      "1491862275791151111 2022-02-10 11:50:58 -0800 <JonsimsEth> @bully_btc 🎬🎥📼\n",
      "1491862275409563658 2022-02-10 11:50:58 -0800 <criptobastardo> #BTC\n",
      "1491862269482962950 2022-02-10 11:50:57 -0800 <tendies4brkfast> @Miggle_BTC @ClareCraigPath Consult a doctor. Not twitter.\n",
      "1491862262654644224 2022-02-10 11:50:55 -0800 <eganon691> @Pentosh1 THANK YOU!.  Its hard to find someone with similar thoughts here.  Just because you are not uber Long BTC does not mean you are uber Short either.  Cash is always a position of strength.\n",
      "1491862260364554240 2022-02-10 11:50:54 -0800 <Christi77570231> @BTC_Archive It’s so Eric\n"
     ]
    }
   ],
   "source": [
    "nest_asyncio.apply()\n",
    "c = twint.Config()\n",
    "c.Search = \"BTC\"\n",
    "c.Lang = \"en\"\n",
    "# c.Username = \"noneprivacy\"\n",
    "# c.Custom[\"tweet\"] = [\"id\"]\n",
    "# c.Custom[\"user\"] = [\"bio\"]\n",
    "\n",
    "c.Store_pandas = True\n",
    "# c.Store_csv = True\n",
    "# c.Output = \"test.csv\"\n",
    "c.Limit = 100\n",
    "c.Pandas = True\n",
    "twint.run.Search(c)"
   ]
  },
  {
   "cell_type": "code",
   "execution_count": 6,
   "id": "d10bbd31",
   "metadata": {},
   "outputs": [
    {
     "name": "stdout",
     "output_type": "stream",
     "text": [
      "<class 'pandas.core.frame.DataFrame'>\n",
      "RangeIndex: 111 entries, 0 to 110\n",
      "Data columns (total 7 columns):\n",
      " #   Column     Non-Null Count  Dtype \n",
      "---  ------     --------------  ----- \n",
      " 0   date       111 non-null    object\n",
      " 1   username   111 non-null    object\n",
      " 2   tweet      111 non-null    object\n",
      " 3   hashtags   111 non-null    object\n",
      " 4   nreplies   111 non-null    int64 \n",
      " 5   nretweets  111 non-null    int64 \n",
      " 6   nlikes     111 non-null    int64 \n",
      "dtypes: int64(3), object(4)\n",
      "memory usage: 6.2+ KB\n"
     ]
    }
   ],
   "source": [
    "# Transform result to pandas\n",
    "def twint_to_pandas(columns):\n",
    "    return twint.output.panda.Tweets_df[columns]\n",
    "df = twint_to_pandas([\"date\", \"username\",\"tweet\", \"hashtags\", \"nreplies\", \"nretweets\",\"nlikes\"])\n",
    "df.info()"
   ]
  },
  {
   "cell_type": "code",
   "execution_count": 7,
   "id": "4eaf8e76",
   "metadata": {},
   "outputs": [
    {
     "data": {
      "text/html": [
       "<div>\n",
       "<style scoped>\n",
       "    .dataframe tbody tr th:only-of-type {\n",
       "        vertical-align: middle;\n",
       "    }\n",
       "\n",
       "    .dataframe tbody tr th {\n",
       "        vertical-align: top;\n",
       "    }\n",
       "\n",
       "    .dataframe thead th {\n",
       "        text-align: right;\n",
       "    }\n",
       "</style>\n",
       "<table border=\"1\" class=\"dataframe\">\n",
       "  <thead>\n",
       "    <tr style=\"text-align: right;\">\n",
       "      <th></th>\n",
       "      <th>date</th>\n",
       "      <th>username</th>\n",
       "      <th>tweet</th>\n",
       "      <th>hashtags</th>\n",
       "      <th>nreplies</th>\n",
       "      <th>nretweets</th>\n",
       "      <th>nlikes</th>\n",
       "    </tr>\n",
       "  </thead>\n",
       "  <tbody>\n",
       "    <tr>\n",
       "      <th>0</th>\n",
       "      <td>2022-02-10 10:33:20</td>\n",
       "      <td>blackshamrocks1</td>\n",
       "      <td>@tedtalksmacro Ted! May we kindly have an upda...</td>\n",
       "      <td>[]</td>\n",
       "      <td>0</td>\n",
       "      <td>0</td>\n",
       "      <td>0</td>\n",
       "    </tr>\n",
       "    <tr>\n",
       "      <th>1</th>\n",
       "      <td>2022-02-10 10:33:20</td>\n",
       "      <td>mdsiam15849676</td>\n",
       "      <td>Trending on #LunarCrush:  \"Inside the Chess Ma...</td>\n",
       "      <td>[lunarcrush]</td>\n",
       "      <td>0</td>\n",
       "      <td>0</td>\n",
       "      <td>0</td>\n",
       "    </tr>\n",
       "    <tr>\n",
       "      <th>2</th>\n",
       "      <td>2022-02-10 10:33:19</td>\n",
       "      <td>Zeze_Kitapsever</td>\n",
       "      <td>@btc_magazin 🙏🙏🙏👏👏</td>\n",
       "      <td>[]</td>\n",
       "      <td>0</td>\n",
       "      <td>0</td>\n",
       "      <td>0</td>\n",
       "    </tr>\n",
       "    <tr>\n",
       "      <th>3</th>\n",
       "      <td>2022-02-10 10:33:18</td>\n",
       "      <td>MccryptA</td>\n",
       "      <td>Another WINNER!! Be the next lucky one to win ...</td>\n",
       "      <td>[]</td>\n",
       "      <td>0</td>\n",
       "      <td>0</td>\n",
       "      <td>0</td>\n",
       "    </tr>\n",
       "    <tr>\n",
       "      <th>4</th>\n",
       "      <td>2022-02-10 10:33:17</td>\n",
       "      <td>kripto_teknik</td>\n",
       "      <td>Canlı yayınımız başladı. Bitcoin ve altcoinler...</td>\n",
       "      <td>[bitcoin, kriptopara]</td>\n",
       "      <td>1</td>\n",
       "      <td>0</td>\n",
       "      <td>0</td>\n",
       "    </tr>\n",
       "  </tbody>\n",
       "</table>\n",
       "</div>"
      ],
      "text/plain": [
       "                  date         username  \\\n",
       "0  2022-02-10 10:33:20  blackshamrocks1   \n",
       "1  2022-02-10 10:33:20   mdsiam15849676   \n",
       "2  2022-02-10 10:33:19  Zeze_Kitapsever   \n",
       "3  2022-02-10 10:33:18         MccryptA   \n",
       "4  2022-02-10 10:33:17    kripto_teknik   \n",
       "\n",
       "                                               tweet               hashtags  \\\n",
       "0  @tedtalksmacro Ted! May we kindly have an upda...                     []   \n",
       "1  Trending on #LunarCrush:  \"Inside the Chess Ma...           [lunarcrush]   \n",
       "2                                 @btc_magazin 🙏🙏🙏👏👏                     []   \n",
       "3  Another WINNER!! Be the next lucky one to win ...                     []   \n",
       "4  Canlı yayınımız başladı. Bitcoin ve altcoinler...  [bitcoin, kriptopara]   \n",
       "\n",
       "   nreplies  nretweets  nlikes  \n",
       "0         0          0       0  \n",
       "1         0          0       0  \n",
       "2         0          0       0  \n",
       "3         0          0       0  \n",
       "4         1          0       0  "
      ]
     },
     "execution_count": 7,
     "metadata": {},
     "output_type": "execute_result"
    }
   ],
   "source": [
    "df.head(5)"
   ]
  },
  {
   "cell_type": "markdown",
   "id": "c8881a20",
   "metadata": {},
   "source": [
    "## Sentiment analysis"
   ]
  },
  {
   "cell_type": "markdown",
   "id": "3027b4a3",
   "metadata": {},
   "source": [
    "### 1. Preprocessing"
   ]
  },
  {
   "cell_type": "code",
   "execution_count": 13,
   "id": "e02e9c7c",
   "metadata": {},
   "outputs": [],
   "source": [
    "def clean_anonymization(tweet):\n",
    "    res=[]\n",
    "    # Lowercase\n",
    "    tweet = tweet.lower()\n",
    "    # Remove single letter words\n",
    "    # tweet = ' '.join( [w for w in tweet.split() if len(w)>1] )\n",
    "    # Remove stopword\n",
    "    tweet = ' '.join([word for word in tweet.split() if word.lower() not in sw_nltk])\n",
    "    # remove the word after @ OR #\n",
    "    for i in tweet.split():\n",
    "        if i.startswith(\"@\") or i.startswith(\"#\"):\n",
    "            continue\n",
    "        else:\n",
    "            res.append(i)\n",
    "    return ' '.join(res)"
   ]
  },
  {
   "cell_type": "code",
   "execution_count": 14,
   "id": "003ca7cd",
   "metadata": {},
   "outputs": [
    {
     "name": "stderr",
     "output_type": "stream",
     "text": [
      "<ipython-input-14-79f1e2b532d2>:1: SettingWithCopyWarning: \n",
      "A value is trying to be set on a copy of a slice from a DataFrame.\n",
      "Try using .loc[row_indexer,col_indexer] = value instead\n",
      "\n",
      "See the caveats in the documentation: https://pandas.pydata.org/pandas-docs/stable/user_guide/indexing.html#returning-a-view-versus-a-copy\n",
      "  df['tweet']=df['tweet'].apply(lambda x:clean_anonymization(x))\n"
     ]
    }
   ],
   "source": [
    "df['tweet']=df['tweet'].apply(lambda x:clean_anonymization(x))"
   ]
  },
  {
   "cell_type": "code",
   "execution_count": 15,
   "id": "a19ae321",
   "metadata": {},
   "outputs": [
    {
     "data": {
      "text/html": [
       "<div>\n",
       "<style scoped>\n",
       "    .dataframe tbody tr th:only-of-type {\n",
       "        vertical-align: middle;\n",
       "    }\n",
       "\n",
       "    .dataframe tbody tr th {\n",
       "        vertical-align: top;\n",
       "    }\n",
       "\n",
       "    .dataframe thead th {\n",
       "        text-align: right;\n",
       "    }\n",
       "</style>\n",
       "<table border=\"1\" class=\"dataframe\">\n",
       "  <thead>\n",
       "    <tr style=\"text-align: right;\">\n",
       "      <th></th>\n",
       "      <th>date</th>\n",
       "      <th>username</th>\n",
       "      <th>tweet</th>\n",
       "      <th>hashtags</th>\n",
       "      <th>nreplies</th>\n",
       "      <th>nretweets</th>\n",
       "      <th>nlikes</th>\n",
       "    </tr>\n",
       "  </thead>\n",
       "  <tbody>\n",
       "    <tr>\n",
       "      <th>0</th>\n",
       "      <td>2022-02-10 10:33:20</td>\n",
       "      <td>blackshamrocks1</td>\n",
       "      <td>ted! may kindly update today's events outlook ...</td>\n",
       "      <td>[]</td>\n",
       "      <td>0</td>\n",
       "      <td>0</td>\n",
       "      <td>0</td>\n",
       "    </tr>\n",
       "    <tr>\n",
       "      <th>1</th>\n",
       "      <td>2022-02-10 10:33:20</td>\n",
       "      <td>mdsiam15849676</td>\n",
       "      <td>trending \"inside chess match led feds $3.6 bil...</td>\n",
       "      <td>[lunarcrush]</td>\n",
       "      <td>0</td>\n",
       "      <td>0</td>\n",
       "      <td>0</td>\n",
       "    </tr>\n",
       "    <tr>\n",
       "      <th>2</th>\n",
       "      <td>2022-02-10 10:33:19</td>\n",
       "      <td>Zeze_Kitapsever</td>\n",
       "      <td>🙏🙏🙏👏👏</td>\n",
       "      <td>[]</td>\n",
       "      <td>0</td>\n",
       "      <td>0</td>\n",
       "      <td>0</td>\n",
       "    </tr>\n",
       "    <tr>\n",
       "      <th>3</th>\n",
       "      <td>2022-02-10 10:33:18</td>\n",
       "      <td>MccryptA</td>\n",
       "      <td>another winner!! next lucky one win $50 $btc. ...</td>\n",
       "      <td>[]</td>\n",
       "      <td>0</td>\n",
       "      <td>0</td>\n",
       "      <td>0</td>\n",
       "    </tr>\n",
       "    <tr>\n",
       "      <th>4</th>\n",
       "      <td>2022-02-10 10:33:17</td>\n",
       "      <td>kripto_teknik</td>\n",
       "      <td>canlı yayınımız başladı. bitcoin altcoinlerdek...</td>\n",
       "      <td>[bitcoin, kriptopara]</td>\n",
       "      <td>1</td>\n",
       "      <td>0</td>\n",
       "      <td>0</td>\n",
       "    </tr>\n",
       "  </tbody>\n",
       "</table>\n",
       "</div>"
      ],
      "text/plain": [
       "                  date         username  \\\n",
       "0  2022-02-10 10:33:20  blackshamrocks1   \n",
       "1  2022-02-10 10:33:20   mdsiam15849676   \n",
       "2  2022-02-10 10:33:19  Zeze_Kitapsever   \n",
       "3  2022-02-10 10:33:18         MccryptA   \n",
       "4  2022-02-10 10:33:17    kripto_teknik   \n",
       "\n",
       "                                               tweet               hashtags  \\\n",
       "0  ted! may kindly update today's events outlook ...                     []   \n",
       "1  trending \"inside chess match led feds $3.6 bil...           [lunarcrush]   \n",
       "2                                              🙏🙏🙏👏👏                     []   \n",
       "3  another winner!! next lucky one win $50 $btc. ...                     []   \n",
       "4  canlı yayınımız başladı. bitcoin altcoinlerdek...  [bitcoin, kriptopara]   \n",
       "\n",
       "   nreplies  nretweets  nlikes  \n",
       "0         0          0       0  \n",
       "1         0          0       0  \n",
       "2         0          0       0  \n",
       "3         0          0       0  \n",
       "4         1          0       0  "
      ]
     },
     "execution_count": 15,
     "metadata": {},
     "output_type": "execute_result"
    }
   ],
   "source": [
    "df.head()"
   ]
  },
  {
   "cell_type": "markdown",
   "id": "44bd3338",
   "metadata": {},
   "source": [
    "### 2. Stacked-LSTM \n",
    "\n",
    "First model has embedding layer, convolution layer, max-pooling layer, LSTM layer and classification layer. CNN layer improves the processing time but operation can lose information on local order of words, so accurate sequential tagging is difficult to be analyzed in\n",
    "convolution layer. Therefore, LSTM layer has been added to process the sequential data [13].\n",
    "\n",
    "The second model has multi-layered LSTM layers instead of convolution and max-pooling layer. When a LSTM layer processes a single input sequence of time-series data, each cell returns single value of whole sequence in two-dimensional array. Stacked-LSTM (S-LSTM) model allows greater model complexity and learn a hierarchical representation of time-series data. Time-series data are split into 𝑛 number of time periods for training the proposed model. The overview of sentiment analysis and polarity identification using proposed model is depicted in Fig. 3. 𝐷𝑛 represents the oldest DL model that is trained with oldest knowledge base and 𝐷1 is the most current DL model that has been trained with current review data."
   ]
  },
  {
   "cell_type": "code",
   "execution_count": 29,
   "id": "8321876e",
   "metadata": {},
   "outputs": [
    {
     "ename": "ValueError",
     "evalue": "Input 0 of layer \"conv2d_2\" is incompatible with the layer: expected min_ndim=4, found ndim=2. Full shape received: (None, 176)",
     "output_type": "error",
     "traceback": [
      "\u001B[0;31m---------------------------------------------------------------------------\u001B[0m",
      "\u001B[0;31mValueError\u001B[0m                                Traceback (most recent call last)",
      "\u001B[0;32m<ipython-input-29-87ae282c33cd>\u001B[0m in \u001B[0;36m<module>\u001B[0;34m\u001B[0m\n\u001B[1;32m     23\u001B[0m \u001B[0mmodel\u001B[0m\u001B[0;34m.\u001B[0m\u001B[0madd\u001B[0m\u001B[0;34m(\u001B[0m\u001B[0membedding_layer\u001B[0m\u001B[0;34m)\u001B[0m\u001B[0;34m\u001B[0m\u001B[0;34m\u001B[0m\u001B[0m\n\u001B[1;32m     24\u001B[0m \u001B[0mmodel\u001B[0m\u001B[0;34m.\u001B[0m\u001B[0madd\u001B[0m\u001B[0;34m(\u001B[0m\u001B[0mlstm\u001B[0m\u001B[0;34m)\u001B[0m\u001B[0;34m\u001B[0m\u001B[0;34m\u001B[0m\u001B[0m\n\u001B[0;32m---> 25\u001B[0;31m \u001B[0mmodel\u001B[0m\u001B[0;34m.\u001B[0m\u001B[0madd\u001B[0m\u001B[0;34m(\u001B[0m\u001B[0mConv2D_layer\u001B[0m\u001B[0;34m)\u001B[0m\u001B[0;34m\u001B[0m\u001B[0;34m\u001B[0m\u001B[0m\n\u001B[0m\u001B[1;32m     26\u001B[0m \u001B[0mmodel\u001B[0m\u001B[0;34m.\u001B[0m\u001B[0madd\u001B[0m\u001B[0;34m(\u001B[0m\u001B[0mmax_pooling_layer\u001B[0m\u001B[0;34m)\u001B[0m\u001B[0;34m\u001B[0m\u001B[0;34m\u001B[0m\u001B[0m\n\u001B[1;32m     27\u001B[0m \u001B[0mmodel\u001B[0m\u001B[0;34m.\u001B[0m\u001B[0madd\u001B[0m\u001B[0;34m(\u001B[0m\u001B[0mDense\u001B[0m\u001B[0;34m(\u001B[0m\u001B[0;36m1\u001B[0m\u001B[0;34m,\u001B[0m\u001B[0mactivation\u001B[0m\u001B[0;34m=\u001B[0m\u001B[0;34m'sigmoid'\u001B[0m\u001B[0;34m)\u001B[0m\u001B[0;34m)\u001B[0m\u001B[0;34m\u001B[0m\u001B[0;34m\u001B[0m\u001B[0m\n",
      "\u001B[0;32m~/.local/lib/python3.8/site-packages/tensorflow/python/training/tracking/base.py\u001B[0m in \u001B[0;36m_method_wrapper\u001B[0;34m(self, *args, **kwargs)\u001B[0m\n\u001B[1;32m    627\u001B[0m     \u001B[0mself\u001B[0m\u001B[0;34m.\u001B[0m\u001B[0m_self_setattr_tracking\u001B[0m \u001B[0;34m=\u001B[0m \u001B[0;32mFalse\u001B[0m  \u001B[0;31m# pylint: disable=protected-access\u001B[0m\u001B[0;34m\u001B[0m\u001B[0;34m\u001B[0m\u001B[0m\n\u001B[1;32m    628\u001B[0m     \u001B[0;32mtry\u001B[0m\u001B[0;34m:\u001B[0m\u001B[0;34m\u001B[0m\u001B[0;34m\u001B[0m\u001B[0m\n\u001B[0;32m--> 629\u001B[0;31m       \u001B[0mresult\u001B[0m \u001B[0;34m=\u001B[0m \u001B[0mmethod\u001B[0m\u001B[0;34m(\u001B[0m\u001B[0mself\u001B[0m\u001B[0;34m,\u001B[0m \u001B[0;34m*\u001B[0m\u001B[0margs\u001B[0m\u001B[0;34m,\u001B[0m \u001B[0;34m**\u001B[0m\u001B[0mkwargs\u001B[0m\u001B[0;34m)\u001B[0m\u001B[0;34m\u001B[0m\u001B[0;34m\u001B[0m\u001B[0m\n\u001B[0m\u001B[1;32m    630\u001B[0m     \u001B[0;32mfinally\u001B[0m\u001B[0;34m:\u001B[0m\u001B[0;34m\u001B[0m\u001B[0;34m\u001B[0m\u001B[0m\n\u001B[1;32m    631\u001B[0m       \u001B[0mself\u001B[0m\u001B[0;34m.\u001B[0m\u001B[0m_self_setattr_tracking\u001B[0m \u001B[0;34m=\u001B[0m \u001B[0mprevious_value\u001B[0m  \u001B[0;31m# pylint: disable=protected-access\u001B[0m\u001B[0;34m\u001B[0m\u001B[0;34m\u001B[0m\u001B[0m\n",
      "\u001B[0;32m~/.local/lib/python3.8/site-packages/keras/utils/traceback_utils.py\u001B[0m in \u001B[0;36merror_handler\u001B[0;34m(*args, **kwargs)\u001B[0m\n\u001B[1;32m     65\u001B[0m     \u001B[0;32mexcept\u001B[0m \u001B[0mException\u001B[0m \u001B[0;32mas\u001B[0m \u001B[0me\u001B[0m\u001B[0;34m:\u001B[0m  \u001B[0;31m# pylint: disable=broad-except\u001B[0m\u001B[0;34m\u001B[0m\u001B[0;34m\u001B[0m\u001B[0m\n\u001B[1;32m     66\u001B[0m       \u001B[0mfiltered_tb\u001B[0m \u001B[0;34m=\u001B[0m \u001B[0m_process_traceback_frames\u001B[0m\u001B[0;34m(\u001B[0m\u001B[0me\u001B[0m\u001B[0;34m.\u001B[0m\u001B[0m__traceback__\u001B[0m\u001B[0;34m)\u001B[0m\u001B[0;34m\u001B[0m\u001B[0;34m\u001B[0m\u001B[0m\n\u001B[0;32m---> 67\u001B[0;31m       \u001B[0;32mraise\u001B[0m \u001B[0me\u001B[0m\u001B[0;34m.\u001B[0m\u001B[0mwith_traceback\u001B[0m\u001B[0;34m(\u001B[0m\u001B[0mfiltered_tb\u001B[0m\u001B[0;34m)\u001B[0m \u001B[0;32mfrom\u001B[0m \u001B[0;32mNone\u001B[0m\u001B[0;34m\u001B[0m\u001B[0;34m\u001B[0m\u001B[0m\n\u001B[0m\u001B[1;32m     68\u001B[0m     \u001B[0;32mfinally\u001B[0m\u001B[0;34m:\u001B[0m\u001B[0;34m\u001B[0m\u001B[0;34m\u001B[0m\u001B[0m\n\u001B[1;32m     69\u001B[0m       \u001B[0;32mdel\u001B[0m \u001B[0mfiltered_tb\u001B[0m\u001B[0;34m\u001B[0m\u001B[0;34m\u001B[0m\u001B[0m\n",
      "\u001B[0;32m~/.local/lib/python3.8/site-packages/keras/engine/input_spec.py\u001B[0m in \u001B[0;36massert_input_compatibility\u001B[0;34m(input_spec, inputs, layer_name)\u001B[0m\n\u001B[1;32m    226\u001B[0m       \u001B[0mndim\u001B[0m \u001B[0;34m=\u001B[0m \u001B[0mx\u001B[0m\u001B[0;34m.\u001B[0m\u001B[0mshape\u001B[0m\u001B[0;34m.\u001B[0m\u001B[0mrank\u001B[0m\u001B[0;34m\u001B[0m\u001B[0;34m\u001B[0m\u001B[0m\n\u001B[1;32m    227\u001B[0m       \u001B[0;32mif\u001B[0m \u001B[0mndim\u001B[0m \u001B[0;32mis\u001B[0m \u001B[0;32mnot\u001B[0m \u001B[0;32mNone\u001B[0m \u001B[0;32mand\u001B[0m \u001B[0mndim\u001B[0m \u001B[0;34m<\u001B[0m \u001B[0mspec\u001B[0m\u001B[0;34m.\u001B[0m\u001B[0mmin_ndim\u001B[0m\u001B[0;34m:\u001B[0m\u001B[0;34m\u001B[0m\u001B[0;34m\u001B[0m\u001B[0m\n\u001B[0;32m--> 228\u001B[0;31m         raise ValueError(f'Input {input_index} of layer \"{layer_name}\" '\n\u001B[0m\u001B[1;32m    229\u001B[0m                          \u001B[0;34m'is incompatible with the layer: '\u001B[0m\u001B[0;34m\u001B[0m\u001B[0;34m\u001B[0m\u001B[0m\n\u001B[1;32m    230\u001B[0m                          \u001B[0;34mf'expected min_ndim={spec.min_ndim}, '\u001B[0m\u001B[0;34m\u001B[0m\u001B[0;34m\u001B[0m\u001B[0m\n",
      "\u001B[0;31mValueError\u001B[0m: Input 0 of layer \"conv2d_2\" is incompatible with the layer: expected min_ndim=4, found ndim=2. Full shape received: (None, 176)"
     ]
    }
   ],
   "source": [
    "# i set 10 as the vocabulary size,as i will be encoding numbers 0 to 9\n",
    "# I want the length of the word vector to be 4,hence output_dim is set to 4. \n",
    "# The length of the input sequence to embedding layer will be 2.\n",
    "\n",
    "model = Sequential()\n",
    "# adding an embedding layer\n",
    "embedding_layer = Embedding(input_dim=10, #Size of the vocabulary\n",
    "                            output_dim=4, #Length of the vector for each word\n",
    "                            input_length=2 # Maximum length of a sequence\n",
    "                           )\n",
    "\n",
    "# adding convolution layer\n",
    "lstm = LSTM(176, dropout=0.2, recurrent_dropout=0.2)\n",
    "# add max pooling layer\n",
    "Conv2D_layer = Conv2D(filters=32,kernel_size=2,padding=\"same\",activation =\"relu\")\n",
    "max_pooling_layer=MaxPooling2D(pool_size=2)\n",
    "# adding an LSTM layer\n",
    "lstm = LSTM(176, dropout=0.2, recurrent_dropout=0.2)\n",
    "\n",
    "model.add(embedding_layer)\n",
    "model.add(lstm)\n",
    "model.add(Conv2D_layer)\n",
    "model.add(max_pooling_layer)\n",
    "model.add(Dense(1,activation='sigmoid'))\n",
    "model.compile(optimizer='adam',loss='binary_crossentropy',metrics=['acc'])\n",
    "print(model.summary())"
   ]
  },
  {
   "cell_type": "code",
   "execution_count": null,
   "id": "6e31850b",
   "metadata": {},
   "outputs": [],
   "source": [
    "# train the model for 100 epochs\n",
    "model.fit(padded_reviews,labels,epochs=100,verbose=0)"
   ]
  },
  {
   "cell_type": "code",
   "execution_count": null,
   "id": "43e52fdb",
   "metadata": {},
   "outputs": [],
   "source": []
  },
  {
   "cell_type": "code",
   "execution_count": 11,
   "id": "3f50bbe2",
   "metadata": {},
   "outputs": [],
   "source": []
  },
  {
   "cell_type": "code",
   "execution_count": null,
   "id": "ec54a2fd",
   "metadata": {},
   "outputs": [],
   "source": []
  },
  {
   "cell_type": "code",
   "execution_count": null,
   "id": "e75484b9",
   "metadata": {},
   "outputs": [],
   "source": []
  },
  {
   "cell_type": "code",
   "execution_count": null,
   "id": "4c94498c",
   "metadata": {},
   "outputs": [],
   "source": []
  },
  {
   "cell_type": "code",
   "execution_count": null,
   "id": "35c41f3d",
   "metadata": {},
   "outputs": [],
   "source": []
  },
  {
   "cell_type": "code",
   "execution_count": null,
   "id": "18d1b508",
   "metadata": {},
   "outputs": [],
   "source": []
  },
  {
   "cell_type": "code",
   "execution_count": null,
   "id": "51206597",
   "metadata": {},
   "outputs": [],
   "source": []
  },
  {
   "cell_type": "code",
   "execution_count": null,
   "id": "3caebc16",
   "metadata": {},
   "outputs": [],
   "source": []
  },
  {
   "cell_type": "code",
   "execution_count": null,
   "id": "1e27f87c",
   "metadata": {},
   "outputs": [],
   "source": []
  },
  {
   "cell_type": "code",
   "execution_count": null,
   "id": "08bb1b6d",
   "metadata": {},
   "outputs": [],
   "source": []
  },
  {
   "cell_type": "code",
   "execution_count": 13,
   "id": "6d95963d",
   "metadata": {},
   "outputs": [],
   "source": [
    "from textblob import TextBlob\n",
    "from IPython.display import Markdown, display"
   ]
  },
  {
   "cell_type": "code",
   "execution_count": 14,
   "id": "4b5c87b3",
   "metadata": {},
   "outputs": [],
   "source": [
    "def printmd(string, color=None):\n",
    "    colorstr = \"<span style='color:{}'>{}</span>\".format(color, string)\n",
    "    display(Markdown(colorstr))"
   ]
  },
  {
   "cell_type": "code",
   "execution_count": 15,
   "id": "3a4d953c",
   "metadata": {},
   "outputs": [
    {
     "name": "stdout",
     "output_type": "stream",
     "text": [
      "@Israelm16432 @Tarjas5 @Cryptobullza @BTC_Archive So this happened to me for 3-weeks and I tried so many means but all failed, luckily for me I got in contact with this Hacker pro.craxk on Instagram, he was the one who helped me, he should help you with yours.\n",
      "Sentiment(polarity=0.1111111111111111, subjectivity=0.5444444444444444)\n"
     ]
    },
    {
     "data": {
      "text/markdown": [
       "<span style='color:green'>Positive</span>"
      ],
      "text/plain": [
       "<IPython.core.display.Markdown object>"
      ]
     },
     "metadata": {},
     "output_type": "display_data"
    },
    {
     "name": "stdout",
     "output_type": "stream",
     "text": [
      "@Barbarasllv6 Boa noite 🔥 chegou com fogo na btc né\n",
      "Sentiment(polarity=0.0, subjectivity=0.0)\n"
     ]
    },
    {
     "data": {
      "text/markdown": [
       "<span style='color:grey'>Neutral</span>"
      ],
      "text/plain": [
       "<IPython.core.display.Markdown object>"
      ]
     },
     "metadata": {},
     "output_type": "display_data"
    },
    {
     "name": "stdout",
     "output_type": "stream",
     "text": [
      "\n",
      "I had a dream that #BTC reached $ 79,000🤔\n",
      "Sentiment(polarity=0.0, subjectivity=0.0)\n"
     ]
    },
    {
     "data": {
      "text/markdown": [
       "<span style='color:grey'>Neutral</span>"
      ],
      "text/plain": [
       "<IPython.core.display.Markdown object>"
      ]
     },
     "metadata": {},
     "output_type": "display_data"
    },
    {
     "name": "stdout",
     "output_type": "stream",
     "text": [
      "\n",
      "Bloc #BTC : 721413 Nombre de transactions entrantes : 6911 Nombre de transactions sortantes : 1469\n",
      "Sentiment(polarity=0.0, subjectivity=0.0)\n"
     ]
    },
    {
     "data": {
      "text/markdown": [
       "<span style='color:grey'>Neutral</span>"
      ],
      "text/plain": [
       "<IPython.core.display.Markdown object>"
      ]
     },
     "metadata": {},
     "output_type": "display_data"
    },
    {
     "name": "stdout",
     "output_type": "stream",
     "text": [
      "\n",
      ". @MicroStrategy now holds 125,051 bitcoins.  Opportunities to use its BTC to generate yield, etc., will increase as more banks enter space, according to CEO Michael @saylor.   https://t.co/GrAd9tTGk6\n",
      "Sentiment(polarity=0.5, subjectivity=0.5)\n"
     ]
    },
    {
     "data": {
      "text/markdown": [
       "<span style='color:green'>Positive</span>"
      ],
      "text/plain": [
       "<IPython.core.display.Markdown object>"
      ]
     },
     "metadata": {},
     "output_type": "display_data"
    },
    {
     "name": "stdout",
     "output_type": "stream",
     "text": [
      "@tyanu_khah 1/2 C’est pas se chauffer qui ne sert a rien. Il voulait dire c’est que c’est le radiateur lui même qui ne sert à rien a part restituer de la chaleur alors que tu pourrais te chauffer avec un mineur de BTC qui restituerait la même chaleur avec sa puissance de calcul.\n",
      "Sentiment(polarity=0.0, subjectivity=0.0)\n"
     ]
    },
    {
     "data": {
      "text/markdown": [
       "<span style='color:grey'>Neutral</span>"
      ],
      "text/plain": [
       "<IPython.core.display.Markdown object>"
      ]
     },
     "metadata": {},
     "output_type": "display_data"
    },
    {
     "name": "stdout",
     "output_type": "stream",
     "text": [
      "\n",
      "@jaygould 30% tax #BTC\n",
      "Sentiment(polarity=0.0, subjectivity=0.0)\n"
     ]
    },
    {
     "data": {
      "text/markdown": [
       "<span style='color:grey'>Neutral</span>"
      ],
      "text/plain": [
       "<IPython.core.display.Markdown object>"
      ]
     },
     "metadata": {},
     "output_type": "display_data"
    },
    {
     "name": "stdout",
     "output_type": "stream",
     "text": [
      "\n",
      "Thoughts on $mstr ? Isn’t the btc value priced in already? What do you think?\n",
      "Sentiment(polarity=0.0, subjectivity=0.0)\n"
     ]
    },
    {
     "data": {
      "text/markdown": [
       "<span style='color:grey'>Neutral</span>"
      ],
      "text/plain": [
       "<IPython.core.display.Markdown object>"
      ]
     },
     "metadata": {},
     "output_type": "display_data"
    },
    {
     "name": "stdout",
     "output_type": "stream",
     "text": [
      "\n",
      "@TheCryptoLark Nobody is talking about the hack wallet with billions of dollars in bitcoin that move the founds from bitfinex yesterday.  I don't get it why people should buy #btc now...???\n",
      "Sentiment(polarity=0.0, subjectivity=0.0)\n"
     ]
    },
    {
     "data": {
      "text/markdown": [
       "<span style='color:grey'>Neutral</span>"
      ],
      "text/plain": [
       "<IPython.core.display.Markdown object>"
      ]
     },
     "metadata": {},
     "output_type": "display_data"
    },
    {
     "name": "stdout",
     "output_type": "stream",
     "text": [
      "\n",
      "$BTC OBV 1D  looking good 👀📌\n",
      "Sentiment(polarity=0.7, subjectivity=0.6000000000000001)\n"
     ]
    },
    {
     "data": {
      "text/markdown": [
       "<span style='color:green'>Positive</span>"
      ],
      "text/plain": [
       "<IPython.core.display.Markdown object>"
      ]
     },
     "metadata": {},
     "output_type": "display_data"
    },
    {
     "name": "stdout",
     "output_type": "stream",
     "text": [
      "@Bitso Si gano ese Bitcoin, dejaré un % en BTC (la cantidad la definiré después) y lo demás lo cambiaré en diferentes cryptos, para tener un portafolio mas amplio.  P.D. Los quiero mucho y los quiero ver triunfar.\n",
      "Sentiment(polarity=0.0, subjectivity=0.0)\n"
     ]
    },
    {
     "data": {
      "text/markdown": [
       "<span style='color:grey'>Neutral</span>"
      ],
      "text/plain": [
       "<IPython.core.display.Markdown object>"
      ]
     },
     "metadata": {},
     "output_type": "display_data"
    },
    {
     "name": "stdout",
     "output_type": "stream",
     "text": [
      "\n",
      "@cattyverse Exceptional logic  but we don't want Cryto bear now Since you are creator of Universe much earlier than Mark Zuckerberg created Metaverse, you can control this and push BTC to SUN\n",
      "Sentiment(polarity=0.3333333333333333, subjectivity=0.75)\n"
     ]
    },
    {
     "data": {
      "text/markdown": [
       "<span style='color:green'>Positive</span>"
      ],
      "text/plain": [
       "<IPython.core.display.Markdown object>"
      ]
     },
     "metadata": {},
     "output_type": "display_data"
    },
    {
     "name": "stdout",
     "output_type": "stream",
     "text": [
      "Tryna fly bae overseas but we up &amp; down like BTC\n",
      "Sentiment(polarity=0.32222222222222224, subjectivity=0.5944444444444444)\n"
     ]
    },
    {
     "data": {
      "text/markdown": [
       "<span style='color:green'>Positive</span>"
      ],
      "text/plain": [
       "<IPython.core.display.Markdown object>"
      ]
     },
     "metadata": {},
     "output_type": "display_data"
    },
    {
     "name": "stdout",
     "output_type": "stream",
     "text": [
      "@saylor #BTC Bossssss 🔥💀🌹🙌💎\n",
      "Sentiment(polarity=0.0, subjectivity=0.0)\n"
     ]
    },
    {
     "data": {
      "text/markdown": [
       "<span style='color:grey'>Neutral</span>"
      ],
      "text/plain": [
       "<IPython.core.display.Markdown object>"
      ]
     },
     "metadata": {},
     "output_type": "display_data"
    },
    {
     "name": "stdout",
     "output_type": "stream",
     "text": [
      "\n"
     ]
    }
   ],
   "source": [
    "for tweet in df['tweet']:\n",
    "    print(tweet)\n",
    "    analysis = TextBlob(tweet)\n",
    "    print(analysis.sentiment)\n",
    "    if analysis.sentiment[0]>0:\n",
    "        printmd('Positive', color=\"green\")\n",
    "    elif analysis.sentiment[0]<0:\n",
    "        printmd('Negative', color=\"red\")\n",
    "    else:\n",
    "        printmd(\"Neutral\", color=\"grey\")\n",
    "        print(\"\")"
   ]
  },
  {
   "cell_type": "code",
   "execution_count": 16,
   "id": "edf25f0e",
   "metadata": {},
   "outputs": [],
   "source": [
    "from textblob import TextBlob\n",
    "from pyspark.sql.functions import udf\n",
    "from pyspark.sql.types import DoubleType\n",
    "# Function to get sentiment \n",
    "def apply_blob(sentence):\n",
    "    temp = TextBlob(sentence).sentiment[0]\n",
    "    if temp == 0.0:\n",
    "        return 0.0 # Neutral\n",
    "    elif temp >= 0.0:\n",
    "        return 1.0 # Positive\n",
    "    else:\n",
    "        return 2.0 # Negative\n",
    "# UDF to write sentiment on DF\n",
    "sentiment = udf(apply_blob, DoubleType())\n",
    "# Transform result to pandas\n",
    "def twint_to_pandas(columns):\n",
    "    return twint.output.panda.Tweets_df[columns]\n",
    "def tweets_sentiment(search, limit=1):\n",
    "    c.Search = search\n",
    "    # Custom output format\n",
    "    c.Format = \"Username: {username} |  Tweet: {tweet}\"\n",
    "    c.Limit = limit\n",
    "    c.Pandas = True\n",
    "    with HiddenPrints():\n",
    "        print(twint.run.Search(c))\n",
    "    \n",
    "    # Transform tweets to pandas DF\n",
    "    df_pd = twint_to_pandas([\"date\", \"username\", \"tweet\", \"hashtags\", \"nlikes\"])\n",
    "    \n",
    "    # Transform Pandas DF to Optimus/Spark DF\n",
    "    df = op.create.data_frame(pdf= df_pd)\n",
    "    \n",
    "    # Clean tweets\n",
    "    clean_tweets = df.cols.remove_accents(\"tweet\") \\\n",
    "                 .cols.remove_special_chars(\"tweet\")\n",
    "    \n",
    "    # Add sentiment to final DF\n",
    "    return clean_tweets.withColumn(\"sentiment\",    sentiment(clean_tweets['tweet']))"
   ]
  },
  {
   "cell_type": "markdown",
   "id": "3e3a8f1b",
   "metadata": {},
   "source": [
    "## Add sentiments to dataframe"
   ]
  },
  {
   "cell_type": "code",
   "execution_count": null,
   "id": "e21d2571",
   "metadata": {},
   "outputs": [],
   "source": []
  }
 ],
 "metadata": {
  "kernelspec": {
   "display_name": "Python 3",
   "language": "python",
   "name": "python3"
  },
  "language_info": {
   "codemirror_mode": {
    "name": "ipython",
    "version": 3
   },
   "file_extension": ".py",
   "mimetype": "text/x-python",
   "name": "python",
   "nbconvert_exporter": "python",
   "pygments_lexer": "ipython3",
   "version": "3.8.8"
  }
 },
 "nbformat": 4,
 "nbformat_minor": 5
}