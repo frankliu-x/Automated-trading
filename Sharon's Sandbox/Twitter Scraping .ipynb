{
 "cells": [
  {
   "cell_type": "code",
   "execution_count": 8,
   "id": "1f9ced0c",
   "metadata": {},
   "outputs": [],
   "source": [
    "#!pip install --user -r requirements.txt"
   ]
  },
  {
   "cell_type": "code",
   "execution_count": 21,
   "id": "198209b9",
   "metadata": {},
   "outputs": [
    {
     "name": "stdout",
     "output_type": "stream",
     "text": [
      "1488667922579230720 2022-02-01 16:17:45 -0800 <FujimanaCom> #仮想通貨 #ビットコイン #BTC 昨日もしっかり陽線だよ🤗  https://t.co/z4a4Hawh2b\n",
      "1488667905554276352 2022-02-01 16:17:41 -0800 <JeffreyAWillia4> @IIICapital @ViridiFunds With the dollar value dropping, and now our national debt reported officially at $30 trillion I expect soon for $BTC price to rise much further and faster.\n",
      "1488667903578701825 2022-02-01 16:17:40 -0800 <Softnes77172020> Just look at that volume on 4hr chart on $BTC It's preparing for a serious rally👀🚀🔥 $btc $eth $link $dot $etc $atom $band  $waves  #bitcoin #crypto  https://t.co/vb4wYWAtnR\n",
      "1488667903574650885 2022-02-01 16:17:40 -0800 <the_BTC_Info> A ce jour, la blockchain #BTC a générée 18946344 #BTC soit 90.22 % du nombre total de #BTC Il reste encore 2053656 #BTC à émettre !  N'investissez dans les actifs numériques que ce que vous êtes prêts à perdre ! =&gt;  https://t.co/c6WmcHPO6J  #Staytuned\n",
      "1488667897127915520 2022-02-01 16:17:39 -0800 <the_BTC_Info> Bloc #BTC : 721415 Cours du BTC sur Binance : 34470.91 euros Nombre de nouveaux bitcoins produits : 6,25 Le mineur de ce bloc a gagné (fees inclus): 217083.24 euros\n",
      "1488667891998539777 2022-02-01 16:17:38 -0800 <news_asx> MicroStrategy Q4 Report - Increased revenue and Bitcoin holdings. $MSTR #BTC #MicroStrategy    https://t.co/e5zQVMtniT\n",
      "1488667890886713347 2022-02-01 16:17:37 -0800 <BtcCrazycat> 2/2 9:13    BTCUSD 4時間足チャート　  + NASDAQ100 CFD  DXYドル指数  BTCJPY  XAUUSD ｺﾞｰﾙﾄﾞ 1800  #BTC　  ※BTCUSD4時間足一目雲をロウソク足実体部分で連続して形成してきているけど、このままこの基調が続き40k台が見えてくるのかな？  BTCUSD 38.7k  https://t.co/NDgkloUJ8T\n",
      "1488667884981207041 2022-02-01 16:17:36 -0800 <CARSONHAWKINS83> #BTC find the Macro of the day =15m, find the Macro of the week = 1hr, find the Macro of the Month = Day, find the Macro of the year = 1 W, all adds up Waldo #Krown\n",
      "1488667875229450240 2022-02-01 16:17:34 -0800 <ochadosmgmt> btc daily closed ⚫️  https://t.co/mDDLNo1fxE\n",
      "1488667870267592709 2022-02-01 16:17:33 -0800 <hiker_abc> @VerumBitcoin @DeItaone Crypto it says ! Not all BTC\n",
      "1488667869726584835 2022-02-01 16:17:32 -0800 <johnmorganFL> Bitcoin Price Rises As El Salvador Rejects IMF Call To Ditch BTC   https://t.co/c3NqmKexSC\n",
      "1488667869416148992 2022-02-01 16:17:32 -0800 <the_BTC_Info> Bloc #BTC : 721415 Nombre de transactions entrantes : 8056 Nombre de transactions sortantes : 1843\n",
      "1488667863154327552 2022-02-01 16:17:31 -0800 <mrinu2019> Trending on #LunarCrush:  \"Why This Bank Will Offer Bitcoin And Ethereum Via Bakkt\" via @bitcoinist  Top coin mentions $btc $eth   https://t.co/yrfR5h0Wdv\n",
      "1488667852295258112 2022-02-01 16:17:28 -0800 <Cryptogaston20> Ember これも1日1回のタップだけ！🎁 1時間に5satoshi掘れます。 1億分の1 (0.00000001) BTCが1satoshiです。 コツコツやってみましょう！！  Join Ember with my link and we'll both earn Bitcoin daily! 💰   https://t.co/a9M0uBIhOF  #マイニング #Ember  https://t.co/SGAfyByF2G\n",
      "1488667852261396482 2022-02-01 16:17:28 -0800 <kmntty> #不労所得生活への道  1月まとめ  #投資信託(S&amp;P500他) ☞＋23,307円 #仮想通貨(#btc   他) ☞−7,181円 #マイニングPC(#gtx2060) ☞＋4,995円(休眠) 合計…＋21,121円  所感…今が投資時なのですが、今後お金がかかるイベントが控えている為、投資をお休み💤  イベント終わったら毎月8万投資するぞw\n",
      "1488667849593917447 2022-02-01 16:17:28 -0800 <SalihKasm4> @RaoulGMI even though holding btc is a global betrayal, it's still an inspiration to have it today\n",
      "1488667846305628161 2022-02-01 16:17:27 -0800 <btc_blockbot> BTC Latest Block Info: Block 721415 holds 1,843 transactions for a total of 32,686.65421 Bitcoin including Block Reward. Block Size 1,559,231 Bytes\n",
      "1488667839724728326 2022-02-01 16:17:25 -0800 <JVicenteCorrea> @5millionM But that could mean that btc nukes - 70% and ether only - 50%\n",
      "1488667839238406149 2022-02-01 16:17:25 -0800 <Softnes77172020> Should I to from meme account to full admin reveal?  $BTC $ETH $DBC $DOT $COFI $FKX  https://t.co/MhDyUpNAKc\n",
      "1488667829213835264 2022-02-01 16:17:23 -0800 <BTCMastersCB> LIVE THE FUTURE TODAY AND EARN YOUR FUTURE BITCOINS NOW (for free)  https://t.co/I1x9WL8beH $sol $dot $luna $sand $one $doge $bnb $mana $REAL $bnb $gala $blok $BTC $matic $avax $bico $sys $spell $HBAR $ATOM $FET $xrp $bch $qrdo $UST $GTC sa4\n",
      "1488667809286549505 2022-02-01 16:17:18 -0800 <btc_status> Deribit BTC Options Call OI：96083 (0%) Vol：$5M (-14%) Put OI：56244 (0%) Vol：$5M (-32%) PCR：114 (+8%)  RD】2/4 (8:00 UTC) C 10804 / P 7240 YE】2/11 C 4492 / P 5191 PL】2/18 C 1350 / P 1542 GN】2/25 C 18347 / P 10695 BL】3/25 C 29730 / P 16927  https://t.co/o5AnB6rMtm\n",
      "1488667805088198664 2022-02-01 16:17:17 -0800 <lucyanna070> @coinexcom 1) BTC 2) GARI 3) DOGE 4) CET 5) QRDO #CoinEx #YearOfTheTiger\n",
      "1488667800071999488 2022-02-01 16:17:16 -0800 <MillaTuckett> Top coins are getting the most attention on Twitter now. 🏆🏆  $BTC $DOGE $ETH $CAKE $LINK  $XRP $ADA $RARI $XTZ $BNB  https://t.co/t8YegedJLv\n",
      "1488667791435644937 2022-02-01 16:17:14 -0800 <shortterm13> when russia supports bitcoin and the US is forced to go anti btc trump russia  democrats will go against bitcoin for the mid term election  xrp is neutral  and the US will adopt it &amp; hold  most %  we dont know which country holds the most bitcoin including citizens just like gold\n",
      "1488667786159271937 2022-02-01 16:17:12 -0800 <BtCoinapparel> @btc_blitz Very true and well put  The aspect I was clung to was locking in the loss  Pulled the plug and sold a 1/3rd of my position today, into strength, so I reduced my loss by $600  Will pull trigger on the rest this week\n",
      "1488667784045371396 2022-02-01 16:17:12 -0800 <Hayess5178__> #Bitcoin￼ $BTC Lower time frame 5min.  Need to break and hold above $39.1k resistance currently. If it can then I'll be more confident. It might just dump from here though so #TradeSafe guys ￼.  Stop loss, good risk management and what ever￼.\n",
      "1488667782581567492 2022-02-01 16:17:12 -0800 <HEXstreamers> Discourse__Syndicate is live! @DS_Network_  \"Macro Show Ep3 Whales &amp; Jay\" #HEX #Pulsechain #Crypto #BTC #ETH #DeFi #PassiveIncome  TWITCH:  https://t.co/A1UWnUtSha  https://t.co/lnlWsmNs5I\n",
      "1488667775514017792 2022-02-01 16:17:10 -0800 <Softnes77172020> THIS IS WHAT PEOPLE SAY TO YOU THIS SUMMER!  $XRP $TRX $CRV $SC #ETH $BTC $EOS $WAN $TT $HOT  https://t.co/tC4P55LNJK\n",
      "1488667771202375685 2022-02-01 16:17:09 -0800 <HazzmanFFA> @NFTLlama @0xVanos @FilenaNFT @rencezxc123 @CEO_BTC\n",
      "1488667770153619461 2022-02-01 16:17:09 -0800 <n5za0n> Rising wedge on daily chart. We're going to $0 soon!! $btc #Bitcoin\n",
      "1488667759529631745 2022-02-01 16:17:06 -0800 <HouieaLOVE> btc eth ada sol xrp dot avax trx algo cro shib\n",
      "1488667750642110464 2022-02-01 16:17:04 -0800 <ohaoh24> @26n_BTC 今の状態だとあんまり打つメリットないですもんね〜…よほど好きじゃなければ…\n",
      "1488667749702275072 2022-02-01 16:17:04 -0800 <dice_in_dice> @btc_rocketman ありがとうございます！ 一番可憐な子ですね😊\n",
      "1488667737702514697 2022-02-01 16:17:01 -0800 <ScrapeINT> #BTC :$38801.94 #ETH :$2796.74 #BNB :$384.2 #ADA :$1.09 #XRP :$0.6291 #SOL :$110.98\n",
      "1488667732946001922 2022-02-01 16:17:00 -0800 <MillaTuckett> TOP 15 COINS BY POPULARITY ON  IN September 🚀😪  $ADA $BTC $BNB $DOGE $REEF $DOT $XRP $ETH $VET $CAKE $SFP $XLM $ALGO $TRX   https://t.co/qQLX6e8qnQ\n",
      "1488667729276149761 2022-02-01 16:16:59 -0800 <MeanlngfulQu> hey! So you were searching for some crypto topics here on Twitter right? Well, surprise surprise, get some crypto (including Bitcoin of course) with the best price and trust score at CEX. IO !!!! Join us:  https://t.co/GZ97Z8LSq7 #cexio #btc #eth #crypto $btc $shib #eth\n",
      "1488667725413158912 2022-02-01 16:16:58 -0800 <RiskitFoABiskit> @CopiummT @fractology @steakandcrypto @22loops My point is I’ve made money on Eth, NFTs in Eth, avax, fantom, BTC… I support Cardano because it’s got the biggest growth ahead. Will it be the only player.. no, but there’s plenty in the Ada ecosystem. Study meld btw… thank me later 😘 I been winning.\n",
      "1488667724691775496 2022-02-01 16:16:58 -0800 <fredestante> @HMD2V @Royal0ui @saylor Yep, and IMO its even worse from a security standpoint because you do not need to be exposed to BTC to attack the network.  You need to invest capital into mining rigs, but even the custom ASICs can be repurposed for other use cases, vastly diminishing the downside of attackers\n",
      "1488667709881696256 2022-02-01 16:16:54 -0800 <1_significantly> @mikealfred There are many people that have more than 1 BTC right now.\n",
      "1488667700066865152 2022-02-01 16:16:52 -0800 <circusbot31> @oniku___man BTC でお願い致します。\n",
      "1488667699375144961 2022-02-01 16:16:52 -0800 <fbflyin> @ChrisBlec @TornadoCash There‘ve been cases of exchanges freezing accounts because the BTC that was deposited into it once left a mixer or a privacy wallet like Wasabi.  Haven’t heard the same thing happen to ETH. Hopefully it never happens but it wouldn’t surprise me if it does.\n",
      "1488667694001967105 2022-02-01 16:16:51 -0800 <DosOlmosG> They are waiting for $btc in this area  https://t.co/966sHB8jWn\n",
      "1488667689551867904 2022-02-01 16:16:49 -0800 <crypto_trackr> Current time = 05:46:49 IST  🔸 USDT(INR): 79.666 🔸 BTC(USD): 38844.44 ₿ 🔸 BTC(INR): 3092417.215 🔸 ETH(USD): 2800.357 Ξ 🔸 ETH(INR): 222934.85 🔸 Ripple(USD): 0.63 🔸 Ripple(INR): 50.156 #crypto #BTC #eth #wrx #ripple #BITCOIN 🚀 - by @prageek_ambani\n",
      "1488667677467951106 2022-02-01 16:16:47 -0800 <jen0ise> @Cryptopadded @ManekiNekoLabs @ethereum @Bitcoin @dogecoin amazing project!!\n",
      "1488667671776284672 2022-02-01 16:16:45 -0800 <MillaTuckett> #bitcoin accelerates the process of maturing.  P.S. find $BTC in the picture 🤑🤑  $ETH $DOT $XRP $LUNA $SNX $MIR $SOL $EGLD $AVAX $KSM  https://t.co/KoHkLXk6mS\n"
     ]
    },
    {
     "name": "stdout",
     "output_type": "stream",
     "text": [
      "1488667664134246401 2022-02-01 16:16:43 -0800 <jackvavy> @dan__btc Marriage is overrated\n",
      "1488667657196945408 2022-02-01 16:16:42 -0800 <dudewith_camera> @IncomeSharks What’s the lower Supertrend line? $42,450 lines up with daily BTC\n",
      "1488667654630121477 2022-02-01 16:16:41 -0800 <Bitcoin4Brandon> People that don’t understand #BTC  are the ones that dismiss the technology so quickly. Take the time to learn #ThisIsTheWay\n",
      "1488667644069048323 2022-02-01 16:16:39 -0800 <vannamkakido> Trending on #LunarCrush:  \"BREAKING: Arizona State Senator drops bill to EXEMPT #Bitcoin and digital currencies from taxes.\" via @Dennis_Porter_  Top coin mentions $btc   https://t.co/hLg3oHyKOW\n",
      "1488667636384899073 2022-02-01 16:16:37 -0800 <coincapitan> $BTC Price: $38856 $ETH Price: $2800 $LTC Price: $115  Next update in 10 minutes Last updated: 19:16:36.07\n",
      "1488667635084578820 2022-02-01 16:16:36 -0800 <CryptoBreakNews> Bitcoin Price Rises As El Salvador Rejects IMF Call To Ditch BTC  https://t.co/Yf3SYd880N\n",
      "1488667628646420482 2022-02-01 16:16:35 -0800 <0figures_> @LieutenantCCC Btc too strong\n",
      "1488667623164370947 2022-02-01 16:16:34 -0800 <WW_Fund> Yung Lean - Highway Patrol (Feat. bladee)   $FTM $MATIC $FTT $ETH $BTC $MANA $SOL $BAT $ADA #BNB $AMC $SAND $ATOM $NEAR $DOGE $SHIB $LTC $XRP $XLM $LUNA $XMR #Solana #Bitcoin #BTC $BTC #NFTs #NFT #NFTCommunity #Crypto    https://t.co/nkl72B6ULG via @YouTube\n",
      "1488667615975206912 2022-02-01 16:16:32 -0800 <culusnar> Crypto is taking way too long 😡 hit 60k already, this isn't boomer stocks.  $BTC $ETH $DBC $COFI  https://t.co/4ePefOMSDa\n",
      "1488667615078006785 2022-02-01 16:16:32 -0800 <kiri_physician> コモディティは中期トレンドフォローでエントリーする戦略をとっており，今の資産割合はほぼ0%です．  　基本は金ETFの$GLDと，暗号資産（$BTC, $ETH）で最大で資産の5%までポジションをと…  続きは質問箱へ   #Peing #質問箱  https://t.co/jxkUHHvvVL\n",
      "1488667610841550850 2022-02-01 16:16:31 -0800 <qasimvirtual> #VirtualSignal Achived all Sales targets Successfully #idexusdt  #BTC  #Crypto  #Virtual  #Metaverse  https://t.co/RlPG9HS9kL\n",
      "1488667603581214724 2022-02-01 16:16:29 -0800 <umitustaoglu9> @lord_of_crypto_ BTC 4h ta megafon var gibi duruyor .. bu iyiye işaret sanki bir tık daha 40k civarına arıp oradan düşecek ...\n",
      "1488667567401017349 2022-02-01 16:16:20 -0800 <usachan0831> @Akito_BTC どうか当たりますように🥺🙏\n",
      "1488667557846712320 2022-02-01 16:16:18 -0800 <Hector3Gonzalez> First Daily update on #BTC . Feb 1 (4H) +2%. Above EMA 8 &amp; 20 and MA50. Resistance at $39.4K (1D EMA20) retest of recent resistance w/ long wick candles. + volume.   https://t.co/bG9J7wA1Y7\n",
      "1488667556823318528 2022-02-01 16:16:18 -0800 <vannamkakido> Trending on #LunarCrush:  \"CRYPTOVERSE-Bitcoin squeezes smaller rivals to its crown\" via @Reuters  Top coin mentions $btc   https://t.co/PzI1WGxhYV\n",
      "1488667547259969538 2022-02-01 16:16:16 -0800 <culusnar> $ETH for new run up.   $BTC $LTC $VET $ETH $POND $VRA $MATIC $LINK $TRB $RXP  https://t.co/ildh1QGsax\n",
      "1488667524627668998 2022-02-01 16:16:10 -0800 <the_BTC_Info> A ce jour, la blockchain #BTC a générée 18946338 #BTC soit 90.22 % du nombre total de #BTC Il reste encore 2053662 #BTC à émettre !  N'investissez dans les actifs numériques que ce que vous êtes prêts à perdre ! =&gt;  https://t.co/c6WmcHPO6J  #Staytuned\n",
      "1488667522899464192 2022-02-01 16:16:10 -0800 <cryptocharts> Thoughts on $BTC #Bitcoin! See LA_Designer's idea on TradingView below.  https://t.co/VpntJ4n2uD\n",
      "1488667519099584512 2022-02-01 16:16:09 -0800 <AcimisEren> @Bitcoin absolutely perfect\n",
      "1488667514787844099 2022-02-01 16:16:08 -0800 <the_BTC_Info> Bloc #BTC : 721414 Cours du BTC sur Binance : 34446.33 euros Nombre de nouveaux bitcoins produits : 6,25 Le mineur de ce bloc a gagné (fees inclus): 216556.04 euros\n",
      "1488667510241214470 2022-02-01 16:16:07 -0800 <gentecosmotv> Hackers mueven casi 100.000 BTC del robo de Bitfinex de 2016  https://t.co/9tgmQXAEjE\n",
      "1488667493715558402 2022-02-01 16:16:03 -0800 <Ant59581236> Kishu is the way @InuKishu #KISHU #KISHUARMY #BTC #ETH  https://t.co/f9xKDobFTH\n",
      "1488667486891298816 2022-02-01 16:16:01 -0800 <wagmi555> @strahinja_runic @IncomeSharks Mega crash for $btc people will be wondering wtf just happened\n",
      "1488667477076811777 2022-02-01 16:15:59 -0800 <DryburghDotCom> @TheRetroCrypto But if BTC breaks down, so will LINK.\n",
      "1488667474585276416 2022-02-01 16:15:58 -0800 <axie46mikamo> @btc_rocketman CADの方が凄くないですか…？😳💦 会社で少しCAD使ってましたけど、あちらの方が難解で😇 リンゴですらちょっと怪しいので、パソコン早めに買わないです…。半導体問題で値上がりしてきてますし😭\n",
      "1488667473994002436 2022-02-01 16:15:58 -0800 <Mobyhaque1> @deyonte_btc Big Tyme\n",
      "1488667473121628165 2022-02-01 16:15:58 -0800 <AmberTwemlow> #Bitcoin #BTC current price (GBP): £28,712.38 Like my updates? you can tip me at bc1qt30uz0hl68ze77xu9u08e40a2tk44rrha6jm39\n",
      "1488667472781885440 2022-02-01 16:15:58 -0800 <CarieCrypto> @BrotherHoodGems @portal_finance Portal will bring us one step closer to mass adoption. #bhportal #BTC\n",
      "1488667471561166850 2022-02-01 16:15:57 -0800 <culusnar> ⚡️TOP #Crypto Projects by Social Activity  2 September 2021 #Bitcoin $BTC $ETH $DOGE $CAKE $ADA #SAFEMOON $AXS #BNB $BNB $BSCX $MATIC  https://t.co/5yFepnCGGY\n",
      "1488667466955898884 2022-02-01 16:15:56 -0800 <Amerrrrrrica> @iamrobertdobbs XRP is by far the better of ETH and BTC, its literally a no Brainerd, learned that today when it cost me 100k to dump my ETH, 100k and I just had to jump ship selling 80 percent of my holdings and buying XRP and 2 others I won't say\n",
      "1488667465034960901 2022-02-01 16:15:56 -0800 <wildmn05> @ThatAngelGuy She wants a CoinPurse so bad, glad she didn’t click my link for free 10$ BTC 🤣🤣\n",
      "1488667463357194243 2022-02-01 16:15:56 -0800 <E2Chvez> @jmagreen @TioVini_NI Pobre tonto.  En este momento acabamos de ganar 10 dolaritos, justo ahora, cuando subió a 38.4k  Por cierto Chivo no es BTC solamente  sino DÓLARES.\n",
      "1488667461725659137 2022-02-01 16:15:55 -0800 <cryptopreneur0> #BTC does not look good.  https://t.co/pHO53aFAaI\n",
      "1488667450556260356 2022-02-01 16:15:52 -0800 <_weuka_> My dream: Gaming Chair  0/400$  My BTC adress: 1378wEwHTVg4VpZGafhQjUKAXTjqzaqDff  https://t.co/af2xBQckuV\n",
      "1488667443430146055 2022-02-01 16:15:51 -0800 <freedominajar> @r08u3 @TheRuneRanger Rune has inherent utility which earns yield. I guess BTC doesn't. Maybe diversify into an asset with utility?\n",
      "1488667430150807552 2022-02-01 16:15:48 -0800 <Miss_CexC> India legalizes crypto, unveils 30% tax on sale of digital assets! This will be interesting! Might see more red to come, as India is one of the biggest trader in crypto!   #Crypto #cryptocurrency #Cryptoindia #CryptoTax #BTC #qnt #vra #cns #cnr\n",
      "1488667423989714944 2022-02-01 16:15:46 -0800 <IIICryptoINCIII> 🤪🤠🤪🤠🤪🤠🤪🤠🤪🤠🤪🤠🤪🤠🤪🤠🤪🤠🤠🤪🤠🤠🤪🤪🤪🤠🤠🤪🤠🤠🤠🤠🤪🤠🤠🤪🤠🤠🤠  BTC BREAKING WHILE BTC DOMINANCE DROPPING.\n",
      "1488667423506984961 2022-02-01 16:15:46 -0800 <Iwearbear> @kurtwuckertjr @WHofford @EndFiat21M @WendyRogersAZ @BenAbiding Markets seek truth due to individuals putting skin in the game via capital.  I assume you own zero BTC.\n",
      "1488667413910589450 2022-02-01 16:15:44 -0800 <paymeinbitcoin0> 94,000 BTC on the move out there👀  Originating from the 2016 @bitfinex Hack⚔️\n",
      "1488667401180876803 2022-02-01 16:15:41 -0800 <BtcDiaries> Dear Diary,   Every year #Bitcoin becomes more and more popular.   Every year more and more people wake up to what #BTC  is and the network grows.   Can't wait to the #Bitcoin🌎 in 2030.\n",
      "1488667380385521671 2022-02-01 16:15:36 -0800 <pablosky157> @Bitcoin @DownloaderBot\n",
      "1488667372265349122 2022-02-01 16:15:34 -0800 <emrhnddbl> olmadığımız masa yok kardeşim bu işe de girdik  Check out this item on OpenSea  https://t.co/H3KWtrg869 @opensea aracılığıyla #NFT #BTC #openseapolygon\n",
      "1488667371262803968 2022-02-01 16:15:34 -0800 <feliz_zorrita> *INVERSION NEXO*  GANÁ 25USD EN BTC!  1-Registrarte en Nexo con el siguiente link:  https://t.co/cepMZQDnvq  2-Hace la verificación avanzada kyc, y esperar a que te aprueben.\n",
      "1488667365629960193 2022-02-01 16:15:32 -0800 <SyedRazaShah123> The U.S. national debt just surpassed $30 trillion. Could the situation be any more bullish for #crypto? A global pandemic has lead to the entire world stopping to witness central banks relentlessly printing money. Think about the future! #JASMY is the cure. 🚀🚀🚀 #BTC  https://t.co/PBli4vXaVJ\n",
      "1488667357992075265 2022-02-01 16:15:30 -0800 <analyst5_bot> BTC price changes last 4 hours - sorted by mkt cap chg   🚀 $ETH   +0.00024916 $AVAX  +0.00004342 $ADA   +0.00000052  🌧️ $DOT   -0.00000723 $BNB   -0.00005388 $ALGO  -0.00000021  #altcoins #cryptocurrency #crypto\n",
      "1488667345010794497 2022-02-01 16:15:27 -0800 <cryptomarketbot> 1. BTC --  38,846.70561 USD 2. ETH --  2,799.99521 USD 3. BNB --  385.01901 USD 4. ADA --  1.09631 USD 5. XRP --  0.62972 USD 6. DOT --  19.61364 USD 7. DOGE --  0.14275 USD 8. LTC --  115.82924 USD 9. LINK --  17.0668 USD 10. TRX -- 0.06005 USD\n",
      "1488667344327315456 2022-02-01 16:15:27 -0800 <UtopiaCoinOrg> @BTC_Archive Bitcoin legalization is trending around the world\n",
      "1488667344062889987 2022-02-01 16:15:27 -0800 <Imado62> 🚨 🚨 🚨 🚨 🚨 🚨 🚨 🚨  2,084 #BTC (80,708,374 USD) transferred from #Bittrex to unknown wallet Details\n",
      "1488667342951567361 2022-02-01 16:15:27 -0800 <rohmmen> Feb 1,2022 Crypto Market Cap: $ 1,865 trillion  Fear and greed index: 26 $BTC 38.832 $ETH 2.799\n",
      "1488667341869051905 2022-02-01 16:15:27 -0800 <AskMeHowToShort> There is no bear market in the new paradigm.  Infinite bid.   #btc #bitcoin  https://t.co/9XDsoWHnLN\n",
      "1488667334919208964 2022-02-01 16:15:25 -0800 <the_BTC_Info> Bloc #BTC : 721414 Nombre de transactions entrantes : 7968 Nombre de transactions sortantes : 2576\n",
      "1488667332918624259 2022-02-01 16:15:24 -0800 <Birdogrunerede> @boersemann70 Muhtar diyor ki btc burayı kırdı kırdı yoksa hepimizi kırıp geçirecek\n",
      "1488667332834922496 2022-02-01 16:15:24 -0800 <NkwjZrZfb5YTWvT> なんなん😭 #btc  https://t.co/EaeZJKQxRk\n",
      "1488667316061716481 2022-02-01 16:15:20 -0800 <SamuelBzn>  https://t.co/CdQ5SCE64S #NFT #RudeKidz $ETH $SOL $BTC #OpenSea #OpenSeaNFT Join for huge NFT :)\n",
      "1488667312957927424 2022-02-01 16:15:20 -0800 <KaneHart24> @yoy_vector If you still have proof of the scam do well to contact @Whitehat_BTC for quick recovery of your scammed funds\n"
     ]
    }
   ],
   "source": [
    "import sys\n",
    "import os\n",
    "# Set up TWINT config\n",
    "import twint\n",
    "# Solve compatibility issues with notebooks and RunTime errors.\n",
    "import nest_asyncio\n",
    "nest_asyncio.apply()\n",
    "c = twint.Config()\n",
    "c.Search = \"BTC\"\n",
    "c.Lang = \"en\"\n",
    "# c.Username = \"noneprivacy\"\n",
    "# c.Custom[\"tweet\"] = [\"id\"]\n",
    "# c.Custom[\"user\"] = [\"bio\"]\n",
    "\n",
    "c.Store_pandas = True\n",
    "# c.Store_csv = True\n",
    "# c.Output = \"test.csv\"\n",
    "c.Limit = 100\n",
    "c.Pandas = True\n",
    "twint.run.Search(c)"
   ]
  },
  {
   "cell_type": "code",
   "execution_count": 24,
   "id": "d10bbd31",
   "metadata": {},
   "outputs": [
    {
     "name": "stdout",
     "output_type": "stream",
     "text": [
      "<class 'pandas.core.frame.DataFrame'>\n",
      "RangeIndex: 100 entries, 0 to 99\n",
      "Data columns (total 7 columns):\n",
      " #   Column     Non-Null Count  Dtype \n",
      "---  ------     --------------  ----- \n",
      " 0   date       100 non-null    object\n",
      " 1   username   100 non-null    object\n",
      " 2   tweet      100 non-null    object\n",
      " 3   hashtags   100 non-null    object\n",
      " 4   nreplies   100 non-null    int64 \n",
      " 5   nretweets  100 non-null    int64 \n",
      " 6   nlikes     100 non-null    int64 \n",
      "dtypes: int64(3), object(4)\n",
      "memory usage: 5.6+ KB\n"
     ]
    }
   ],
   "source": [
    "# Transform result to pandas\n",
    "def twint_to_pandas(columns):\n",
    "    return twint.output.panda.Tweets_df[columns]\n",
    "df = twint_to_pandas([\"date\", \"username\",\"tweet\", \"hashtags\", \"nreplies\", \"nretweets\",\"nlikes\"])\n",
    "df.info()"
   ]
  },
  {
   "cell_type": "markdown",
   "id": "c8881a20",
   "metadata": {},
   "source": [
    "## Sentiment analysis"
   ]
  },
  {
   "cell_type": "code",
   "execution_count": 13,
   "id": "6d95963d",
   "metadata": {},
   "outputs": [],
   "source": [
    "from textblob import TextBlob\n",
    "from IPython.display import Markdown, display"
   ]
  },
  {
   "cell_type": "code",
   "execution_count": 14,
   "id": "4b5c87b3",
   "metadata": {},
   "outputs": [],
   "source": [
    "def printmd(string, color=None):\n",
    "    colorstr = \"<span style='color:{}'>{}</span>\".format(color, string)\n",
    "    display(Markdown(colorstr))"
   ]
  },
  {
   "cell_type": "code",
   "execution_count": 15,
   "id": "3a4d953c",
   "metadata": {},
   "outputs": [
    {
     "name": "stdout",
     "output_type": "stream",
     "text": [
      "@Israelm16432 @Tarjas5 @Cryptobullza @BTC_Archive So this happened to me for 3-weeks and I tried so many means but all failed, luckily for me I got in contact with this Hacker pro.craxk on Instagram, he was the one who helped me, he should help you with yours.\n",
      "Sentiment(polarity=0.1111111111111111, subjectivity=0.5444444444444444)\n"
     ]
    },
    {
     "data": {
      "text/markdown": [
       "<span style='color:green'>Positive</span>"
      ],
      "text/plain": [
       "<IPython.core.display.Markdown object>"
      ]
     },
     "metadata": {},
     "output_type": "display_data"
    },
    {
     "name": "stdout",
     "output_type": "stream",
     "text": [
      "@Barbarasllv6 Boa noite 🔥 chegou com fogo na btc né\n",
      "Sentiment(polarity=0.0, subjectivity=0.0)\n"
     ]
    },
    {
     "data": {
      "text/markdown": [
       "<span style='color:grey'>Neutral</span>"
      ],
      "text/plain": [
       "<IPython.core.display.Markdown object>"
      ]
     },
     "metadata": {},
     "output_type": "display_data"
    },
    {
     "name": "stdout",
     "output_type": "stream",
     "text": [
      "\n",
      "I had a dream that #BTC reached $ 79,000🤔\n",
      "Sentiment(polarity=0.0, subjectivity=0.0)\n"
     ]
    },
    {
     "data": {
      "text/markdown": [
       "<span style='color:grey'>Neutral</span>"
      ],
      "text/plain": [
       "<IPython.core.display.Markdown object>"
      ]
     },
     "metadata": {},
     "output_type": "display_data"
    },
    {
     "name": "stdout",
     "output_type": "stream",
     "text": [
      "\n",
      "Bloc #BTC : 721413 Nombre de transactions entrantes : 6911 Nombre de transactions sortantes : 1469\n",
      "Sentiment(polarity=0.0, subjectivity=0.0)\n"
     ]
    },
    {
     "data": {
      "text/markdown": [
       "<span style='color:grey'>Neutral</span>"
      ],
      "text/plain": [
       "<IPython.core.display.Markdown object>"
      ]
     },
     "metadata": {},
     "output_type": "display_data"
    },
    {
     "name": "stdout",
     "output_type": "stream",
     "text": [
      "\n",
      ". @MicroStrategy now holds 125,051 bitcoins.  Opportunities to use its BTC to generate yield, etc., will increase as more banks enter space, according to CEO Michael @saylor.   https://t.co/GrAd9tTGk6\n",
      "Sentiment(polarity=0.5, subjectivity=0.5)\n"
     ]
    },
    {
     "data": {
      "text/markdown": [
       "<span style='color:green'>Positive</span>"
      ],
      "text/plain": [
       "<IPython.core.display.Markdown object>"
      ]
     },
     "metadata": {},
     "output_type": "display_data"
    },
    {
     "name": "stdout",
     "output_type": "stream",
     "text": [
      "@tyanu_khah 1/2 C’est pas se chauffer qui ne sert a rien. Il voulait dire c’est que c’est le radiateur lui même qui ne sert à rien a part restituer de la chaleur alors que tu pourrais te chauffer avec un mineur de BTC qui restituerait la même chaleur avec sa puissance de calcul.\n",
      "Sentiment(polarity=0.0, subjectivity=0.0)\n"
     ]
    },
    {
     "data": {
      "text/markdown": [
       "<span style='color:grey'>Neutral</span>"
      ],
      "text/plain": [
       "<IPython.core.display.Markdown object>"
      ]
     },
     "metadata": {},
     "output_type": "display_data"
    },
    {
     "name": "stdout",
     "output_type": "stream",
     "text": [
      "\n",
      "@jaygould 30% tax #BTC\n",
      "Sentiment(polarity=0.0, subjectivity=0.0)\n"
     ]
    },
    {
     "data": {
      "text/markdown": [
       "<span style='color:grey'>Neutral</span>"
      ],
      "text/plain": [
       "<IPython.core.display.Markdown object>"
      ]
     },
     "metadata": {},
     "output_type": "display_data"
    },
    {
     "name": "stdout",
     "output_type": "stream",
     "text": [
      "\n",
      "Thoughts on $mstr ? Isn’t the btc value priced in already? What do you think?\n",
      "Sentiment(polarity=0.0, subjectivity=0.0)\n"
     ]
    },
    {
     "data": {
      "text/markdown": [
       "<span style='color:grey'>Neutral</span>"
      ],
      "text/plain": [
       "<IPython.core.display.Markdown object>"
      ]
     },
     "metadata": {},
     "output_type": "display_data"
    },
    {
     "name": "stdout",
     "output_type": "stream",
     "text": [
      "\n",
      "@TheCryptoLark Nobody is talking about the hack wallet with billions of dollars in bitcoin that move the founds from bitfinex yesterday.  I don't get it why people should buy #btc now...???\n",
      "Sentiment(polarity=0.0, subjectivity=0.0)\n"
     ]
    },
    {
     "data": {
      "text/markdown": [
       "<span style='color:grey'>Neutral</span>"
      ],
      "text/plain": [
       "<IPython.core.display.Markdown object>"
      ]
     },
     "metadata": {},
     "output_type": "display_data"
    },
    {
     "name": "stdout",
     "output_type": "stream",
     "text": [
      "\n",
      "$BTC OBV 1D  looking good 👀📌\n",
      "Sentiment(polarity=0.7, subjectivity=0.6000000000000001)\n"
     ]
    },
    {
     "data": {
      "text/markdown": [
       "<span style='color:green'>Positive</span>"
      ],
      "text/plain": [
       "<IPython.core.display.Markdown object>"
      ]
     },
     "metadata": {},
     "output_type": "display_data"
    },
    {
     "name": "stdout",
     "output_type": "stream",
     "text": [
      "@Bitso Si gano ese Bitcoin, dejaré un % en BTC (la cantidad la definiré después) y lo demás lo cambiaré en diferentes cryptos, para tener un portafolio mas amplio.  P.D. Los quiero mucho y los quiero ver triunfar.\n",
      "Sentiment(polarity=0.0, subjectivity=0.0)\n"
     ]
    },
    {
     "data": {
      "text/markdown": [
       "<span style='color:grey'>Neutral</span>"
      ],
      "text/plain": [
       "<IPython.core.display.Markdown object>"
      ]
     },
     "metadata": {},
     "output_type": "display_data"
    },
    {
     "name": "stdout",
     "output_type": "stream",
     "text": [
      "\n",
      "@cattyverse Exceptional logic  but we don't want Cryto bear now Since you are creator of Universe much earlier than Mark Zuckerberg created Metaverse, you can control this and push BTC to SUN\n",
      "Sentiment(polarity=0.3333333333333333, subjectivity=0.75)\n"
     ]
    },
    {
     "data": {
      "text/markdown": [
       "<span style='color:green'>Positive</span>"
      ],
      "text/plain": [
       "<IPython.core.display.Markdown object>"
      ]
     },
     "metadata": {},
     "output_type": "display_data"
    },
    {
     "name": "stdout",
     "output_type": "stream",
     "text": [
      "Tryna fly bae overseas but we up &amp; down like BTC\n",
      "Sentiment(polarity=0.32222222222222224, subjectivity=0.5944444444444444)\n"
     ]
    },
    {
     "data": {
      "text/markdown": [
       "<span style='color:green'>Positive</span>"
      ],
      "text/plain": [
       "<IPython.core.display.Markdown object>"
      ]
     },
     "metadata": {},
     "output_type": "display_data"
    },
    {
     "name": "stdout",
     "output_type": "stream",
     "text": [
      "@saylor #BTC Bossssss 🔥💀🌹🙌💎\n",
      "Sentiment(polarity=0.0, subjectivity=0.0)\n"
     ]
    },
    {
     "data": {
      "text/markdown": [
       "<span style='color:grey'>Neutral</span>"
      ],
      "text/plain": [
       "<IPython.core.display.Markdown object>"
      ]
     },
     "metadata": {},
     "output_type": "display_data"
    },
    {
     "name": "stdout",
     "output_type": "stream",
     "text": [
      "\n"
     ]
    }
   ],
   "source": [
    "for tweet in df['tweet']:\n",
    "    print(tweet)\n",
    "    analysis = TextBlob(tweet)\n",
    "    print(analysis.sentiment)\n",
    "    if analysis.sentiment[0]>0:\n",
    "        printmd('Positive', color=\"green\")\n",
    "    elif analysis.sentiment[0]<0:\n",
    "        printmd('Negative', color=\"red\")\n",
    "    else:\n",
    "        printmd(\"Neutral\", color=\"grey\")\n",
    "        print(\"\")"
   ]
  },
  {
   "cell_type": "code",
   "execution_count": 16,
   "id": "edf25f0e",
   "metadata": {},
   "outputs": [],
   "source": [
    "from textblob import TextBlob\n",
    "from pyspark.sql.functions import udf\n",
    "from pyspark.sql.types import DoubleType\n",
    "# Function to get sentiment \n",
    "def apply_blob(sentence):\n",
    "    temp = TextBlob(sentence).sentiment[0]\n",
    "    if temp == 0.0:\n",
    "        return 0.0 # Neutral\n",
    "    elif temp >= 0.0:\n",
    "        return 1.0 # Positive\n",
    "    else:\n",
    "        return 2.0 # Negative\n",
    "# UDF to write sentiment on DF\n",
    "sentiment = udf(apply_blob, DoubleType())\n",
    "# Transform result to pandas\n",
    "def twint_to_pandas(columns):\n",
    "    return twint.output.panda.Tweets_df[columns]\n",
    "def tweets_sentiment(search, limit=1):\n",
    "    c.Search = search\n",
    "    # Custom output format\n",
    "    c.Format = \"Username: {username} |  Tweet: {tweet}\"\n",
    "    c.Limit = limit\n",
    "    c.Pandas = True\n",
    "    with HiddenPrints():\n",
    "        print(twint.run.Search(c))\n",
    "    \n",
    "    # Transform tweets to pandas DF\n",
    "    df_pd = twint_to_pandas([\"date\", \"username\", \"tweet\", \"hashtags\", \"nlikes\"])\n",
    "    \n",
    "    # Transform Pandas DF to Optimus/Spark DF\n",
    "    df = op.create.data_frame(pdf= df_pd)\n",
    "    \n",
    "    # Clean tweets\n",
    "    clean_tweets = df.cols.remove_accents(\"tweet\") \\\n",
    "                 .cols.remove_special_chars(\"tweet\")\n",
    "    \n",
    "    # Add sentiment to final DF\n",
    "    return clean_tweets.withColumn(\"sentiment\",    sentiment(clean_tweets['tweet']))"
   ]
  },
  {
   "cell_type": "markdown",
   "id": "3e3a8f1b",
   "metadata": {},
   "source": [
    "## Add sentiments to dataframe"
   ]
  },
  {
   "cell_type": "code",
   "execution_count": null,
   "id": "e21d2571",
   "metadata": {},
   "outputs": [],
   "source": []
  }
 ],
 "metadata": {
  "kernelspec": {
   "display_name": "Python 3",
   "language": "python",
   "name": "python3"
  },
  "language_info": {
   "codemirror_mode": {
    "name": "ipython",
    "version": 3
   },
   "file_extension": ".py",
   "mimetype": "text/x-python",
   "name": "python",
   "nbconvert_exporter": "python",
   "pygments_lexer": "ipython3",
   "version": "3.8.8"
  }
 },
 "nbformat": 4,
 "nbformat_minor": 5
}
