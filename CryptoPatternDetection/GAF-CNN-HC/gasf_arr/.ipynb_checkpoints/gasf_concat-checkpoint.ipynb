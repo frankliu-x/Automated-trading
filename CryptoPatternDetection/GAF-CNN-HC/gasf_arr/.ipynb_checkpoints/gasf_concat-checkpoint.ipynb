{
 "cells": [
  {
   "cell_type": "code",
   "execution_count": 11,
   "id": "latin-lincoln",
   "metadata": {},
   "outputs": [],
   "source": [
    "import pickle\n",
    "import pandas as pd\n",
    "import numpy as np"
   ]
  },
  {
   "cell_type": "code",
   "execution_count": 18,
   "id": "previous-complaint",
   "metadata": {},
   "outputs": [
    {
     "name": "stdout",
     "output_type": "stream",
     "text": [
      "(3, 806, 10, 10, 9)\n",
      "(3, 806, 10, 10, 9)\n",
      "(3, 806, 10, 10, 9)\n",
      "(3, 2418, 10, 10, 9)\n"
     ]
    },
    {
     "data": {
      "text/plain": [
       "<function BufferedWriter.close>"
      ]
     },
     "execution_count": 18,
     "metadata": {},
     "output_type": "execute_result"
    }
   ],
   "source": [
    "#Generate Comb 5Coin for category \n",
    "#806*3 MorningGood, 806*3 EveningGood, Others(806 \"No Pattern\", 806 MorningBad, 806 EveningBad)\n",
    "\n",
    "with open('gasf_arr_5COIN3C1_USD', mode='rb') as f:\n",
    "    a = pickle.load(f)\n",
    "    print(a.shape)\n",
    "with open('gasf_arr_5COIN3C2_USD', mode='rb') as f:\n",
    "    b = pickle.load(f)\n",
    "    print(b.shape)\n",
    "with open('gasf_arr_5COIN3C3_USD', mode='rb') as f:\n",
    "    c = pickle.load(f)\n",
    "    print(c.shape)\n",
    "comb = np.concatenate((a,b,c), axis = 1)\n",
    "print(comb.shape)\n",
    "\n",
    "with open('gasf_arr_5COIN3Ccomb_USD', mode='wb') as f:\n",
    "    pickle.dump(comb,f)\n",
    "\n",
    "f.close  "
   ]
  },
  {
   "cell_type": "code",
   "execution_count": 51,
   "id": "continued-display",
   "metadata": {},
   "outputs": [
    {
     "name": "stdout",
     "output_type": "stream",
     "text": [
      "(3, 806, 10, 10, 9)\n",
      "(3, 806, 10, 10, 9)\n",
      "(3, 806, 10, 10, 9)\n",
      "(3, 806, 10, 10, 9)\n"
     ]
    },
    {
     "data": {
      "text/plain": [
       "<function BufferedWriter.close>"
      ]
     },
     "execution_count": 51,
     "metadata": {},
     "output_type": "execute_result"
    }
   ],
   "source": [
    "#Generate Comb 5Coin for category \n",
    "#806 MorningGood, 806 EveningGood, Others(268 \"No Pattern\",269 MorningBad, 269 EveningBad)\n",
    "with open('gasf_arr_5COIN3C1_USD', mode='rb') as f:\n",
    "    a = pickle.load(f)\n",
    "    print(a.shape)\n",
    "with open('gasf_arr_5COIN3C2_USD', mode='rb') as f:\n",
    "    b = pickle.load(f)\n",
    "    print(b.shape)\n",
    "with open('gasf_arr_5COIN3C3_USD', mode='rb') as f:\n",
    "    c = pickle.load(f)\n",
    "    print(c.shape)\n",
    "    \n",
    "third_cat = np.concatenate((a[2,:268],b[2,:269],c[2,:269]))\n",
    "third_cat = third_cat.reshape((1,806,10,10,9))\n",
    "comb = np.concatenate((a[0:2], third_cat))\n",
    "print(comb.shape)\n",
    "with open('gasf_arr_5COIN3Ccomb2_USD', mode='wb') as f:\n",
    "    pickle.dump(comb,f)\n",
    "\n",
    "f.close  "
   ]
  },
  {
   "cell_type": "code",
   "execution_count": null,
   "id": "mental-pocket",
   "metadata": {},
   "outputs": [],
   "source": []
  }
 ],
 "metadata": {
  "kernelspec": {
   "display_name": "Python 3",
   "language": "python",
   "name": "python3"
  },
  "language_info": {
   "codemirror_mode": {
    "name": "ipython",
    "version": 3
   },
   "file_extension": ".py",
   "mimetype": "text/x-python",
   "name": "python",
   "nbconvert_exporter": "python",
   "pygments_lexer": "ipython3",
   "version": "3.7.9"
  }
 },
 "nbformat": 4,
 "nbformat_minor": 5
}
