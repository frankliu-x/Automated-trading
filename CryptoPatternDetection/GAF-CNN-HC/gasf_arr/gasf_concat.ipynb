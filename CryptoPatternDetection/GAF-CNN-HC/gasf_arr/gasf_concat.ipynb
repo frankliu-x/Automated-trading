{
 "cells": [
  {
   "cell_type": "code",
   "execution_count": 2,
   "id": "colored-input",
   "metadata": {},
   "outputs": [],
   "source": [
    "import pickle\n",
    "import pandas as pd\n",
    "import numpy as np"
   ]
  },
  {
   "cell_type": "code",
   "execution_count": 18,
   "id": "consistent-mobile",
   "metadata": {},
   "outputs": [
    {
     "name": "stdout",
     "output_type": "stream",
     "text": [
      "(3, 806, 10, 10, 9)\n",
      "(3, 806, 10, 10, 9)\n",
      "(3, 806, 10, 10, 9)\n",
      "(3, 2418, 10, 10, 9)\n"
     ]
    },
    {
     "data": {
      "text/plain": [
       "<function BufferedWriter.close>"
      ]
     },
     "execution_count": 18,
     "metadata": {},
     "output_type": "execute_result"
    }
   ],
   "source": [
    "#Generate Comb 5Coin for category \n",
    "#806*3 MorningGood, 806*3 EveningGood, Others(806 \"No Pattern\", 806 MorningBad, 806 EveningBad)\n",
    "\n",
    "with open('gasf_arr_5COIN3C1_USD', mode='rb') as f:\n",
    "    a = pickle.load(f)\n",
    "    print(a.shape)\n",
    "with open('gasf_arr_5COIN3C2_USD', mode='rb') as f:\n",
    "    b = pickle.load(f)\n",
    "    print(b.shape)\n",
    "with open('gasf_arr_5COIN3C3_USD', mode='rb') as f:\n",
    "    c = pickle.load(f)\n",
    "    print(c.shape)\n",
    "comb = np.concatenate((a,b,c), axis = 1)\n",
    "print(comb.shape)\n",
    "\n",
    "with open('gasf_arr_5COIN3Ccomb_USD', mode='wb') as f:\n",
    "    pickle.dump(comb,f)\n",
    "\n",
    "f.close  "
   ]
  },
  {
   "cell_type": "code",
   "execution_count": 51,
   "id": "utility-henry",
   "metadata": {},
   "outputs": [
    {
     "name": "stdout",
     "output_type": "stream",
     "text": [
      "(3, 806, 10, 10, 9)\n",
      "(3, 806, 10, 10, 9)\n",
      "(3, 806, 10, 10, 9)\n",
      "(3, 806, 10, 10, 9)\n"
     ]
    },
    {
     "data": {
      "text/plain": [
       "<function BufferedWriter.close>"
      ]
     },
     "execution_count": 51,
     "metadata": {},
     "output_type": "execute_result"
    }
   ],
   "source": [
    "#Generate Comb 5Coin for category \n",
    "#806 MorningGood, 806 EveningGood, Others(268 \"No Pattern\",269 MorningBad, 269 EveningBad)\n",
    "with open('gasf_arr_5COIN3C1_USD', mode='rb') as f:\n",
    "    a = pickle.load(f)\n",
    "    print(a.shape)\n",
    "with open('gasf_arr_5COIN3C2_USD', mode='rb') as f:\n",
    "    b = pickle.load(f)\n",
    "    print(b.shape)\n",
    "with open('gasf_arr_5COIN3C3_USD', mode='rb') as f:\n",
    "    c = pickle.load(f)\n",
    "    print(c.shape)\n",
    "    \n",
    "third_cat = np.concatenate((a[2,:268],b[2,:269],c[2,:269]))\n",
    "third_cat = third_cat.reshape((1,806,10,10,9))\n",
    "comb = np.concatenate((a[0:2], third_cat))\n",
    "print(comb.shape)\n",
    "with open('gasf_arr_5COIN3Ccomb2_USD', mode='wb') as f:\n",
    "    pickle.dump(comb,f)\n",
    "\n",
    "f.close  "
   ]
  },
  {
   "cell_type": "markdown",
   "id": "varying-florence",
   "metadata": {},
   "source": [
    "## 8 Coin 3 Category (MG, EG, Others)\n",
    "### 9 features 1200"
   ]
  },
  {
   "cell_type": "code",
   "execution_count": 3,
   "id": "floating-journey",
   "metadata": {},
   "outputs": [
    {
     "name": "stdout",
     "output_type": "stream",
     "text": [
      "(3, 1200, 10, 10, 9)\n",
      "(3, 1200, 10, 10, 9)\n",
      "(3, 1200, 10, 10, 9)\n",
      "(3, 1200, 10, 10, 9)\n"
     ]
    },
    {
     "data": {
      "text/plain": [
       "<function BufferedWriter.close>"
      ]
     },
     "execution_count": 3,
     "metadata": {},
     "output_type": "execute_result"
    }
   ],
   "source": [
    "#Generate Comb 8Coin for category \n",
    "#1200 MorningGood, 1200 EveningGood, Others(400 \"No Pattern\",400 MorningBad, 400 EveningBad)\n",
    "with open('gasf_arr_8COIN3C1_USD', mode='rb') as f:\n",
    "    a = pickle.load(f)\n",
    "    print(a.shape)\n",
    "with open('gasf_arr_8COIN3C2_USD', mode='rb') as f:\n",
    "    b = pickle.load(f)\n",
    "    print(b.shape)\n",
    "with open('gasf_arr_8COIN3C3_USD', mode='rb') as f:\n",
    "    c = pickle.load(f)\n",
    "    print(c.shape)\n",
    "    \n",
    "third_cat = np.concatenate((a[2,:400],b[2,:400],c[2,:400]))\n",
    "third_cat = third_cat.reshape((1,1200,10,10,9))\n",
    "comb = np.concatenate((a[0:2], third_cat))\n",
    "print(comb.shape)\n",
    "with open('gasf_arr_8COIN3Ccomb2_USD', mode='wb') as f:\n",
    "    pickle.dump(comb,f)\n",
    "\n",
    "f.close  "
   ]
  },
  {
   "cell_type": "markdown",
   "id": "consecutive-proportion",
   "metadata": {},
   "source": [
    "###  5 Features by slide 9 features "
   ]
  },
  {
   "cell_type": "code",
   "execution_count": 6,
   "id": "urban-engagement",
   "metadata": {},
   "outputs": [
    {
     "name": "stdout",
     "output_type": "stream",
     "text": [
      "(3, 1200, 10, 10, 5)\n",
      "(3, 1200, 10, 10, 5)\n",
      "(3, 1200, 10, 10, 5)\n",
      "(3, 1200, 10, 10, 5)\n"
     ]
    },
    {
     "data": {
      "text/plain": [
       "<function BufferedWriter.close>"
      ]
     },
     "execution_count": 6,
     "metadata": {},
     "output_type": "execute_result"
    }
   ],
   "source": [
    "#Generate Comb 8Coin for 5Features category \n",
    "#1200 MorningGood, 1200 EveningGood, Others(400 \"No Pattern\",400 MorningBad, 400 EveningBad)\n",
    "with open('gasf_arr_8COIN3C1_USD', mode='rb') as f:\n",
    "    a = pickle.load(f)\n",
    "    a = a[:,:,:,:,:5]\n",
    "    print(a.shape)\n",
    "with open('gasf_arr_8COIN3C2_USD', mode='rb') as f:\n",
    "    b = pickle.load(f)\n",
    "    b = b[:,:,:,:,:5]\n",
    "    print(b.shape)\n",
    "with open('gasf_arr_8COIN3C3_USD', mode='rb') as f:\n",
    "    c = pickle.load(f)\n",
    "    c = c[:,:,:,:,:5]\n",
    "    print(c.shape)\n",
    "    \n",
    "third_cat = np.concatenate((a[2,:400],b[2,:400],c[2,:400]))\n",
    "third_cat = third_cat.reshape((1,1200,10,10,5))\n",
    "comb = np.concatenate((a[0:2], third_cat))\n",
    "print(comb.shape)\n",
    "with open('gasf_arr_8COIN3C5Fcomb2_USD', mode='wb') as f:\n",
    "    pickle.dump(comb,f)\n",
    "\n",
    "f.close  "
   ]
  },
  {
   "cell_type": "markdown",
   "id": "artistic-glance",
   "metadata": {},
   "source": [
    "###  4 Features by slide 9 features "
   ]
  },
  {
   "cell_type": "code",
   "execution_count": 7,
   "id": "tracked-comparison",
   "metadata": {},
   "outputs": [
    {
     "name": "stdout",
     "output_type": "stream",
     "text": [
      "(3, 1200, 10, 10, 4)\n",
      "(3, 1200, 10, 10, 4)\n",
      "(3, 1200, 10, 10, 4)\n",
      "(3, 1200, 10, 10, 4)\n"
     ]
    },
    {
     "data": {
      "text/plain": [
       "<function BufferedWriter.close>"
      ]
     },
     "execution_count": 7,
     "metadata": {},
     "output_type": "execute_result"
    }
   ],
   "source": [
    "#Generate Comb 8Coin for 4 Features category \n",
    "#1200 MorningGood, 1200 EveningGood, Others(400 \"No Pattern\",400 MorningBad, 400 EveningBad)\n",
    "with open('gasf_arr_8COIN3C1_USD', mode='rb') as f:\n",
    "    a = pickle.load(f)\n",
    "    a = a[:,:,:,:,:4]\n",
    "    print(a.shape)\n",
    "with open('gasf_arr_8COIN3C2_USD', mode='rb') as f:\n",
    "    b = pickle.load(f)\n",
    "    b = b[:,:,:,:,:4]\n",
    "    print(b.shape)\n",
    "with open('gasf_arr_8COIN3C3_USD', mode='rb') as f:\n",
    "    c = pickle.load(f)\n",
    "    c = c[:,:,:,:,:4]\n",
    "    print(c.shape)\n",
    "    \n",
    "third_cat = np.concatenate((a[2,:400],b[2,:400],c[2,:400]))\n",
    "third_cat = third_cat.reshape((1,1200,10,10,4))\n",
    "comb = np.concatenate((a[0:2], third_cat))\n",
    "print(comb.shape)\n",
    "with open('gasf_arr_8COIN3C4Fcomb2_USD', mode='wb') as f:\n",
    "    pickle.dump(comb,f)\n",
    "\n",
    "f.close  "
   ]
  },
  {
   "cell_type": "markdown",
   "id": "operational-second",
   "metadata": {},
   "source": [
    "###  5 Features by redo gasf"
   ]
  },
  {
   "cell_type": "code",
   "execution_count": 9,
   "id": "saved-frederick",
   "metadata": {},
   "outputs": [
    {
     "name": "stdout",
     "output_type": "stream",
     "text": [
      "(3, 1200, 10, 10, 5)\n",
      "(3, 1200, 10, 10, 5)\n",
      "(3, 1200, 10, 10, 5)\n",
      "(3, 1200, 10, 10, 5)\n"
     ]
    },
    {
     "data": {
      "text/plain": [
       "<function BufferedWriter.close>"
      ]
     },
     "execution_count": 9,
     "metadata": {},
     "output_type": "execute_result"
    }
   ],
   "source": [
    "#Generate Comb 8Coin for 5Features category \n",
    "#1200 MorningGood, 1200 EveningGood, Others(400 \"No Pattern\",400 MorningBad, 400 EveningBad)\n",
    "with open('gasf_arr_8COIN3C5F1_USD', mode='rb') as f:\n",
    "    a = pickle.load(f)\n",
    "    a = a[:,:,:,:,:5]\n",
    "    print(a.shape)\n",
    "with open('gasf_arr_8COIN3C5F2_USD', mode='rb') as f:\n",
    "    b = pickle.load(f)\n",
    "    b = b[:,:,:,:,:5]\n",
    "    print(b.shape)\n",
    "with open('gasf_arr_8COIN3C5F3_USD', mode='rb') as f:\n",
    "    c = pickle.load(f)\n",
    "    c = c[:,:,:,:,:5]\n",
    "    print(c.shape)\n",
    "    \n",
    "third_cat = np.concatenate((a[2,:400],b[2,:400],c[2,:400]))\n",
    "third_cat = third_cat.reshape((1,1200,10,10,5))\n",
    "comb = np.concatenate((a[0:2], third_cat))\n",
    "print(comb.shape)\n",
    "with open('gasf_arr_8COIN3C5Fcomb_USD', mode='wb') as f:\n",
    "    pickle.dump(comb,f)\n",
    "\n",
    "f.close  "
   ]
  },
  {
   "cell_type": "markdown",
   "id": "ranking-classification",
   "metadata": {},
   "source": [
    "###  4 Features by redo gasf"
   ]
  },
  {
   "cell_type": "code",
   "execution_count": 4,
   "id": "stone-environment",
   "metadata": {},
   "outputs": [
    {
     "name": "stdout",
     "output_type": "stream",
     "text": [
      "(3, 1200, 10, 10, 4)\n",
      "(3, 1200, 10, 10, 4)\n",
      "(3, 1200, 10, 10, 4)\n",
      "(3, 1200, 10, 10, 4)\n"
     ]
    },
    {
     "data": {
      "text/plain": [
       "<function BufferedWriter.close>"
      ]
     },
     "execution_count": 4,
     "metadata": {},
     "output_type": "execute_result"
    }
   ],
   "source": [
    "#Generate Comb 8Coin for 4Features category \n",
    "#1200 MorningGood, 1200 EveningGood, Others(400 \"No Pattern\",400 MorningBad, 400 EveningBad)\n",
    "with open('gasf_arr_8COIN3C4F1_USD', mode='rb') as f:\n",
    "    a = pickle.load(f)\n",
    "    a = a[:,:,:,:,:5]\n",
    "    print(a.shape)\n",
    "with open('gasf_arr_8COIN3C4F2_USD', mode='rb') as f:\n",
    "    b = pickle.load(f)\n",
    "    b = b[:,:,:,:,:5]\n",
    "    print(b.shape)\n",
    "with open('gasf_arr_8COIN3C4F3_USD', mode='rb') as f:\n",
    "    c = pickle.load(f)\n",
    "    c = c[:,:,:,:,:5]\n",
    "    print(c.shape)\n",
    "    \n",
    "third_cat = np.concatenate((a[2,:400],b[2,:400],c[2,:400]))\n",
    "third_cat = third_cat.reshape((1,1200,10,10,4))\n",
    "comb = np.concatenate((a[0:2], third_cat))\n",
    "print(comb.shape)\n",
    "with open('gasf_arr_8COIN3C4Fcomb_USD', mode='wb') as f:\n",
    "    pickle.dump(comb,f)\n",
    "\n",
    "f.close  "
   ]
  },
  {
   "cell_type": "markdown",
   "id": "confidential-doctrine",
   "metadata": {},
   "source": [
    "## 8 Coin 2 Category (MG, MB) 9 Features"
   ]
  },
  {
   "cell_type": "code",
   "execution_count": 7,
   "id": "academic-evaluation",
   "metadata": {},
   "outputs": [
    {
     "name": "stdout",
     "output_type": "stream",
     "text": [
      "(2, 1200, 10, 10, 9)\n"
     ]
    },
    {
     "data": {
      "text/plain": [
       "<function BufferedWriter.close>"
      ]
     },
     "execution_count": 7,
     "metadata": {},
     "output_type": "execute_result"
    }
   ],
   "source": [
    "with open('gasf_arr_8COIN5C9F_USD', mode='rb') as f:\n",
    "    a = pickle.load(f)\n",
    "    a = a[:2,:,:,:,:]\n",
    "    print(a.shape)\n",
    "    \n",
    "with open('gasf_arr_8COINMGB_USD', mode='wb') as f:\n",
    "    pickle.dump(a,f)\n",
    "    \n",
    "f.close  "
   ]
  },
  {
   "cell_type": "markdown",
   "id": "affected-mainstream",
   "metadata": {},
   "source": [
    "## 8 Coin 2 Category (EG, EB) 9 Features"
   ]
  },
  {
   "cell_type": "code",
   "execution_count": 8,
   "id": "optical-suggestion",
   "metadata": {},
   "outputs": [
    {
     "name": "stdout",
     "output_type": "stream",
     "text": [
      "(2, 1200, 10, 10, 9)\n"
     ]
    },
    {
     "data": {
      "text/plain": [
       "<function BufferedWriter.close>"
      ]
     },
     "execution_count": 8,
     "metadata": {},
     "output_type": "execute_result"
    }
   ],
   "source": [
    "with open('gasf_arr_8COIN5C9F_USD', mode='rb') as f:\n",
    "    a = pickle.load(f)\n",
    "    a = a[2:4,:,:,:,:]\n",
    "    print(a.shape)\n",
    "    \n",
    "with open('gasf_arr_8COINEGB_USD', mode='wb') as f:\n",
    "    pickle.dump(a,f)\n",
    "    \n",
    "f.close  "
   ]
  },
  {
   "cell_type": "markdown",
   "id": "controlled-rochester",
   "metadata": {},
   "source": [
    "## 8 Coin 2 Category (MG, MB) 5 Features"
   ]
  },
  {
   "cell_type": "code",
   "execution_count": 10,
   "id": "decimal-brass",
   "metadata": {},
   "outputs": [
    {
     "name": "stdout",
     "output_type": "stream",
     "text": [
      "(2, 1200, 10, 10, 5)\n"
     ]
    },
    {
     "data": {
      "text/plain": [
       "<function BufferedWriter.close>"
      ]
     },
     "execution_count": 10,
     "metadata": {},
     "output_type": "execute_result"
    }
   ],
   "source": [
    "with open('gasf_arr_8COIN5C9F_USD', mode='rb') as f:\n",
    "    a = pickle.load(f)\n",
    "    a = a[:2,:,:,:,:5]\n",
    "    print(a.shape)\n",
    "    \n",
    "with open('gasf_arr_8COINMGB5F_USD', mode='wb') as f:\n",
    "    pickle.dump(a,f)\n",
    "    \n",
    "f.close  "
   ]
  },
  {
   "cell_type": "markdown",
   "id": "physical-romantic",
   "metadata": {},
   "source": [
    "## 8 Coin 2 Category (EG, EB) 5 Features"
   ]
  },
  {
   "cell_type": "code",
   "execution_count": 11,
   "id": "interracial-korean",
   "metadata": {},
   "outputs": [
    {
     "name": "stdout",
     "output_type": "stream",
     "text": [
      "(2, 1200, 10, 10, 5)\n"
     ]
    },
    {
     "data": {
      "text/plain": [
       "<function BufferedWriter.close>"
      ]
     },
     "execution_count": 11,
     "metadata": {},
     "output_type": "execute_result"
    }
   ],
   "source": [
    "with open('gasf_arr_8COIN5C9F_USD', mode='rb') as f:\n",
    "    a = pickle.load(f)\n",
    "    a = a[2:4,:,:,:,:5]\n",
    "    print(a.shape)\n",
    "    \n",
    "with open('gasf_arr_8COINEGB5F_USD', mode='wb') as f:\n",
    "    pickle.dump(a,f)\n",
    "    \n",
    "f.close  "
   ]
  },
  {
   "cell_type": "markdown",
   "id": "northern-literacy",
   "metadata": {},
   "source": [
    "## 8 Coin 2 Category (MG, MB) 4 Features"
   ]
  },
  {
   "cell_type": "code",
   "execution_count": 12,
   "id": "continuous-ballet",
   "metadata": {},
   "outputs": [
    {
     "name": "stdout",
     "output_type": "stream",
     "text": [
      "(2, 1200, 10, 10, 4)\n"
     ]
    },
    {
     "data": {
      "text/plain": [
       "<function BufferedWriter.close>"
      ]
     },
     "execution_count": 12,
     "metadata": {},
     "output_type": "execute_result"
    }
   ],
   "source": [
    "with open('gasf_arr_8COIN5C9F_USD', mode='rb') as f:\n",
    "    a = pickle.load(f)\n",
    "    a = a[:2,:,:,:,:4]\n",
    "    print(a.shape)\n",
    "    \n",
    "with open('gasf_arr_8COINMGB4F_USD', mode='wb') as f:\n",
    "    pickle.dump(a,f)\n",
    "    \n",
    "f.close  "
   ]
  },
  {
   "cell_type": "markdown",
   "id": "engaging-senegal",
   "metadata": {},
   "source": [
    "## 8 Coin 2 Category (EG, EB) 4 Features"
   ]
  },
  {
   "cell_type": "code",
   "execution_count": 13,
   "id": "correct-ticket",
   "metadata": {},
   "outputs": [
    {
     "name": "stdout",
     "output_type": "stream",
     "text": [
      "(2, 1200, 10, 10, 4)\n"
     ]
    },
    {
     "data": {
      "text/plain": [
       "<function BufferedWriter.close>"
      ]
     },
     "execution_count": 13,
     "metadata": {},
     "output_type": "execute_result"
    }
   ],
   "source": [
    "with open('gasf_arr_8COIN5C9F_USD', mode='rb') as f:\n",
    "    a = pickle.load(f)\n",
    "    a = a[2:4,:,:,:,:4]\n",
    "    print(a.shape)\n",
    "    \n",
    "with open('gasf_arr_8COINEGB4F_USD', mode='wb') as f:\n",
    "    pickle.dump(a,f)\n",
    "    \n",
    "f.close  "
   ]
  },
  {
   "cell_type": "code",
   "execution_count": null,
   "id": "smoking-rochester",
   "metadata": {},
   "outputs": [],
   "source": []
  }
 ],
 "metadata": {
  "kernelspec": {
   "display_name": "Python 3",
   "language": "python",
   "name": "python3"
  },
  "language_info": {
   "codemirror_mode": {
    "name": "ipython",
    "version": 3
   },
   "file_extension": ".py",
   "mimetype": "text/x-python",
   "name": "python",
   "nbconvert_exporter": "python",
   "pygments_lexer": "ipython3",
   "version": "3.7.9"
  }
 },
 "nbformat": 4,
 "nbformat_minor": 5
}
