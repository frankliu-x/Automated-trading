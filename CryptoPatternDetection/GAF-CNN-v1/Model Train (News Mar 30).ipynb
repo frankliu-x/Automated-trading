{
 "cells": [
  {
   "cell_type": "code",
   "execution_count": 1,
   "id": "integral-stanford",
   "metadata": {},
   "outputs": [],
   "source": [
    "import warnings\n",
    "warnings.filterwarnings('ignore')"
   ]
  },
  {
   "cell_type": "markdown",
   "id": "still-terrorist",
   "metadata": {},
   "source": [
    "## March 30\n",
    "### Pattern detection"
   ]
  },
  {
   "cell_type": "code",
   "execution_count": 2,
   "id": "approved-conservation",
   "metadata": {},
   "outputs": [
    {
     "name": "stderr",
     "output_type": "stream",
     "text": [
      "Using TensorFlow backend.\n",
      "/Users/haoyuzhang/anaconda3/envs/Kerasenv/lib/python3.7/site-packages/mpl_finance.py:22: DeprecationWarning: \n",
      "\n",
      "  =================================================================\n",
      "\n",
      "   WARNING: `mpl_finance` is deprecated:\n",
      "\n",
      "    Please use `mplfinance` instead (no hyphen, no underscore).\n",
      "\n",
      "    To install: `pip install --upgrade mplfinance` \n",
      "\n",
      "   For more information, see: https://pypi.org/project/mplfinance/\n",
      "\n",
      "  =================================================================\n",
      "\n",
      "  category=DeprecationWarning)\n"
     ]
    },
    {
     "name": "stdout",
     "output_type": "stream",
     "text": [
      "Rule : 1H\n",
      "Period : 2020-04-12 12:00:00 - 2022-02-28 23:00:00 \n",
      "\n",
      "Number of MorningStar_good : 283 // 16651 \n",
      "\n",
      "Number of EveningStar_good : 79 // 16651 \n",
      "\n"
     ]
    }
   ],
   "source": [
    "%run main.py -mode=csv_pattern -targets=BTCnews_USD -pattern_ls=MorningStar_good,EveningStar_good -feature_channels=open,high,close,low,volumeto,rank_score -ignore_patternless=False"
   ]
  },
  {
   "cell_type": "code",
   "execution_count": 3,
   "id": "existing-resort",
   "metadata": {},
   "outputs": [
    {
     "name": "stdout",
     "output_type": "stream",
     "text": [
      "Rule : 1H\n",
      "Period : 2020-04-12 12:00:00 - 2022-02-28 23:00:00 \n",
      "\n",
      "Number of MorningStar_good : 328 // 16651 \n",
      "\n",
      "Number of EveningStar_good : 99 // 16651 \n",
      "\n"
     ]
    }
   ],
   "source": [
    "%run main.py -mode=csv_pattern -targets=ETHnews_USD -pattern_ls=MorningStar_good,EveningStar_good -feature_channels=open,high,close,low,volumeto,rank_score -ignore_patternless=False"
   ]
  },
  {
   "cell_type": "code",
   "execution_count": 4,
   "id": "cross-cameroon",
   "metadata": {},
   "outputs": [
    {
     "name": "stdout",
     "output_type": "stream",
     "text": [
      "Rule : 1H\n",
      "Period : 2020-04-12 12:00:00 - 2022-02-28 23:00:00 \n",
      "\n",
      "Number of MorningStar_good : 304 // 16651 \n",
      "\n",
      "Number of EveningStar_good : 114 // 16651 \n",
      "\n"
     ]
    }
   ],
   "source": [
    "%run main.py -mode=csv_pattern -targets=BNBnews_USD -pattern_ls=MorningStar_good,EveningStar_good -feature_channels=open,high,close,low,volumeto,rank_score -ignore_patternless=False"
   ]
  },
  {
   "cell_type": "code",
   "execution_count": 5,
   "id": "infinite-basket",
   "metadata": {},
   "outputs": [
    {
     "name": "stdout",
     "output_type": "stream",
     "text": [
      "Rule : 1H\n",
      "Period : 2020-04-12 12:00:00 - 2022-02-28 23:00:00 \n",
      "\n",
      "Number of MorningStar_good : 301 // 16651 \n",
      "\n",
      "Number of EveningStar_good : 109 // 16651 \n",
      "\n"
     ]
    }
   ],
   "source": [
    "%run main.py -mode=csv_pattern -targets=XRPnews_USD -pattern_ls=MorningStar_good,EveningStar_good -feature_channels=open,high,close,low,volumeto,rank_score -ignore_patternless=False"
   ]
  },
  {
   "cell_type": "code",
   "execution_count": 6,
   "id": "lined-investigator",
   "metadata": {},
   "outputs": [
    {
     "name": "stdout",
     "output_type": "stream",
     "text": [
      "Rule : 1H\n",
      "Period : 2020-04-12 12:00:00 - 2022-02-28 23:00:00 \n",
      "\n",
      "Number of MorningStar_good : 376 // 16651 \n",
      "\n",
      "Number of EveningStar_good : 137 // 16651 \n",
      "\n"
     ]
    }
   ],
   "source": [
    "%run main.py -mode=csv_pattern -targets=LUNAnews_USD -pattern_ls=MorningStar_good,EveningStar_good -feature_channels=open,high,close,low,volumeto,rank_score -ignore_patternless=False"
   ]
  },
  {
   "cell_type": "code",
   "execution_count": 7,
   "id": "missing-arthritis",
   "metadata": {},
   "outputs": [
    {
     "name": "stdout",
     "output_type": "stream",
     "text": [
      "Rule : 1H\n",
      "Period : 2020-05-11 20:00:00 - 2022-02-28 23:00:00 \n",
      "\n",
      "Number of MorningStar_good : 371 // 15929 \n",
      "\n",
      "Number of EveningStar_good : 135 // 15929 \n",
      "\n"
     ]
    }
   ],
   "source": [
    "%run main.py -mode=csv_pattern -targets=SOLnews_USD -pattern_ls=MorningStar_good,EveningStar_good -feature_channels=open,high,close,low,volumeto,rank_score -ignore_patternless=False"
   ]
  },
  {
   "cell_type": "code",
   "execution_count": 8,
   "id": "instant-range",
   "metadata": {},
   "outputs": [
    {
     "name": "stdout",
     "output_type": "stream",
     "text": [
      "Rule : 1H\n",
      "Period : 2020-04-12 12:00:00 - 2022-02-28 23:00:00 \n",
      "\n",
      "Number of MorningStar_good : 312 // 16651 \n",
      "\n",
      "Number of EveningStar_good : 98 // 16651 \n",
      "\n"
     ]
    }
   ],
   "source": [
    "%run main.py -mode=csv_pattern -targets=ADAnews_USD -pattern_ls=MorningStar_good,EveningStar_good -feature_channels=open,high,close,low,volumeto,rank_score -ignore_patternless=False"
   ]
  },
  {
   "cell_type": "code",
   "execution_count": 9,
   "id": "overhead-azerbaijan",
   "metadata": {},
   "outputs": [
    {
     "name": "stdout",
     "output_type": "stream",
     "text": [
      "Rule : 1H\n",
      "Period : 2020-04-12 12:00:00 - 2022-02-28 23:00:00 \n",
      "\n",
      "Number of MorningStar_good : 383 // 16651 \n",
      "\n",
      "Number of EveningStar_good : 160 // 16651 \n",
      "\n"
     ]
    }
   ],
   "source": [
    "%run main.py -mode=csv_pattern -targets=FTMnews_USD -pattern_ls=MorningStar_good,EveningStar_good -feature_channels=open,high,close,low,volumeto,rank_score -ignore_patternless=False"
   ]
  },
  {
   "cell_type": "markdown",
   "id": "basic-gravity",
   "metadata": {},
   "source": [
    "## 8 Coin GASF+CNN"
   ]
  },
  {
   "cell_type": "code",
   "execution_count": null,
   "id": "steady-minnesota",
   "metadata": {},
   "outputs": [],
   "source": [
    "%run main.py -mode=gasf+cnn -targets=8COIN3Cnews_USD -pattern_ls=MorningStar_good,EveningStar_good -feature_channels=open,high,close,low,volumeto,rank_score -ignore_patternless=False -sample_size=931"
   ]
  },
  {
   "cell_type": "code",
   "execution_count": null,
   "id": "governmental-satin",
   "metadata": {},
   "outputs": [],
   "source": []
  }
 ],
 "metadata": {
  "kernelspec": {
   "display_name": "Python 3",
   "language": "python",
   "name": "python3"
  },
  "language_info": {
   "codemirror_mode": {
    "name": "ipython",
    "version": 3
   },
   "file_extension": ".py",
   "mimetype": "text/x-python",
   "name": "python",
   "nbconvert_exporter": "python",
   "pygments_lexer": "ipython3",
   "version": "3.7.9"
  }
 },
 "nbformat": 4,
 "nbformat_minor": 5
}
