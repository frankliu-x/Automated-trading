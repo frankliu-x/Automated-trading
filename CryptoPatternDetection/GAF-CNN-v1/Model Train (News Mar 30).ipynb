{
 "cells": [
  {
   "cell_type": "code",
   "execution_count": 46,
   "id": "dietary-thesaurus",
   "metadata": {},
   "outputs": [],
   "source": [
    "import warnings\n",
    "warnings.filterwarnings('ignore')\n",
    "import pickle\n",
    "import numpy as np"
   ]
  },
  {
   "cell_type": "markdown",
   "id": "rental-nowhere",
   "metadata": {},
   "source": [
    "# March 30\n",
    "## v1 \n",
    "### Pattern detection"
   ]
  },
  {
   "cell_type": "code",
   "execution_count": 2,
   "id": "extreme-lease",
   "metadata": {},
   "outputs": [
    {
     "name": "stderr",
     "output_type": "stream",
     "text": [
      "Using TensorFlow backend.\n",
      "/Users/haoyuzhang/anaconda3/envs/Kerasenv/lib/python3.7/site-packages/mpl_finance.py:22: DeprecationWarning: \n",
      "\n",
      "  =================================================================\n",
      "\n",
      "   WARNING: `mpl_finance` is deprecated:\n",
      "\n",
      "    Please use `mplfinance` instead (no hyphen, no underscore).\n",
      "\n",
      "    To install: `pip install --upgrade mplfinance` \n",
      "\n",
      "   For more information, see: https://pypi.org/project/mplfinance/\n",
      "\n",
      "  =================================================================\n",
      "\n",
      "  category=DeprecationWarning)\n"
     ]
    },
    {
     "name": "stdout",
     "output_type": "stream",
     "text": [
      "Rule : 1H\n",
      "Period : 2020-04-12 12:00:00 - 2022-02-28 23:00:00 \n",
      "\n",
      "Number of MorningStar_good : 283 // 16651 \n",
      "\n",
      "Number of EveningStar_good : 79 // 16651 \n",
      "\n"
     ]
    }
   ],
   "source": [
    "%run main.py -mode=csv_pattern -targets=BTCnews_USD -pattern_ls=MorningStar_good,EveningStar_good -feature_channels=open,high,close,low,volumeto,rank_score -ignore_patternless=False"
   ]
  },
  {
   "cell_type": "code",
   "execution_count": 3,
   "id": "placed-economics",
   "metadata": {},
   "outputs": [
    {
     "name": "stdout",
     "output_type": "stream",
     "text": [
      "Rule : 1H\n",
      "Period : 2020-04-12 12:00:00 - 2022-02-28 23:00:00 \n",
      "\n",
      "Number of MorningStar_good : 328 // 16651 \n",
      "\n",
      "Number of EveningStar_good : 99 // 16651 \n",
      "\n"
     ]
    }
   ],
   "source": [
    "%run main.py -mode=csv_pattern -targets=ETHnews_USD -pattern_ls=MorningStar_good,EveningStar_good -feature_channels=open,high,close,low,volumeto,rank_score -ignore_patternless=False"
   ]
  },
  {
   "cell_type": "code",
   "execution_count": 4,
   "id": "studied-school",
   "metadata": {},
   "outputs": [
    {
     "name": "stdout",
     "output_type": "stream",
     "text": [
      "Rule : 1H\n",
      "Period : 2020-04-12 12:00:00 - 2022-02-28 23:00:00 \n",
      "\n",
      "Number of MorningStar_good : 304 // 16651 \n",
      "\n",
      "Number of EveningStar_good : 114 // 16651 \n",
      "\n"
     ]
    }
   ],
   "source": [
    "%run main.py -mode=csv_pattern -targets=BNBnews_USD -pattern_ls=MorningStar_good,EveningStar_good -feature_channels=open,high,close,low,volumeto,rank_score -ignore_patternless=False"
   ]
  },
  {
   "cell_type": "code",
   "execution_count": 5,
   "id": "prescribed-poland",
   "metadata": {},
   "outputs": [
    {
     "name": "stdout",
     "output_type": "stream",
     "text": [
      "Rule : 1H\n",
      "Period : 2020-04-12 12:00:00 - 2022-02-28 23:00:00 \n",
      "\n",
      "Number of MorningStar_good : 301 // 16651 \n",
      "\n",
      "Number of EveningStar_good : 109 // 16651 \n",
      "\n"
     ]
    }
   ],
   "source": [
    "%run main.py -mode=csv_pattern -targets=XRPnews_USD -pattern_ls=MorningStar_good,EveningStar_good -feature_channels=open,high,close,low,volumeto,rank_score -ignore_patternless=False"
   ]
  },
  {
   "cell_type": "code",
   "execution_count": 6,
   "id": "japanese-purchase",
   "metadata": {},
   "outputs": [
    {
     "name": "stdout",
     "output_type": "stream",
     "text": [
      "Rule : 1H\n",
      "Period : 2020-04-12 12:00:00 - 2022-02-28 23:00:00 \n",
      "\n",
      "Number of MorningStar_good : 376 // 16651 \n",
      "\n",
      "Number of EveningStar_good : 137 // 16651 \n",
      "\n"
     ]
    }
   ],
   "source": [
    "%run main.py -mode=csv_pattern -targets=LUNAnews_USD -pattern_ls=MorningStar_good,EveningStar_good -feature_channels=open,high,close,low,volumeto,rank_score -ignore_patternless=False"
   ]
  },
  {
   "cell_type": "code",
   "execution_count": 7,
   "id": "adult-grain",
   "metadata": {},
   "outputs": [
    {
     "name": "stdout",
     "output_type": "stream",
     "text": [
      "Rule : 1H\n",
      "Period : 2020-05-11 20:00:00 - 2022-02-28 23:00:00 \n",
      "\n",
      "Number of MorningStar_good : 371 // 15929 \n",
      "\n",
      "Number of EveningStar_good : 135 // 15929 \n",
      "\n"
     ]
    }
   ],
   "source": [
    "%run main.py -mode=csv_pattern -targets=SOLnews_USD -pattern_ls=MorningStar_good,EveningStar_good -feature_channels=open,high,close,low,volumeto,rank_score -ignore_patternless=False"
   ]
  },
  {
   "cell_type": "code",
   "execution_count": 8,
   "id": "verified-lightweight",
   "metadata": {},
   "outputs": [
    {
     "name": "stdout",
     "output_type": "stream",
     "text": [
      "Rule : 1H\n",
      "Period : 2020-04-12 12:00:00 - 2022-02-28 23:00:00 \n",
      "\n",
      "Number of MorningStar_good : 312 // 16651 \n",
      "\n",
      "Number of EveningStar_good : 98 // 16651 \n",
      "\n"
     ]
    }
   ],
   "source": [
    "%run main.py -mode=csv_pattern -targets=ADAnews_USD -pattern_ls=MorningStar_good,EveningStar_good -feature_channels=open,high,close,low,volumeto,rank_score -ignore_patternless=False"
   ]
  },
  {
   "cell_type": "code",
   "execution_count": 9,
   "id": "mysterious-point",
   "metadata": {},
   "outputs": [
    {
     "name": "stdout",
     "output_type": "stream",
     "text": [
      "Rule : 1H\n",
      "Period : 2020-04-12 12:00:00 - 2022-02-28 23:00:00 \n",
      "\n",
      "Number of MorningStar_good : 383 // 16651 \n",
      "\n",
      "Number of EveningStar_good : 160 // 16651 \n",
      "\n"
     ]
    }
   ],
   "source": [
    "%run main.py -mode=csv_pattern -targets=FTMnews_USD -pattern_ls=MorningStar_good,EveningStar_good -feature_channels=open,high,close,low,volumeto,rank_score -ignore_patternless=False"
   ]
  },
  {
   "cell_type": "markdown",
   "id": "loving-marble",
   "metadata": {},
   "source": [
    "### 8 Coin GASF+CNN v1"
   ]
  },
  {
   "cell_type": "code",
   "execution_count": 11,
   "id": "thick-skirt",
   "metadata": {},
   "outputs": [
    {
     "name": "stdout",
     "output_type": "stream",
     "text": [
      "WARNING:tensorflow:From /Users/haoyuzhang/anaconda3/envs/Kerasenv/lib/python3.7/site-packages/keras/backend/tensorflow_backend.py:4070: The name tf.nn.max_pool is deprecated. Please use tf.nn.max_pool2d instead.\n",
      "\n"
     ]
    },
    {
     "name": "stderr",
     "output_type": "stream",
     "text": [
      "WARNING:tensorflow:From /Users/haoyuzhang/anaconda3/envs/Kerasenv/lib/python3.7/site-packages/keras/backend/tensorflow_backend.py:4070: The name tf.nn.max_pool is deprecated. Please use tf.nn.max_pool2d instead.\n",
      "\n"
     ]
    },
    {
     "name": "stdout",
     "output_type": "stream",
     "text": [
      "Model: \"sequential_1\"\n",
      "_________________________________________________________________\n",
      "Layer (type)                 Output Shape              Param #   \n",
      "=================================================================\n",
      "conv2d_1 (Conv2D)            (None, 10, 10, 32)        800       \n",
      "_________________________________________________________________\n",
      "max_pooling2d_1 (MaxPooling2 (None, 5, 5, 32)          0         \n",
      "_________________________________________________________________\n",
      "conv2d_2 (Conv2D)            (None, 5, 5, 32)          4128      \n",
      "_________________________________________________________________\n",
      "max_pooling2d_2 (MaxPooling2 (None, 2, 2, 32)          0         \n",
      "_________________________________________________________________\n",
      "dropout_1 (Dropout)          (None, 2, 2, 32)          0         \n",
      "_________________________________________________________________\n",
      "flatten_1 (Flatten)          (None, 128)               0         \n",
      "_________________________________________________________________\n",
      "dense_1 (Dense)              (None, 128)               16512     \n",
      "_________________________________________________________________\n",
      "dropout_2 (Dropout)          (None, 128)               0         \n",
      "_________________________________________________________________\n",
      "dense_2 (Dense)              (None, 3)                 387       \n",
      "=================================================================\n",
      "Total params: 21,827\n",
      "Trainable params: 21,827\n",
      "Non-trainable params: 0\n",
      "_________________________________________________________________\n",
      "None\n",
      "WARNING:tensorflow:From /Users/haoyuzhang/anaconda3/envs/Kerasenv/lib/python3.7/site-packages/keras/backend/tensorflow_backend.py:3172: add_dispatch_support.<locals>.wrapper (from tensorflow.python.ops.array_ops) is deprecated and will be removed in a future version.\n",
      "Instructions for updating:\n",
      "Use tf.where in 2.0, which has the same broadcast rule as np.where\n"
     ]
    },
    {
     "name": "stderr",
     "output_type": "stream",
     "text": [
      "WARNING:tensorflow:From /Users/haoyuzhang/anaconda3/envs/Kerasenv/lib/python3.7/site-packages/keras/backend/tensorflow_backend.py:3172: add_dispatch_support.<locals>.wrapper (from tensorflow.python.ops.array_ops) is deprecated and will be removed in a future version.\n",
      "Instructions for updating:\n",
      "Use tf.where in 2.0, which has the same broadcast rule as np.where\n"
     ]
    },
    {
     "name": "stdout",
     "output_type": "stream",
     "text": [
      "WARNING:tensorflow:From /Users/haoyuzhang/anaconda3/envs/Kerasenv/lib/python3.7/site-packages/keras/backend/tensorflow_backend.py:422: The name tf.global_variables is deprecated. Please use tf.compat.v1.global_variables instead.\n",
      "\n"
     ]
    },
    {
     "name": "stderr",
     "output_type": "stream",
     "text": [
      "WARNING:tensorflow:From /Users/haoyuzhang/anaconda3/envs/Kerasenv/lib/python3.7/site-packages/keras/backend/tensorflow_backend.py:422: The name tf.global_variables is deprecated. Please use tf.compat.v1.global_variables instead.\n",
      "\n"
     ]
    },
    {
     "name": "stdout",
     "output_type": "stream",
     "text": [
      "Train on 1564 samples, validate on 391 samples\n",
      "Epoch 1/300\n",
      " - 2s - loss: 1.2101 - accuracy: 0.3248 - precision: 0.3039 - recall: 0.1234 - val_loss: 1.0888 - val_accuracy: 0.3734 - val_precision: 0.0000e+00 - val_recall: 0.0000e+00\n",
      "Epoch 2/300\n",
      " - 0s - loss: 1.1337 - accuracy: 0.3587 - precision: 0.3822 - recall: 0.1068 - val_loss: 1.0396 - val_accuracy: 0.5652 - val_precision: 0.0000e+00 - val_recall: 0.0000e+00\n",
      "Epoch 3/300\n",
      " - 0s - loss: 1.0786 - accuracy: 0.4412 - precision: 0.4964 - recall: 0.1336 - val_loss: 0.9894 - val_accuracy: 0.6113 - val_precision: 0.9000 - val_recall: 0.0460\n",
      "Epoch 4/300\n",
      " - 0s - loss: 1.0201 - accuracy: 0.4910 - precision: 0.6091 - recall: 0.1873 - val_loss: 0.9415 - val_accuracy: 0.6368 - val_precision: 0.7846 - val_recall: 0.1304\n",
      "Epoch 5/300\n",
      " - 0s - loss: 0.9710 - accuracy: 0.5332 - precision: 0.6392 - recall: 0.2129 - val_loss: 0.8966 - val_accuracy: 0.6471 - val_precision: 0.7203 - val_recall: 0.2174\n",
      "Epoch 6/300\n",
      " - 0s - loss: 0.9460 - accuracy: 0.5364 - precision: 0.6304 - recall: 0.2519 - val_loss: 0.8556 - val_accuracy: 0.6547 - val_precision: 0.7353 - val_recall: 0.3197\n",
      "Epoch 7/300\n",
      " - 0s - loss: 0.9143 - accuracy: 0.5595 - precision: 0.6308 - recall: 0.2852 - val_loss: 0.8177 - val_accuracy: 0.6752 - val_precision: 0.7265 - val_recall: 0.4143\n",
      "Epoch 8/300\n",
      " - 0s - loss: 0.8669 - accuracy: 0.5786 - precision: 0.6576 - recall: 0.3536 - val_loss: 0.7839 - val_accuracy: 0.6726 - val_precision: 0.7269 - val_recall: 0.4834\n",
      "Epoch 9/300\n",
      " - 0s - loss: 0.8426 - accuracy: 0.5844 - precision: 0.6660 - recall: 0.4271 - val_loss: 0.7561 - val_accuracy: 0.6650 - val_precision: 0.7088 - val_recall: 0.5166\n",
      "Epoch 10/300\n",
      " - 0s - loss: 0.8331 - accuracy: 0.5978 - precision: 0.6575 - recall: 0.4578 - val_loss: 0.7352 - val_accuracy: 0.6726 - val_precision: 0.7067 - val_recall: 0.5422\n",
      "Epoch 11/300\n",
      " - 0s - loss: 0.8011 - accuracy: 0.6113 - precision: 0.6673 - recall: 0.4872 - val_loss: 0.7190 - val_accuracy: 0.6752 - val_precision: 0.7032 - val_recall: 0.5575\n",
      "Epoch 12/300\n",
      " - 0s - loss: 0.7901 - accuracy: 0.6240 - precision: 0.6675 - recall: 0.5301 - val_loss: 0.7055 - val_accuracy: 0.6854 - val_precision: 0.7070 - val_recall: 0.5678\n",
      "Epoch 13/300\n",
      " - 0s - loss: 0.7797 - accuracy: 0.6049 - precision: 0.6457 - recall: 0.5256 - val_loss: 0.6934 - val_accuracy: 0.6931 - val_precision: 0.7178 - val_recall: 0.5985\n",
      "Epoch 14/300\n",
      " - 0s - loss: 0.7657 - accuracy: 0.6272 - precision: 0.6565 - recall: 0.5512 - val_loss: 0.6836 - val_accuracy: 0.7033 - val_precision: 0.7181 - val_recall: 0.6189\n",
      "Epoch 15/300\n",
      " - 0s - loss: 0.7622 - accuracy: 0.6285 - precision: 0.6540 - recall: 0.5620 - val_loss: 0.6754 - val_accuracy: 0.7059 - val_precision: 0.7159 - val_recall: 0.6317\n",
      "Epoch 16/300\n",
      " - 0s - loss: 0.7527 - accuracy: 0.6196 - precision: 0.6474 - recall: 0.5518 - val_loss: 0.6695 - val_accuracy: 0.7008 - val_precision: 0.7151 - val_recall: 0.6419\n",
      "Epoch 17/300\n",
      " - 0s - loss: 0.7452 - accuracy: 0.6349 - precision: 0.6554 - recall: 0.5678 - val_loss: 0.6646 - val_accuracy: 0.7033 - val_precision: 0.7163 - val_recall: 0.6394\n",
      "Epoch 18/300\n",
      " - 0s - loss: 0.7348 - accuracy: 0.6343 - precision: 0.6652 - recall: 0.5716 - val_loss: 0.6606 - val_accuracy: 0.7033 - val_precision: 0.7155 - val_recall: 0.6368\n",
      "Epoch 19/300\n",
      " - 0s - loss: 0.7347 - accuracy: 0.6272 - precision: 0.6484 - recall: 0.5601 - val_loss: 0.6565 - val_accuracy: 0.7059 - val_precision: 0.7297 - val_recall: 0.6419\n",
      "Epoch 20/300\n",
      " - 0s - loss: 0.7070 - accuracy: 0.6477 - precision: 0.6814 - recall: 0.5825 - val_loss: 0.6530 - val_accuracy: 0.7059 - val_precision: 0.7281 - val_recall: 0.6368\n",
      "Epoch 21/300\n",
      " - 0s - loss: 0.7104 - accuracy: 0.6458 - precision: 0.6704 - recall: 0.5812 - val_loss: 0.6494 - val_accuracy: 0.6982 - val_precision: 0.7273 - val_recall: 0.6343\n",
      "Epoch 22/300\n",
      " - 0s - loss: 0.7032 - accuracy: 0.6675 - precision: 0.6842 - recall: 0.6055 - val_loss: 0.6449 - val_accuracy: 0.7008 - val_precision: 0.7286 - val_recall: 0.6317\n",
      "Epoch 23/300\n",
      " - 0s - loss: 0.6910 - accuracy: 0.6618 - precision: 0.6905 - recall: 0.5876 - val_loss: 0.6396 - val_accuracy: 0.7033 - val_precision: 0.7310 - val_recall: 0.6394\n",
      "Epoch 24/300\n",
      " - 0s - loss: 0.6774 - accuracy: 0.6746 - precision: 0.7001 - recall: 0.5985 - val_loss: 0.6324 - val_accuracy: 0.7059 - val_precision: 0.7278 - val_recall: 0.6496\n",
      "Epoch 25/300\n",
      " - 0s - loss: 0.6685 - accuracy: 0.6752 - precision: 0.7023 - recall: 0.6049 - val_loss: 0.6243 - val_accuracy: 0.7084 - val_precision: 0.7235 - val_recall: 0.6624\n",
      "Epoch 26/300\n",
      " - 0s - loss: 0.6557 - accuracy: 0.6873 - precision: 0.7143 - recall: 0.6234 - val_loss: 0.6152 - val_accuracy: 0.7161 - val_precision: 0.7230 - val_recall: 0.6675\n",
      "Epoch 27/300\n",
      " - 0s - loss: 0.6539 - accuracy: 0.6899 - precision: 0.7094 - recall: 0.6304 - val_loss: 0.6070 - val_accuracy: 0.7161 - val_precision: 0.7293 - val_recall: 0.6752\n",
      "Epoch 28/300\n",
      " - 0s - loss: 0.6344 - accuracy: 0.6835 - precision: 0.7112 - recall: 0.6439 - val_loss: 0.5987 - val_accuracy: 0.7263 - val_precision: 0.7295 - val_recall: 0.6829\n",
      "Epoch 29/300\n",
      " - 0s - loss: 0.6319 - accuracy: 0.6950 - precision: 0.7189 - recall: 0.6509 - val_loss: 0.5890 - val_accuracy: 0.7315 - val_precision: 0.7340 - val_recall: 0.7059\n",
      "Epoch 30/300\n",
      " - 0s - loss: 0.6430 - accuracy: 0.7040 - precision: 0.7198 - recall: 0.6554 - val_loss: 0.5812 - val_accuracy: 0.7391 - val_precision: 0.7460 - val_recall: 0.7136\n",
      "Epoch 31/300\n",
      " - 0s - loss: 0.6114 - accuracy: 0.7046 - precision: 0.7195 - recall: 0.6592 - val_loss: 0.5756 - val_accuracy: 0.7391 - val_precision: 0.7487 - val_recall: 0.7161\n",
      "Epoch 32/300\n",
      " - 0s - loss: 0.5989 - accuracy: 0.7251 - precision: 0.7394 - recall: 0.6912 - val_loss: 0.5704 - val_accuracy: 0.7417 - val_precision: 0.7553 - val_recall: 0.7263\n",
      "Epoch 33/300\n",
      " - 0s - loss: 0.6116 - accuracy: 0.6963 - precision: 0.7104 - recall: 0.6618 - val_loss: 0.5636 - val_accuracy: 0.7494 - val_precision: 0.7580 - val_recall: 0.7289\n",
      "Epoch 34/300\n",
      " - 0s - loss: 0.5775 - accuracy: 0.7302 - precision: 0.7466 - recall: 0.6950 - val_loss: 0.5573 - val_accuracy: 0.7468 - val_precision: 0.7547 - val_recall: 0.7238\n",
      "Epoch 35/300\n",
      " - 0s - loss: 0.5780 - accuracy: 0.7219 - precision: 0.7359 - recall: 0.6841 - val_loss: 0.5500 - val_accuracy: 0.7519 - val_precision: 0.7600 - val_recall: 0.7289\n",
      "Epoch 36/300\n",
      " - 0s - loss: 0.5695 - accuracy: 0.7263 - precision: 0.7397 - recall: 0.6976 - val_loss: 0.5440 - val_accuracy: 0.7468 - val_precision: 0.7585 - val_recall: 0.7391\n",
      "Epoch 37/300\n",
      " - 0s - loss: 0.5741 - accuracy: 0.7199 - precision: 0.7360 - recall: 0.6950 - val_loss: 0.5388 - val_accuracy: 0.7494 - val_precision: 0.7573 - val_recall: 0.7340\n",
      "Epoch 38/300\n",
      " - 0s - loss: 0.5475 - accuracy: 0.7417 - precision: 0.7600 - recall: 0.7168 - val_loss: 0.5335 - val_accuracy: 0.7494 - val_precision: 0.7593 - val_recall: 0.7340\n",
      "Epoch 39/300\n",
      " - 0s - loss: 0.5502 - accuracy: 0.7385 - precision: 0.7500 - recall: 0.7193 - val_loss: 0.5286 - val_accuracy: 0.7596 - val_precision: 0.7658 - val_recall: 0.7442\n",
      "Epoch 40/300\n",
      " - 0s - loss: 0.5413 - accuracy: 0.7538 - precision: 0.7605 - recall: 0.7327 - val_loss: 0.5232 - val_accuracy: 0.7621 - val_precision: 0.7725 - val_recall: 0.7468\n",
      "Epoch 41/300\n",
      " - 0s - loss: 0.5364 - accuracy: 0.7500 - precision: 0.7623 - recall: 0.7302 - val_loss: 0.5213 - val_accuracy: 0.7698 - val_precision: 0.7772 - val_recall: 0.7494\n",
      "Epoch 42/300\n",
      " - 0s - loss: 0.5255 - accuracy: 0.7602 - precision: 0.7683 - recall: 0.7398 - val_loss: 0.5156 - val_accuracy: 0.7724 - val_precision: 0.7857 - val_recall: 0.7596\n",
      "Epoch 43/300\n",
      " - 0s - loss: 0.5084 - accuracy: 0.7737 - precision: 0.7843 - recall: 0.7558 - val_loss: 0.5139 - val_accuracy: 0.7749 - val_precision: 0.7831 - val_recall: 0.7570\n",
      "Epoch 44/300\n",
      " - 0s - loss: 0.5042 - accuracy: 0.7769 - precision: 0.7902 - recall: 0.7609 - val_loss: 0.5115 - val_accuracy: 0.7775 - val_precision: 0.7859 - val_recall: 0.7698\n",
      "Epoch 45/300\n",
      " - 0s - loss: 0.4899 - accuracy: 0.7871 - precision: 0.7935 - recall: 0.7666 - val_loss: 0.5090 - val_accuracy: 0.7775 - val_precision: 0.7859 - val_recall: 0.7698\n",
      "Epoch 46/300\n",
      " - 0s - loss: 0.5082 - accuracy: 0.7813 - precision: 0.7892 - recall: 0.7660 - val_loss: 0.5047 - val_accuracy: 0.7801 - val_precision: 0.7880 - val_recall: 0.7698\n",
      "Epoch 47/300\n",
      " - 0s - loss: 0.4907 - accuracy: 0.7916 - precision: 0.7971 - recall: 0.7737 - val_loss: 0.5008 - val_accuracy: 0.7775 - val_precision: 0.7885 - val_recall: 0.7724\n",
      "Epoch 48/300\n",
      " - 0s - loss: 0.4938 - accuracy: 0.7711 - precision: 0.7797 - recall: 0.7628 - val_loss: 0.4954 - val_accuracy: 0.7980 - val_precision: 0.7995 - val_recall: 0.7852\n",
      "Epoch 49/300\n",
      " - 0s - loss: 0.4876 - accuracy: 0.7890 - precision: 0.7972 - recall: 0.7769 - val_loss: 0.4919 - val_accuracy: 0.7903 - val_precision: 0.7933 - val_recall: 0.7852\n",
      "Epoch 50/300\n",
      " - 0s - loss: 0.4621 - accuracy: 0.7877 - precision: 0.7976 - recall: 0.7788 - val_loss: 0.4932 - val_accuracy: 0.7903 - val_precision: 0.7933 - val_recall: 0.7852\n",
      "Epoch 51/300\n",
      " - 0s - loss: 0.4720 - accuracy: 0.7909 - precision: 0.7978 - recall: 0.7769 - val_loss: 0.4901 - val_accuracy: 0.7877 - val_precision: 0.7990 - val_recall: 0.7826\n",
      "Epoch 52/300\n",
      " - 0s - loss: 0.4461 - accuracy: 0.8050 - precision: 0.8168 - recall: 0.7954 - val_loss: 0.4808 - val_accuracy: 0.7928 - val_precision: 0.7953 - val_recall: 0.7852\n",
      "Epoch 53/300\n",
      " - 0s - loss: 0.4616 - accuracy: 0.7935 - precision: 0.7996 - recall: 0.7884 - val_loss: 0.4743 - val_accuracy: 0.7980 - val_precision: 0.8031 - val_recall: 0.7928\n",
      "Epoch 54/300\n",
      " - 0s - loss: 0.4541 - accuracy: 0.8056 - precision: 0.8113 - recall: 0.7973 - val_loss: 0.4737 - val_accuracy: 0.8107 - val_precision: 0.8123 - val_recall: 0.8082\n",
      "Epoch 55/300\n",
      " - 0s - loss: 0.4483 - accuracy: 0.8197 - precision: 0.8248 - recall: 0.8095 - val_loss: 0.4739 - val_accuracy: 0.8133 - val_precision: 0.8154 - val_recall: 0.8133\n",
      "Epoch 56/300\n",
      " - 0s - loss: 0.4413 - accuracy: 0.8152 - precision: 0.8196 - recall: 0.8075 - val_loss: 0.4681 - val_accuracy: 0.8107 - val_precision: 0.8170 - val_recall: 0.8107\n",
      "Epoch 57/300\n",
      " - 0s - loss: 0.4338 - accuracy: 0.8088 - precision: 0.8140 - recall: 0.8005 - val_loss: 0.4639 - val_accuracy: 0.8107 - val_precision: 0.8098 - val_recall: 0.8056\n",
      "Epoch 58/300\n",
      " - 0s - loss: 0.4264 - accuracy: 0.8254 - precision: 0.8308 - recall: 0.8165 - val_loss: 0.4625 - val_accuracy: 0.8159 - val_precision: 0.8179 - val_recall: 0.8159\n",
      "Epoch 59/300\n",
      " - 0s - loss: 0.4263 - accuracy: 0.8229 - precision: 0.8271 - recall: 0.8165 - val_loss: 0.4584 - val_accuracy: 0.8159 - val_precision: 0.8154 - val_recall: 0.8133\n",
      "Epoch 60/300\n",
      " - 0s - loss: 0.4093 - accuracy: 0.8274 - precision: 0.8325 - recall: 0.8165 - val_loss: 0.4534 - val_accuracy: 0.8184 - val_precision: 0.8184 - val_recall: 0.8184\n",
      "Epoch 61/300\n",
      " - 0s - loss: 0.4020 - accuracy: 0.8331 - precision: 0.8381 - recall: 0.8274 - val_loss: 0.4595 - val_accuracy: 0.8210 - val_precision: 0.8205 - val_recall: 0.8184\n",
      "Epoch 62/300\n",
      " - 0s - loss: 0.4015 - accuracy: 0.8318 - precision: 0.8329 - recall: 0.8254 - val_loss: 0.4618 - val_accuracy: 0.8184 - val_precision: 0.8184 - val_recall: 0.8184\n",
      "Epoch 63/300\n",
      " - 0s - loss: 0.3819 - accuracy: 0.8446 - precision: 0.8508 - recall: 0.8389 - val_loss: 0.4484 - val_accuracy: 0.8286 - val_precision: 0.8286 - val_recall: 0.8286\n",
      "Epoch 64/300\n",
      " - 0s - loss: 0.4163 - accuracy: 0.8242 - precision: 0.8285 - recall: 0.8216 - val_loss: 0.4429 - val_accuracy: 0.8286 - val_precision: 0.8286 - val_recall: 0.8286\n",
      "Epoch 65/300\n",
      " - 0s - loss: 0.3960 - accuracy: 0.8318 - precision: 0.8339 - recall: 0.8280 - val_loss: 0.4489 - val_accuracy: 0.8210 - val_precision: 0.8205 - val_recall: 0.8184\n",
      "Epoch 66/300\n",
      " - 0s - loss: 0.3960 - accuracy: 0.8382 - precision: 0.8424 - recall: 0.8338 - val_loss: 0.4464 - val_accuracy: 0.8184 - val_precision: 0.8226 - val_recall: 0.8184\n",
      "Epoch 67/300\n",
      " - 0s - loss: 0.3795 - accuracy: 0.8421 - precision: 0.8440 - recall: 0.8370 - val_loss: 0.4366 - val_accuracy: 0.8286 - val_precision: 0.8303 - val_recall: 0.8261\n",
      "Epoch 68/300\n",
      " - 0s - loss: 0.3842 - accuracy: 0.8370 - precision: 0.8402 - recall: 0.8338 - val_loss: 0.4374 - val_accuracy: 0.8235 - val_precision: 0.8217 - val_recall: 0.8133\n",
      "Epoch 69/300\n",
      " - 0s - loss: 0.3800 - accuracy: 0.8465 - precision: 0.8496 - recall: 0.8414 - val_loss: 0.4464 - val_accuracy: 0.8159 - val_precision: 0.8222 - val_recall: 0.8159\n",
      "Epoch 70/300\n",
      " - 0s - loss: 0.3701 - accuracy: 0.8517 - precision: 0.8557 - recall: 0.8491 - val_loss: 0.4372 - val_accuracy: 0.8312 - val_precision: 0.8355 - val_recall: 0.8312\n",
      "Epoch 71/300\n",
      " - 0s - loss: 0.3632 - accuracy: 0.8555 - precision: 0.8584 - recall: 0.8529 - val_loss: 0.4314 - val_accuracy: 0.8389 - val_precision: 0.8410 - val_recall: 0.8389\n",
      "Epoch 72/300\n",
      " - 0s - loss: 0.3747 - accuracy: 0.8491 - precision: 0.8516 - recall: 0.8440 - val_loss: 0.4322 - val_accuracy: 0.8286 - val_precision: 0.8329 - val_recall: 0.8286\n",
      "Epoch 73/300\n",
      " - 0s - loss: 0.3666 - accuracy: 0.8574 - precision: 0.8602 - recall: 0.8536 - val_loss: 0.4324 - val_accuracy: 0.8312 - val_precision: 0.8308 - val_recall: 0.8286\n",
      "Epoch 74/300\n",
      " - 0s - loss: 0.3484 - accuracy: 0.8664 - precision: 0.8678 - recall: 0.8606 - val_loss: 0.4297 - val_accuracy: 0.8389 - val_precision: 0.8432 - val_recall: 0.8389\n",
      "Epoch 75/300\n",
      " - 0s - loss: 0.3484 - accuracy: 0.8555 - precision: 0.8572 - recall: 0.8523 - val_loss: 0.4334 - val_accuracy: 0.8286 - val_precision: 0.8308 - val_recall: 0.8286\n",
      "Epoch 76/300\n",
      " - 0s - loss: 0.3449 - accuracy: 0.8574 - precision: 0.8607 - recall: 0.8536 - val_loss: 0.4302 - val_accuracy: 0.8414 - val_precision: 0.8414 - val_recall: 0.8414\n",
      "Epoch 77/300\n",
      " - 0s - loss: 0.3458 - accuracy: 0.8625 - precision: 0.8640 - recall: 0.8613 - val_loss: 0.4195 - val_accuracy: 0.8414 - val_precision: 0.8432 - val_recall: 0.8389\n",
      "Epoch 78/300\n",
      " - 0s - loss: 0.3584 - accuracy: 0.8536 - precision: 0.8537 - recall: 0.8504 - val_loss: 0.4275 - val_accuracy: 0.8363 - val_precision: 0.8363 - val_recall: 0.8363\n",
      "Epoch 79/300\n",
      " - 0s - loss: 0.3404 - accuracy: 0.8593 - precision: 0.8613 - recall: 0.8574 - val_loss: 0.4346 - val_accuracy: 0.8363 - val_precision: 0.8402 - val_recall: 0.8338\n",
      "Epoch 80/300\n",
      " - 0s - loss: 0.3412 - accuracy: 0.8683 - precision: 0.8691 - recall: 0.8657 - val_loss: 0.4286 - val_accuracy: 0.8363 - val_precision: 0.8385 - val_recall: 0.8363\n",
      "Epoch 81/300\n",
      " - 0s - loss: 0.3219 - accuracy: 0.8613 - precision: 0.8633 - recall: 0.8600 - val_loss: 0.4172 - val_accuracy: 0.8389 - val_precision: 0.8432 - val_recall: 0.8389\n",
      "Epoch 82/300\n",
      " - 0s - loss: 0.3394 - accuracy: 0.8613 - precision: 0.8634 - recall: 0.8568 - val_loss: 0.4198 - val_accuracy: 0.8414 - val_precision: 0.8432 - val_recall: 0.8389\n",
      "Epoch 83/300\n",
      " - 0s - loss: 0.3271 - accuracy: 0.8772 - precision: 0.8791 - recall: 0.8740 - val_loss: 0.4260 - val_accuracy: 0.8389 - val_precision: 0.8406 - val_recall: 0.8363\n",
      "Epoch 84/300\n",
      " - 0s - loss: 0.3190 - accuracy: 0.8721 - precision: 0.8750 - recall: 0.8683 - val_loss: 0.4163 - val_accuracy: 0.8414 - val_precision: 0.8436 - val_recall: 0.8414\n",
      "Epoch 85/300\n",
      " - 0s - loss: 0.3340 - accuracy: 0.8683 - precision: 0.8699 - recall: 0.8676 - val_loss: 0.4132 - val_accuracy: 0.8542 - val_precision: 0.8538 - val_recall: 0.8517\n",
      "Epoch 86/300\n",
      " - 0s - loss: 0.3163 - accuracy: 0.8779 - precision: 0.8810 - recall: 0.8753 - val_loss: 0.4182 - val_accuracy: 0.8440 - val_precision: 0.8436 - val_recall: 0.8414\n",
      "Epoch 87/300\n",
      " - 0s - loss: 0.3239 - accuracy: 0.8683 - precision: 0.8686 - recall: 0.8664 - val_loss: 0.4222 - val_accuracy: 0.8517 - val_precision: 0.8560 - val_recall: 0.8517\n",
      "Epoch 88/300\n",
      " - 0s - loss: 0.3170 - accuracy: 0.8804 - precision: 0.8819 - recall: 0.8785 - val_loss: 0.4168 - val_accuracy: 0.8491 - val_precision: 0.8491 - val_recall: 0.8491\n",
      "Epoch 89/300\n",
      " - 0s - loss: 0.3184 - accuracy: 0.8638 - precision: 0.8691 - recall: 0.8619 - val_loss: 0.4187 - val_accuracy: 0.8491 - val_precision: 0.8491 - val_recall: 0.8491\n",
      "Epoch 90/300\n",
      " - 0s - loss: 0.3081 - accuracy: 0.8772 - precision: 0.8779 - recall: 0.8734 - val_loss: 0.4139 - val_accuracy: 0.8542 - val_precision: 0.8553 - val_recall: 0.8465\n",
      "Epoch 91/300\n",
      " - 0s - loss: 0.3135 - accuracy: 0.8747 - precision: 0.8767 - recall: 0.8728 - val_loss: 0.4142 - val_accuracy: 0.8517 - val_precision: 0.8560 - val_recall: 0.8517\n",
      "Epoch 92/300\n",
      " - 0s - loss: 0.3176 - accuracy: 0.8747 - precision: 0.8769 - recall: 0.8747 - val_loss: 0.4086 - val_accuracy: 0.8517 - val_precision: 0.8538 - val_recall: 0.8517\n",
      "Epoch 93/300\n",
      " - 0s - loss: 0.3019 - accuracy: 0.8785 - precision: 0.8812 - recall: 0.8772 - val_loss: 0.4128 - val_accuracy: 0.8593 - val_precision: 0.8590 - val_recall: 0.8568\n",
      "Epoch 94/300\n",
      " - 0s - loss: 0.3004 - accuracy: 0.8728 - precision: 0.8742 - recall: 0.8708 - val_loss: 0.4103 - val_accuracy: 0.8517 - val_precision: 0.8538 - val_recall: 0.8517\n",
      "Epoch 95/300\n",
      " - 0s - loss: 0.2994 - accuracy: 0.8817 - precision: 0.8850 - recall: 0.8804 - val_loss: 0.4060 - val_accuracy: 0.8517 - val_precision: 0.8535 - val_recall: 0.8491\n",
      "Epoch 96/300\n",
      " - 0s - loss: 0.2929 - accuracy: 0.8951 - precision: 0.8974 - recall: 0.8945 - val_loss: 0.4058 - val_accuracy: 0.8491 - val_precision: 0.8483 - val_recall: 0.8440\n",
      "Epoch 97/300\n",
      " - 0s - loss: 0.2883 - accuracy: 0.8887 - precision: 0.8892 - recall: 0.8875 - val_loss: 0.4118 - val_accuracy: 0.8440 - val_precision: 0.8462 - val_recall: 0.8440\n",
      "Epoch 98/300\n",
      " - 0s - loss: 0.2894 - accuracy: 0.8862 - precision: 0.8878 - recall: 0.8855 - val_loss: 0.4119 - val_accuracy: 0.8568 - val_precision: 0.8568 - val_recall: 0.8568\n",
      "Epoch 99/300\n",
      " - 0s - loss: 0.3036 - accuracy: 0.8926 - precision: 0.8930 - recall: 0.8913 - val_loss: 0.4126 - val_accuracy: 0.8542 - val_precision: 0.8557 - val_recall: 0.8491\n",
      "Epoch 100/300\n",
      " - 0s - loss: 0.2770 - accuracy: 0.8919 - precision: 0.8936 - recall: 0.8913 - val_loss: 0.4118 - val_accuracy: 0.8517 - val_precision: 0.8517 - val_recall: 0.8517\n",
      "Epoch 101/300\n",
      " - 0s - loss: 0.2821 - accuracy: 0.9041 - precision: 0.9047 - recall: 0.9041 - val_loss: 0.4003 - val_accuracy: 0.8593 - val_precision: 0.8593 - val_recall: 0.8593\n",
      "Epoch 102/300\n",
      " - 0s - loss: 0.2735 - accuracy: 0.8977 - precision: 0.8981 - recall: 0.8964 - val_loss: 0.4007 - val_accuracy: 0.8542 - val_precision: 0.8542 - val_recall: 0.8542\n",
      "Epoch 103/300\n",
      " - 0s - loss: 0.2861 - accuracy: 0.8945 - precision: 0.8960 - recall: 0.8919 - val_loss: 0.4120 - val_accuracy: 0.8619 - val_precision: 0.8619 - val_recall: 0.8619\n",
      "Epoch 104/300\n",
      " - 0s - loss: 0.2897 - accuracy: 0.8907 - precision: 0.8915 - recall: 0.8881 - val_loss: 0.4154 - val_accuracy: 0.8619 - val_precision: 0.8619 - val_recall: 0.8619\n",
      "Epoch 105/300\n",
      " - 0s - loss: 0.2832 - accuracy: 0.8875 - precision: 0.8885 - recall: 0.8862 - val_loss: 0.4067 - val_accuracy: 0.8542 - val_precision: 0.8542 - val_recall: 0.8542\n",
      "Epoch 106/300\n",
      " - 0s - loss: 0.2744 - accuracy: 0.8907 - precision: 0.8922 - recall: 0.8894 - val_loss: 0.4055 - val_accuracy: 0.8465 - val_precision: 0.8465 - val_recall: 0.8465\n",
      "Epoch 107/300\n",
      " - 0s - loss: 0.2837 - accuracy: 0.8900 - precision: 0.8917 - recall: 0.8894 - val_loss: 0.4083 - val_accuracy: 0.8568 - val_precision: 0.8568 - val_recall: 0.8568\n",
      "Epoch 108/300\n",
      " - 0s - loss: 0.2700 - accuracy: 0.8977 - precision: 0.8976 - recall: 0.8964 - val_loss: 0.4087 - val_accuracy: 0.8568 - val_precision: 0.8590 - val_recall: 0.8568\n",
      "Epoch 109/300\n",
      " - 0s - loss: 0.2693 - accuracy: 0.8971 - precision: 0.8973 - recall: 0.8939 - val_loss: 0.4057 - val_accuracy: 0.8619 - val_precision: 0.8619 - val_recall: 0.8619\n",
      "Epoch 110/300\n",
      " - 0s - loss: 0.2612 - accuracy: 0.9022 - precision: 0.9027 - recall: 0.9015 - val_loss: 0.3940 - val_accuracy: 0.8593 - val_precision: 0.8593 - val_recall: 0.8593\n",
      "Epoch 111/300\n",
      " - 0s - loss: 0.2611 - accuracy: 0.8990 - precision: 0.9012 - recall: 0.8977 - val_loss: 0.3941 - val_accuracy: 0.8517 - val_precision: 0.8517 - val_recall: 0.8517\n",
      "Epoch 112/300\n",
      " - 0s - loss: 0.2773 - accuracy: 0.8932 - precision: 0.8954 - recall: 0.8919 - val_loss: 0.3993 - val_accuracy: 0.8568 - val_precision: 0.8568 - val_recall: 0.8568\n",
      "Epoch 113/300\n",
      " - 0s - loss: 0.2556 - accuracy: 0.9009 - precision: 0.9019 - recall: 0.8990 - val_loss: 0.4053 - val_accuracy: 0.8568 - val_precision: 0.8568 - val_recall: 0.8568\n",
      "Epoch 114/300\n",
      " - 0s - loss: 0.2632 - accuracy: 0.9086 - precision: 0.9097 - recall: 0.9079 - val_loss: 0.4022 - val_accuracy: 0.8491 - val_precision: 0.8487 - val_recall: 0.8465\n",
      "Epoch 115/300\n",
      " - 0s - loss: 0.2657 - accuracy: 0.8990 - precision: 0.8994 - recall: 0.8977 - val_loss: 0.4049 - val_accuracy: 0.8491 - val_precision: 0.8491 - val_recall: 0.8491\n",
      "Epoch 116/300\n",
      " - 0s - loss: 0.2578 - accuracy: 0.9054 - precision: 0.9052 - recall: 0.9035 - val_loss: 0.4083 - val_accuracy: 0.8568 - val_precision: 0.8568 - val_recall: 0.8568\n",
      "Epoch 117/300\n",
      " - 0s - loss: 0.2568 - accuracy: 0.9066 - precision: 0.9072 - recall: 0.9060 - val_loss: 0.4029 - val_accuracy: 0.8568 - val_precision: 0.8568 - val_recall: 0.8568\n",
      "Epoch 118/300\n",
      " - 0s - loss: 0.2568 - accuracy: 0.9047 - precision: 0.9047 - recall: 0.9041 - val_loss: 0.4061 - val_accuracy: 0.8593 - val_precision: 0.8593 - val_recall: 0.8593\n",
      "Epoch 119/300\n",
      " - 0s - loss: 0.2556 - accuracy: 0.9060 - precision: 0.9060 - recall: 0.9054 - val_loss: 0.4059 - val_accuracy: 0.8593 - val_precision: 0.8593 - val_recall: 0.8593\n",
      "Epoch 120/300\n",
      " - 0s - loss: 0.2526 - accuracy: 0.9060 - precision: 0.9065 - recall: 0.9054 - val_loss: 0.4078 - val_accuracy: 0.8619 - val_precision: 0.8619 - val_recall: 0.8619\n",
      "Epoch 121/300\n",
      " - 0s - loss: 0.2574 - accuracy: 0.8964 - precision: 0.8969 - recall: 0.8958 - val_loss: 0.4106 - val_accuracy: 0.8568 - val_precision: 0.8568 - val_recall: 0.8568\n",
      "Epoch 122/300\n",
      " - 0s - loss: 0.2524 - accuracy: 0.9105 - precision: 0.9111 - recall: 0.9105 - val_loss: 0.4003 - val_accuracy: 0.8593 - val_precision: 0.8593 - val_recall: 0.8593\n",
      "Epoch 123/300\n",
      " - 0s - loss: 0.2474 - accuracy: 0.8964 - precision: 0.8993 - recall: 0.8964 - val_loss: 0.4009 - val_accuracy: 0.8593 - val_precision: 0.8593 - val_recall: 0.8593\n",
      "Epoch 124/300\n",
      " - 0s - loss: 0.2457 - accuracy: 0.9009 - precision: 0.9015 - recall: 0.9009 - val_loss: 0.4185 - val_accuracy: 0.8593 - val_precision: 0.8593 - val_recall: 0.8593\n",
      "Epoch 125/300\n",
      " - 0s - loss: 0.2479 - accuracy: 0.9009 - precision: 0.9014 - recall: 0.9003 - val_loss: 0.4171 - val_accuracy: 0.8568 - val_precision: 0.8590 - val_recall: 0.8568\n",
      "Epoch 126/300\n",
      " - 0s - loss: 0.2437 - accuracy: 0.9098 - precision: 0.9098 - recall: 0.9092 - val_loss: 0.4024 - val_accuracy: 0.8593 - val_precision: 0.8615 - val_recall: 0.8593\n",
      "Epoch 127/300\n",
      " - 0s - loss: 0.2298 - accuracy: 0.9169 - precision: 0.9175 - recall: 0.9169 - val_loss: 0.4003 - val_accuracy: 0.8593 - val_precision: 0.8593 - val_recall: 0.8593\n",
      "Epoch 128/300\n",
      " - 0s - loss: 0.2503 - accuracy: 0.9073 - precision: 0.9078 - recall: 0.9066 - val_loss: 0.4091 - val_accuracy: 0.8593 - val_precision: 0.8593 - val_recall: 0.8593\n",
      "Epoch 129/300\n",
      " - 0s - loss: 0.2421 - accuracy: 0.9009 - precision: 0.9015 - recall: 0.9009 - val_loss: 0.4196 - val_accuracy: 0.8568 - val_precision: 0.8568 - val_recall: 0.8568\n",
      "Epoch 130/300\n",
      " - 0s - loss: 0.2368 - accuracy: 0.9092 - precision: 0.9097 - recall: 0.9086 - val_loss: 0.4219 - val_accuracy: 0.8593 - val_precision: 0.8593 - val_recall: 0.8593\n",
      "Epoch 131/300\n",
      " - 0s - loss: 0.2229 - accuracy: 0.9246 - precision: 0.9256 - recall: 0.9233 - val_loss: 0.4164 - val_accuracy: 0.8542 - val_precision: 0.8542 - val_recall: 0.8542\n",
      "Epoch 132/300\n",
      " - 0s - loss: 0.2322 - accuracy: 0.9162 - precision: 0.9174 - recall: 0.9162 - val_loss: 0.4148 - val_accuracy: 0.8593 - val_precision: 0.8593 - val_recall: 0.8593\n",
      "Epoch 133/300\n",
      " - 0s - loss: 0.2382 - accuracy: 0.9079 - precision: 0.9078 - recall: 0.9060 - val_loss: 0.4113 - val_accuracy: 0.8593 - val_precision: 0.8593 - val_recall: 0.8593\n",
      "Epoch 134/300\n",
      " - 0s - loss: 0.2323 - accuracy: 0.9233 - precision: 0.9232 - recall: 0.9220 - val_loss: 0.4194 - val_accuracy: 0.8593 - val_precision: 0.8593 - val_recall: 0.8593\n",
      "Epoch 135/300\n",
      " - 0s - loss: 0.2267 - accuracy: 0.9175 - precision: 0.9181 - recall: 0.9175 - val_loss: 0.4137 - val_accuracy: 0.8645 - val_precision: 0.8641 - val_recall: 0.8619\n",
      "Epoch 136/300\n",
      " - 0s - loss: 0.2349 - accuracy: 0.9124 - precision: 0.9129 - recall: 0.9111 - val_loss: 0.4076 - val_accuracy: 0.8645 - val_precision: 0.8641 - val_recall: 0.8619\n",
      "Epoch 137/300\n",
      " - 0s - loss: 0.2224 - accuracy: 0.9265 - precision: 0.9264 - recall: 0.9258 - val_loss: 0.4141 - val_accuracy: 0.8619 - val_precision: 0.8619 - val_recall: 0.8619\n",
      "Epoch 138/300\n",
      " - 0s - loss: 0.2144 - accuracy: 0.9194 - precision: 0.9200 - recall: 0.9188 - val_loss: 0.4179 - val_accuracy: 0.8568 - val_precision: 0.8568 - val_recall: 0.8568\n",
      "Epoch 139/300\n",
      " - 0s - loss: 0.2192 - accuracy: 0.9233 - precision: 0.9233 - recall: 0.9233 - val_loss: 0.4143 - val_accuracy: 0.8542 - val_precision: 0.8542 - val_recall: 0.8542\n",
      "Epoch 140/300\n",
      " - 0s - loss: 0.2306 - accuracy: 0.9162 - precision: 0.9168 - recall: 0.9162 - val_loss: 0.4126 - val_accuracy: 0.8568 - val_precision: 0.8568 - val_recall: 0.8568\n",
      "Epoch 141/300\n",
      " - 0s - loss: 0.2192 - accuracy: 0.9220 - precision: 0.9236 - recall: 0.9201 - val_loss: 0.4099 - val_accuracy: 0.8619 - val_precision: 0.8619 - val_recall: 0.8619\n",
      "Epoch 142/300\n",
      " - 0s - loss: 0.2190 - accuracy: 0.9156 - precision: 0.9156 - recall: 0.9156 - val_loss: 0.4104 - val_accuracy: 0.8568 - val_precision: 0.8568 - val_recall: 0.8568\n",
      "Epoch 143/300\n",
      " - 0s - loss: 0.2159 - accuracy: 0.9290 - precision: 0.9290 - recall: 0.9284 - val_loss: 0.4121 - val_accuracy: 0.8593 - val_precision: 0.8593 - val_recall: 0.8593\n",
      "Epoch 144/300\n",
      " - 0s - loss: 0.2053 - accuracy: 0.9303 - precision: 0.9309 - recall: 0.9303 - val_loss: 0.4173 - val_accuracy: 0.8517 - val_precision: 0.8538 - val_recall: 0.8517\n",
      "Epoch 145/300\n",
      " - 0s - loss: 0.2109 - accuracy: 0.9226 - precision: 0.9238 - recall: 0.9226 - val_loss: 0.4118 - val_accuracy: 0.8568 - val_precision: 0.8568 - val_recall: 0.8568\n",
      "Epoch 146/300\n",
      " - 0s - loss: 0.2063 - accuracy: 0.9258 - precision: 0.9258 - recall: 0.9252 - val_loss: 0.4119 - val_accuracy: 0.8593 - val_precision: 0.8593 - val_recall: 0.8593\n",
      "Epoch 147/300\n",
      " - 0s - loss: 0.2082 - accuracy: 0.9226 - precision: 0.9226 - recall: 0.9220 - val_loss: 0.4186 - val_accuracy: 0.8542 - val_precision: 0.8542 - val_recall: 0.8542\n",
      "Epoch 148/300\n",
      " - 0s - loss: 0.2141 - accuracy: 0.9220 - precision: 0.9219 - recall: 0.9214 - val_loss: 0.4254 - val_accuracy: 0.8593 - val_precision: 0.8590 - val_recall: 0.8568\n",
      "Epoch 149/300\n",
      " - 0s - loss: 0.2032 - accuracy: 0.9322 - precision: 0.9328 - recall: 0.9316 - val_loss: 0.4231 - val_accuracy: 0.8568 - val_precision: 0.8568 - val_recall: 0.8568\n",
      "Epoch 150/300\n",
      " - 0s - loss: 0.1939 - accuracy: 0.9277 - precision: 0.9283 - recall: 0.9271 - val_loss: 0.4202 - val_accuracy: 0.8593 - val_precision: 0.8615 - val_recall: 0.8593\n",
      "Epoch 151/300\n",
      " - 0s - loss: 0.2013 - accuracy: 0.9239 - precision: 0.9250 - recall: 0.9233 - val_loss: 0.4294 - val_accuracy: 0.8517 - val_precision: 0.8517 - val_recall: 0.8517\n",
      "Epoch 152/300\n",
      " - 0s - loss: 0.2074 - accuracy: 0.9239 - precision: 0.9245 - recall: 0.9239 - val_loss: 0.4235 - val_accuracy: 0.8619 - val_precision: 0.8619 - val_recall: 0.8619\n",
      "Epoch 153/300\n",
      " - 0s - loss: 0.2006 - accuracy: 0.9194 - precision: 0.9194 - recall: 0.9194 - val_loss: 0.4221 - val_accuracy: 0.8645 - val_precision: 0.8645 - val_recall: 0.8645\n",
      "Epoch 154/300\n",
      " - 0s - loss: 0.1966 - accuracy: 0.9246 - precision: 0.9257 - recall: 0.9239 - val_loss: 0.4262 - val_accuracy: 0.8542 - val_precision: 0.8542 - val_recall: 0.8542\n",
      "Epoch 155/300\n",
      " - 0s - loss: 0.2008 - accuracy: 0.9322 - precision: 0.9328 - recall: 0.9322 - val_loss: 0.4247 - val_accuracy: 0.8568 - val_precision: 0.8568 - val_recall: 0.8568\n",
      "Epoch 156/300\n",
      " - 0s - loss: 0.2036 - accuracy: 0.9265 - precision: 0.9271 - recall: 0.9265 - val_loss: 0.4281 - val_accuracy: 0.8593 - val_precision: 0.8590 - val_recall: 0.8568\n",
      "Epoch 157/300\n",
      " - 0s - loss: 0.1870 - accuracy: 0.9361 - precision: 0.9366 - recall: 0.9348 - val_loss: 0.4380 - val_accuracy: 0.8491 - val_precision: 0.8491 - val_recall: 0.8491\n",
      "Epoch 158/300\n",
      " - 0s - loss: 0.1932 - accuracy: 0.9271 - precision: 0.9283 - recall: 0.9265 - val_loss: 0.4270 - val_accuracy: 0.8593 - val_precision: 0.8593 - val_recall: 0.8593\n",
      "Epoch 159/300\n",
      " - 0s - loss: 0.1887 - accuracy: 0.9386 - precision: 0.9386 - recall: 0.9380 - val_loss: 0.4258 - val_accuracy: 0.8542 - val_precision: 0.8542 - val_recall: 0.8542\n",
      "Epoch 160/300\n",
      " - 0s - loss: 0.1918 - accuracy: 0.9329 - precision: 0.9334 - recall: 0.9322 - val_loss: 0.4362 - val_accuracy: 0.8568 - val_precision: 0.8568 - val_recall: 0.8568\n",
      "Epoch 161/300\n",
      " - 0s - loss: 0.1933 - accuracy: 0.9297 - precision: 0.9309 - recall: 0.9297 - val_loss: 0.4395 - val_accuracy: 0.8645 - val_precision: 0.8645 - val_recall: 0.8645\n",
      "Epoch 162/300\n",
      " - 0s - loss: 0.1927 - accuracy: 0.9258 - precision: 0.9258 - recall: 0.9258 - val_loss: 0.4331 - val_accuracy: 0.8670 - val_precision: 0.8670 - val_recall: 0.8670\n",
      "Epoch 163/300\n",
      " - 0s - loss: 0.1780 - accuracy: 0.9393 - precision: 0.9392 - recall: 0.9386 - val_loss: 0.4355 - val_accuracy: 0.8517 - val_precision: 0.8517 - val_recall: 0.8517\n",
      "Epoch 164/300\n",
      " - 0s - loss: 0.1865 - accuracy: 0.9284 - precision: 0.9283 - recall: 0.9277 - val_loss: 0.4341 - val_accuracy: 0.8619 - val_precision: 0.8619 - val_recall: 0.8619\n",
      "Epoch 165/300\n",
      " - 0s - loss: 0.1869 - accuracy: 0.9341 - precision: 0.9347 - recall: 0.9341 - val_loss: 0.4356 - val_accuracy: 0.8645 - val_precision: 0.8645 - val_recall: 0.8645\n",
      "Epoch 166/300\n",
      " - 0s - loss: 0.1842 - accuracy: 0.9239 - precision: 0.9245 - recall: 0.9239 - val_loss: 0.4363 - val_accuracy: 0.8568 - val_precision: 0.8568 - val_recall: 0.8568\n",
      "Epoch 167/300\n",
      " - 0s - loss: 0.1927 - accuracy: 0.9335 - precision: 0.9335 - recall: 0.9329 - val_loss: 0.4388 - val_accuracy: 0.8542 - val_precision: 0.8542 - val_recall: 0.8542\n",
      "Epoch 168/300\n",
      " - 0s - loss: 0.1802 - accuracy: 0.9393 - precision: 0.9393 - recall: 0.9393 - val_loss: 0.4359 - val_accuracy: 0.8670 - val_precision: 0.8670 - val_recall: 0.8670\n",
      "Epoch 169/300\n",
      " - 0s - loss: 0.1786 - accuracy: 0.9303 - precision: 0.9303 - recall: 0.9303 - val_loss: 0.4326 - val_accuracy: 0.8619 - val_precision: 0.8641 - val_recall: 0.8619\n",
      "Epoch 170/300\n",
      " - 0s - loss: 0.1841 - accuracy: 0.9335 - precision: 0.9346 - recall: 0.9322 - val_loss: 0.4364 - val_accuracy: 0.8568 - val_precision: 0.8564 - val_recall: 0.8542\n",
      "Epoch 171/300\n",
      " - 0s - loss: 0.1752 - accuracy: 0.9393 - precision: 0.9392 - recall: 0.9386 - val_loss: 0.4282 - val_accuracy: 0.8568 - val_precision: 0.8568 - val_recall: 0.8568\n",
      "Epoch 172/300\n",
      " - 0s - loss: 0.1744 - accuracy: 0.9380 - precision: 0.9386 - recall: 0.9380 - val_loss: 0.4300 - val_accuracy: 0.8670 - val_precision: 0.8670 - val_recall: 0.8670\n",
      "Epoch 173/300\n",
      " - 0s - loss: 0.1799 - accuracy: 0.9329 - precision: 0.9334 - recall: 0.9322 - val_loss: 0.4377 - val_accuracy: 0.8568 - val_precision: 0.8568 - val_recall: 0.8568\n",
      "Epoch 174/300\n",
      " - 0s - loss: 0.1703 - accuracy: 0.9405 - precision: 0.9405 - recall: 0.9405 - val_loss: 0.4331 - val_accuracy: 0.8568 - val_precision: 0.8568 - val_recall: 0.8568\n",
      "Epoch 175/300\n",
      " - 0s - loss: 0.1759 - accuracy: 0.9373 - precision: 0.9373 - recall: 0.9367 - val_loss: 0.4400 - val_accuracy: 0.8645 - val_precision: 0.8645 - val_recall: 0.8645\n",
      "Epoch 176/300\n",
      " - 0s - loss: 0.1792 - accuracy: 0.9316 - precision: 0.9316 - recall: 0.9316 - val_loss: 0.4559 - val_accuracy: 0.8542 - val_precision: 0.8542 - val_recall: 0.8542\n",
      "Epoch 177/300\n",
      " - 0s - loss: 0.1738 - accuracy: 0.9348 - precision: 0.9348 - recall: 0.9348 - val_loss: 0.4556 - val_accuracy: 0.8542 - val_precision: 0.8542 - val_recall: 0.8542\n",
      "Epoch 178/300\n",
      " - 0s - loss: 0.1724 - accuracy: 0.9431 - precision: 0.9431 - recall: 0.9425 - val_loss: 0.4465 - val_accuracy: 0.8568 - val_precision: 0.8568 - val_recall: 0.8568\n",
      "Epoch 179/300\n",
      " - 0s - loss: 0.1713 - accuracy: 0.9361 - precision: 0.9373 - recall: 0.9361 - val_loss: 0.4465 - val_accuracy: 0.8593 - val_precision: 0.8593 - val_recall: 0.8593\n",
      "Epoch 180/300\n",
      " - 0s - loss: 0.1635 - accuracy: 0.9431 - precision: 0.9431 - recall: 0.9425 - val_loss: 0.4473 - val_accuracy: 0.8619 - val_precision: 0.8619 - val_recall: 0.8619\n",
      "Epoch 181/300\n",
      " - 0s - loss: 0.1626 - accuracy: 0.9399 - precision: 0.9399 - recall: 0.9399 - val_loss: 0.4470 - val_accuracy: 0.8645 - val_precision: 0.8645 - val_recall: 0.8645\n",
      "Epoch 182/300\n",
      " - 0s - loss: 0.1657 - accuracy: 0.9450 - precision: 0.9449 - recall: 0.9437 - val_loss: 0.4452 - val_accuracy: 0.8593 - val_precision: 0.8593 - val_recall: 0.8593\n",
      "Epoch 183/300\n",
      " - 0s - loss: 0.1620 - accuracy: 0.9412 - precision: 0.9417 - recall: 0.9405 - val_loss: 0.4487 - val_accuracy: 0.8542 - val_precision: 0.8542 - val_recall: 0.8542\n",
      "Epoch 184/300\n",
      " - 0s - loss: 0.1589 - accuracy: 0.9399 - precision: 0.9399 - recall: 0.9393 - val_loss: 0.4494 - val_accuracy: 0.8670 - val_precision: 0.8670 - val_recall: 0.8670\n",
      "Epoch 185/300\n",
      " - 0s - loss: 0.1680 - accuracy: 0.9348 - precision: 0.9347 - recall: 0.9341 - val_loss: 0.4583 - val_accuracy: 0.8619 - val_precision: 0.8619 - val_recall: 0.8619\n",
      "Epoch 186/300\n",
      " - 0s - loss: 0.1563 - accuracy: 0.9450 - precision: 0.9450 - recall: 0.9450 - val_loss: 0.4676 - val_accuracy: 0.8542 - val_precision: 0.8542 - val_recall: 0.8542\n",
      "Epoch 187/300\n",
      " - 0s - loss: 0.1606 - accuracy: 0.9418 - precision: 0.9424 - recall: 0.9418 - val_loss: 0.4585 - val_accuracy: 0.8568 - val_precision: 0.8590 - val_recall: 0.8568\n",
      "Epoch 188/300\n",
      " - 0s - loss: 0.1532 - accuracy: 0.9495 - precision: 0.9495 - recall: 0.9488 - val_loss: 0.4562 - val_accuracy: 0.8542 - val_precision: 0.8542 - val_recall: 0.8542\n",
      "Epoch 189/300\n",
      " - 0s - loss: 0.1603 - accuracy: 0.9418 - precision: 0.9418 - recall: 0.9418 - val_loss: 0.4716 - val_accuracy: 0.8491 - val_precision: 0.8487 - val_recall: 0.8465\n",
      "Epoch 190/300\n",
      " - 0s - loss: 0.1629 - accuracy: 0.9457 - precision: 0.9463 - recall: 0.9457 - val_loss: 0.4614 - val_accuracy: 0.8568 - val_precision: 0.8568 - val_recall: 0.8568\n",
      "Epoch 191/300\n",
      " - 0s - loss: 0.1534 - accuracy: 0.9444 - precision: 0.9444 - recall: 0.9444 - val_loss: 0.4561 - val_accuracy: 0.8542 - val_precision: 0.8542 - val_recall: 0.8542\n",
      "Epoch 192/300\n",
      " - 0s - loss: 0.1566 - accuracy: 0.9418 - precision: 0.9418 - recall: 0.9412 - val_loss: 0.4526 - val_accuracy: 0.8568 - val_precision: 0.8568 - val_recall: 0.8568\n",
      "Epoch 193/300\n",
      " - 0s - loss: 0.1618 - accuracy: 0.9373 - precision: 0.9373 - recall: 0.9373 - val_loss: 0.4496 - val_accuracy: 0.8568 - val_precision: 0.8568 - val_recall: 0.8568\n",
      "Epoch 194/300\n",
      " - 0s - loss: 0.1441 - accuracy: 0.9488 - precision: 0.9488 - recall: 0.9488 - val_loss: 0.4605 - val_accuracy: 0.8593 - val_precision: 0.8593 - val_recall: 0.8593\n",
      "Epoch 195/300\n",
      " - 0s - loss: 0.1434 - accuracy: 0.9527 - precision: 0.9527 - recall: 0.9527 - val_loss: 0.4682 - val_accuracy: 0.8568 - val_precision: 0.8568 - val_recall: 0.8568\n",
      "Epoch 196/300\n",
      " - 0s - loss: 0.1478 - accuracy: 0.9476 - precision: 0.9476 - recall: 0.9476 - val_loss: 0.4614 - val_accuracy: 0.8568 - val_precision: 0.8568 - val_recall: 0.8568\n",
      "Epoch 197/300\n",
      " - 0s - loss: 0.1558 - accuracy: 0.9495 - precision: 0.9495 - recall: 0.9495 - val_loss: 0.4629 - val_accuracy: 0.8542 - val_precision: 0.8542 - val_recall: 0.8542\n",
      "Epoch 198/300\n",
      " - 0s - loss: 0.1511 - accuracy: 0.9405 - precision: 0.9405 - recall: 0.9405 - val_loss: 0.4707 - val_accuracy: 0.8593 - val_precision: 0.8593 - val_recall: 0.8593\n",
      "Epoch 199/300\n",
      " - 0s - loss: 0.1520 - accuracy: 0.9476 - precision: 0.9475 - recall: 0.9463 - val_loss: 0.4715 - val_accuracy: 0.8517 - val_precision: 0.8517 - val_recall: 0.8517\n",
      "Epoch 200/300\n",
      " - 0s - loss: 0.1316 - accuracy: 0.9559 - precision: 0.9559 - recall: 0.9552 - val_loss: 0.4717 - val_accuracy: 0.8542 - val_precision: 0.8542 - val_recall: 0.8542\n",
      "Epoch 201/300\n",
      " - 0s - loss: 0.1488 - accuracy: 0.9457 - precision: 0.9463 - recall: 0.9457 - val_loss: 0.4729 - val_accuracy: 0.8568 - val_precision: 0.8568 - val_recall: 0.8568\n",
      "Epoch 202/300\n",
      " - 0s - loss: 0.1340 - accuracy: 0.9501 - precision: 0.9501 - recall: 0.9495 - val_loss: 0.4692 - val_accuracy: 0.8645 - val_precision: 0.8645 - val_recall: 0.8645\n",
      "Epoch 203/300\n",
      " - 0s - loss: 0.1335 - accuracy: 0.9591 - precision: 0.9597 - recall: 0.9591 - val_loss: 0.4690 - val_accuracy: 0.8593 - val_precision: 0.8593 - val_recall: 0.8593\n",
      "Epoch 204/300\n",
      " - 0s - loss: 0.1498 - accuracy: 0.9450 - precision: 0.9450 - recall: 0.9450 - val_loss: 0.4716 - val_accuracy: 0.8619 - val_precision: 0.8619 - val_recall: 0.8619\n",
      "Epoch 205/300\n",
      " - 0s - loss: 0.1339 - accuracy: 0.9546 - precision: 0.9546 - recall: 0.9546 - val_loss: 0.4723 - val_accuracy: 0.8593 - val_precision: 0.8593 - val_recall: 0.8593\n",
      "Epoch 206/300\n",
      " - 0s - loss: 0.1343 - accuracy: 0.9527 - precision: 0.9526 - recall: 0.9514 - val_loss: 0.4676 - val_accuracy: 0.8593 - val_precision: 0.8593 - val_recall: 0.8593\n",
      "Epoch 207/300\n",
      " - 0s - loss: 0.1408 - accuracy: 0.9514 - precision: 0.9514 - recall: 0.9514 - val_loss: 0.4681 - val_accuracy: 0.8593 - val_precision: 0.8593 - val_recall: 0.8593\n",
      "Epoch 208/300\n",
      " - 0s - loss: 0.1553 - accuracy: 0.9476 - precision: 0.9476 - recall: 0.9476 - val_loss: 0.4788 - val_accuracy: 0.8491 - val_precision: 0.8487 - val_recall: 0.8465\n",
      "Epoch 209/300\n",
      " - 0s - loss: 0.1348 - accuracy: 0.9533 - precision: 0.9533 - recall: 0.9533 - val_loss: 0.4786 - val_accuracy: 0.8568 - val_precision: 0.8568 - val_recall: 0.8568\n",
      "Epoch 210/300\n",
      " - 0s - loss: 0.1375 - accuracy: 0.9514 - precision: 0.9526 - recall: 0.9514 - val_loss: 0.4798 - val_accuracy: 0.8568 - val_precision: 0.8568 - val_recall: 0.8568\n",
      "Epoch 211/300\n",
      " - 0s - loss: 0.1383 - accuracy: 0.9514 - precision: 0.9520 - recall: 0.9508 - val_loss: 0.4820 - val_accuracy: 0.8568 - val_precision: 0.8568 - val_recall: 0.8568\n",
      "Epoch 212/300\n",
      " - 0s - loss: 0.1396 - accuracy: 0.9501 - precision: 0.9501 - recall: 0.9501 - val_loss: 0.4774 - val_accuracy: 0.8568 - val_precision: 0.8568 - val_recall: 0.8568\n",
      "Epoch 213/300\n",
      " - 0s - loss: 0.1451 - accuracy: 0.9501 - precision: 0.9507 - recall: 0.9501 - val_loss: 0.4794 - val_accuracy: 0.8593 - val_precision: 0.8593 - val_recall: 0.8593\n",
      "Epoch 214/300\n",
      " - 0s - loss: 0.1294 - accuracy: 0.9495 - precision: 0.9495 - recall: 0.9495 - val_loss: 0.4836 - val_accuracy: 0.8517 - val_precision: 0.8517 - val_recall: 0.8517\n",
      "Epoch 215/300\n",
      " - 0s - loss: 0.1333 - accuracy: 0.9559 - precision: 0.9559 - recall: 0.9559 - val_loss: 0.4766 - val_accuracy: 0.8593 - val_precision: 0.8593 - val_recall: 0.8593\n",
      "Epoch 216/300\n",
      " - 0s - loss: 0.1403 - accuracy: 0.9469 - precision: 0.9469 - recall: 0.9469 - val_loss: 0.4711 - val_accuracy: 0.8568 - val_precision: 0.8568 - val_recall: 0.8568\n",
      "Epoch 217/300\n",
      " - 0s - loss: 0.1294 - accuracy: 0.9559 - precision: 0.9565 - recall: 0.9559 - val_loss: 0.4795 - val_accuracy: 0.8465 - val_precision: 0.8465 - val_recall: 0.8465\n",
      "Epoch 218/300\n",
      " - 0s - loss: 0.1243 - accuracy: 0.9578 - precision: 0.9578 - recall: 0.9578 - val_loss: 0.4822 - val_accuracy: 0.8593 - val_precision: 0.8593 - val_recall: 0.8593\n",
      "Epoch 219/300\n",
      " - 0s - loss: 0.1310 - accuracy: 0.9527 - precision: 0.9527 - recall: 0.9527 - val_loss: 0.4899 - val_accuracy: 0.8593 - val_precision: 0.8593 - val_recall: 0.8593\n",
      "Epoch 220/300\n",
      " - 0s - loss: 0.1374 - accuracy: 0.9527 - precision: 0.9527 - recall: 0.9527 - val_loss: 0.4949 - val_accuracy: 0.8542 - val_precision: 0.8542 - val_recall: 0.8542\n",
      "Epoch 221/300\n",
      " - 0s - loss: 0.1340 - accuracy: 0.9565 - precision: 0.9565 - recall: 0.9565 - val_loss: 0.4821 - val_accuracy: 0.8568 - val_precision: 0.8568 - val_recall: 0.8568\n",
      "Epoch 222/300\n",
      " - 0s - loss: 0.1172 - accuracy: 0.9616 - precision: 0.9616 - recall: 0.9616 - val_loss: 0.4792 - val_accuracy: 0.8568 - val_precision: 0.8568 - val_recall: 0.8568\n",
      "Epoch 223/300\n",
      " - 0s - loss: 0.1328 - accuracy: 0.9559 - precision: 0.9559 - recall: 0.9559 - val_loss: 0.4854 - val_accuracy: 0.8593 - val_precision: 0.8593 - val_recall: 0.8593\n",
      "Epoch 224/300\n",
      " - 0s - loss: 0.1249 - accuracy: 0.9559 - precision: 0.9559 - recall: 0.9559 - val_loss: 0.4882 - val_accuracy: 0.8568 - val_precision: 0.8568 - val_recall: 0.8568\n",
      "Epoch 225/300\n",
      " - 0s - loss: 0.1159 - accuracy: 0.9552 - precision: 0.9559 - recall: 0.9552 - val_loss: 0.4876 - val_accuracy: 0.8593 - val_precision: 0.8593 - val_recall: 0.8593\n",
      "Epoch 226/300\n",
      " - 0s - loss: 0.1148 - accuracy: 0.9655 - precision: 0.9661 - recall: 0.9655 - val_loss: 0.4917 - val_accuracy: 0.8568 - val_precision: 0.8568 - val_recall: 0.8568\n",
      "Epoch 227/300\n",
      " - 0s - loss: 0.1258 - accuracy: 0.9546 - precision: 0.9546 - recall: 0.9540 - val_loss: 0.4931 - val_accuracy: 0.8542 - val_precision: 0.8542 - val_recall: 0.8542\n",
      "Epoch 228/300\n",
      " - 0s - loss: 0.1097 - accuracy: 0.9636 - precision: 0.9635 - recall: 0.9629 - val_loss: 0.4927 - val_accuracy: 0.8542 - val_precision: 0.8542 - val_recall: 0.8542\n",
      "Epoch 229/300\n",
      " - 0s - loss: 0.1238 - accuracy: 0.9527 - precision: 0.9527 - recall: 0.9520 - val_loss: 0.4883 - val_accuracy: 0.8542 - val_precision: 0.8542 - val_recall: 0.8542\n",
      "Epoch 230/300\n",
      " - 0s - loss: 0.1091 - accuracy: 0.9616 - precision: 0.9616 - recall: 0.9616 - val_loss: 0.4913 - val_accuracy: 0.8619 - val_precision: 0.8619 - val_recall: 0.8619\n",
      "Epoch 231/300\n",
      " - 0s - loss: 0.1085 - accuracy: 0.9648 - precision: 0.9648 - recall: 0.9648 - val_loss: 0.4991 - val_accuracy: 0.8593 - val_precision: 0.8593 - val_recall: 0.8593\n",
      "Epoch 232/300\n",
      " - 0s - loss: 0.1264 - accuracy: 0.9533 - precision: 0.9533 - recall: 0.9533 - val_loss: 0.5046 - val_accuracy: 0.8568 - val_precision: 0.8568 - val_recall: 0.8568\n",
      "Epoch 233/300\n",
      " - 0s - loss: 0.1158 - accuracy: 0.9597 - precision: 0.9597 - recall: 0.9597 - val_loss: 0.5083 - val_accuracy: 0.8517 - val_precision: 0.8517 - val_recall: 0.8517\n",
      "Epoch 234/300\n",
      " - 0s - loss: 0.1182 - accuracy: 0.9572 - precision: 0.9572 - recall: 0.9572 - val_loss: 0.5188 - val_accuracy: 0.8517 - val_precision: 0.8517 - val_recall: 0.8517\n",
      "Epoch 235/300\n",
      " - 0s - loss: 0.1128 - accuracy: 0.9616 - precision: 0.9616 - recall: 0.9616 - val_loss: 0.5139 - val_accuracy: 0.8568 - val_precision: 0.8568 - val_recall: 0.8568\n",
      "Epoch 236/300\n",
      " - 0s - loss: 0.1032 - accuracy: 0.9642 - precision: 0.9648 - recall: 0.9642 - val_loss: 0.5045 - val_accuracy: 0.8568 - val_precision: 0.8568 - val_recall: 0.8568\n",
      "Epoch 237/300\n",
      " - 0s - loss: 0.1114 - accuracy: 0.9655 - precision: 0.9655 - recall: 0.9648 - val_loss: 0.5062 - val_accuracy: 0.8593 - val_precision: 0.8593 - val_recall: 0.8593\n",
      "Epoch 238/300\n",
      " - 0s - loss: 0.1168 - accuracy: 0.9604 - precision: 0.9604 - recall: 0.9604 - val_loss: 0.5175 - val_accuracy: 0.8568 - val_precision: 0.8568 - val_recall: 0.8568\n",
      "Epoch 239/300\n",
      " - 0s - loss: 0.1118 - accuracy: 0.9636 - precision: 0.9635 - recall: 0.9623 - val_loss: 0.5196 - val_accuracy: 0.8517 - val_precision: 0.8517 - val_recall: 0.8517\n",
      "Epoch 240/300\n",
      " - 0s - loss: 0.1056 - accuracy: 0.9623 - precision: 0.9623 - recall: 0.9623 - val_loss: 0.5169 - val_accuracy: 0.8568 - val_precision: 0.8568 - val_recall: 0.8568\n",
      "Epoch 241/300\n",
      " - 0s - loss: 0.1187 - accuracy: 0.9604 - precision: 0.9610 - recall: 0.9604 - val_loss: 0.5200 - val_accuracy: 0.8517 - val_precision: 0.8517 - val_recall: 0.8517\n",
      "Epoch 242/300\n",
      " - 0s - loss: 0.1252 - accuracy: 0.9546 - precision: 0.9546 - recall: 0.9546 - val_loss: 0.5162 - val_accuracy: 0.8593 - val_precision: 0.8593 - val_recall: 0.8593\n",
      "Epoch 243/300\n",
      " - 0s - loss: 0.1046 - accuracy: 0.9629 - precision: 0.9635 - recall: 0.9629 - val_loss: 0.5329 - val_accuracy: 0.8568 - val_precision: 0.8568 - val_recall: 0.8568\n",
      "Epoch 244/300\n",
      " - 0s - loss: 0.1285 - accuracy: 0.9565 - precision: 0.9565 - recall: 0.9565 - val_loss: 0.5326 - val_accuracy: 0.8517 - val_precision: 0.8517 - val_recall: 0.8517\n",
      "Epoch 245/300\n",
      " - 0s - loss: 0.1185 - accuracy: 0.9591 - precision: 0.9597 - recall: 0.9584 - val_loss: 0.5111 - val_accuracy: 0.8517 - val_precision: 0.8517 - val_recall: 0.8517\n",
      "Epoch 246/300\n",
      " - 0s - loss: 0.0992 - accuracy: 0.9655 - precision: 0.9655 - recall: 0.9655 - val_loss: 0.5075 - val_accuracy: 0.8542 - val_precision: 0.8542 - val_recall: 0.8542\n",
      "Epoch 247/300\n",
      " - 0s - loss: 0.1013 - accuracy: 0.9687 - precision: 0.9687 - recall: 0.9687 - val_loss: 0.5177 - val_accuracy: 0.8542 - val_precision: 0.8542 - val_recall: 0.8542\n",
      "Epoch 248/300\n",
      " - 0s - loss: 0.1079 - accuracy: 0.9674 - precision: 0.9674 - recall: 0.9674 - val_loss: 0.5266 - val_accuracy: 0.8568 - val_precision: 0.8568 - val_recall: 0.8568\n",
      "Epoch 249/300\n",
      " - 0s - loss: 0.1153 - accuracy: 0.9533 - precision: 0.9539 - recall: 0.9533 - val_loss: 0.5328 - val_accuracy: 0.8517 - val_precision: 0.8517 - val_recall: 0.8517\n",
      "Epoch 250/300\n",
      " - 0s - loss: 0.1080 - accuracy: 0.9584 - precision: 0.9591 - recall: 0.9584 - val_loss: 0.5291 - val_accuracy: 0.8542 - val_precision: 0.8542 - val_recall: 0.8542\n",
      "Epoch 251/300\n",
      " - 0s - loss: 0.1021 - accuracy: 0.9629 - precision: 0.9629 - recall: 0.9629 - val_loss: 0.5330 - val_accuracy: 0.8568 - val_precision: 0.8568 - val_recall: 0.8568\n",
      "Epoch 252/300\n",
      " - 0s - loss: 0.1058 - accuracy: 0.9648 - precision: 0.9648 - recall: 0.9648 - val_loss: 0.5419 - val_accuracy: 0.8593 - val_precision: 0.8593 - val_recall: 0.8593\n",
      "Epoch 253/300\n",
      " - 0s - loss: 0.1044 - accuracy: 0.9642 - precision: 0.9642 - recall: 0.9642 - val_loss: 0.5453 - val_accuracy: 0.8542 - val_precision: 0.8542 - val_recall: 0.8542\n",
      "Epoch 254/300\n",
      " - 0s - loss: 0.1034 - accuracy: 0.9642 - precision: 0.9642 - recall: 0.9642 - val_loss: 0.5350 - val_accuracy: 0.8593 - val_precision: 0.8593 - val_recall: 0.8593\n",
      "Epoch 255/300\n",
      " - 0s - loss: 0.1051 - accuracy: 0.9623 - precision: 0.9623 - recall: 0.9623 - val_loss: 0.5344 - val_accuracy: 0.8517 - val_precision: 0.8517 - val_recall: 0.8517\n",
      "Epoch 256/300\n",
      " - 0s - loss: 0.1149 - accuracy: 0.9559 - precision: 0.9559 - recall: 0.9559 - val_loss: 0.5276 - val_accuracy: 0.8542 - val_precision: 0.8542 - val_recall: 0.8542\n",
      "Epoch 257/300\n",
      " - 0s - loss: 0.1202 - accuracy: 0.9552 - precision: 0.9552 - recall: 0.9552 - val_loss: 0.5287 - val_accuracy: 0.8542 - val_precision: 0.8542 - val_recall: 0.8542\n",
      "Epoch 258/300\n",
      " - 0s - loss: 0.1026 - accuracy: 0.9674 - precision: 0.9674 - recall: 0.9674 - val_loss: 0.5253 - val_accuracy: 0.8542 - val_precision: 0.8542 - val_recall: 0.8542\n",
      "Epoch 259/300\n",
      " - 0s - loss: 0.1101 - accuracy: 0.9610 - precision: 0.9616 - recall: 0.9610 - val_loss: 0.5195 - val_accuracy: 0.8568 - val_precision: 0.8568 - val_recall: 0.8568\n",
      "Epoch 260/300\n",
      " - 0s - loss: 0.0970 - accuracy: 0.9616 - precision: 0.9616 - recall: 0.9616 - val_loss: 0.5239 - val_accuracy: 0.8593 - val_precision: 0.8593 - val_recall: 0.8593\n",
      "Epoch 261/300\n",
      " - 0s - loss: 0.0983 - accuracy: 0.9642 - precision: 0.9642 - recall: 0.9642 - val_loss: 0.5333 - val_accuracy: 0.8593 - val_precision: 0.8593 - val_recall: 0.8593\n",
      "Epoch 262/300\n",
      " - 0s - loss: 0.1026 - accuracy: 0.9661 - precision: 0.9661 - recall: 0.9661 - val_loss: 0.5445 - val_accuracy: 0.8593 - val_precision: 0.8593 - val_recall: 0.8593\n",
      "Epoch 263/300\n",
      " - 0s - loss: 0.1026 - accuracy: 0.9642 - precision: 0.9642 - recall: 0.9636 - val_loss: 0.5416 - val_accuracy: 0.8568 - val_precision: 0.8568 - val_recall: 0.8568\n",
      "Epoch 264/300\n",
      " - 0s - loss: 0.1103 - accuracy: 0.9616 - precision: 0.9616 - recall: 0.9616 - val_loss: 0.5370 - val_accuracy: 0.8517 - val_precision: 0.8517 - val_recall: 0.8517\n",
      "Epoch 265/300\n",
      " - 0s - loss: 0.0921 - accuracy: 0.9725 - precision: 0.9725 - recall: 0.9725 - val_loss: 0.5328 - val_accuracy: 0.8568 - val_precision: 0.8568 - val_recall: 0.8568\n",
      "Epoch 266/300\n",
      " - 0s - loss: 0.0966 - accuracy: 0.9629 - precision: 0.9629 - recall: 0.9629 - val_loss: 0.5394 - val_accuracy: 0.8517 - val_precision: 0.8517 - val_recall: 0.8517\n",
      "Epoch 267/300\n",
      " - 0s - loss: 0.0963 - accuracy: 0.9661 - precision: 0.9661 - recall: 0.9661 - val_loss: 0.5550 - val_accuracy: 0.8542 - val_precision: 0.8542 - val_recall: 0.8542\n",
      "Epoch 268/300\n",
      " - 0s - loss: 0.0989 - accuracy: 0.9687 - precision: 0.9693 - recall: 0.9687 - val_loss: 0.5549 - val_accuracy: 0.8491 - val_precision: 0.8491 - val_recall: 0.8491\n",
      "Epoch 269/300\n",
      " - 0s - loss: 0.1066 - accuracy: 0.9604 - precision: 0.9604 - recall: 0.9604 - val_loss: 0.5455 - val_accuracy: 0.8568 - val_precision: 0.8568 - val_recall: 0.8568\n",
      "Epoch 270/300\n",
      " - 0s - loss: 0.0885 - accuracy: 0.9712 - precision: 0.9712 - recall: 0.9712 - val_loss: 0.5499 - val_accuracy: 0.8568 - val_precision: 0.8568 - val_recall: 0.8568\n",
      "Epoch 271/300\n",
      " - 0s - loss: 0.0949 - accuracy: 0.9674 - precision: 0.9674 - recall: 0.9674 - val_loss: 0.5545 - val_accuracy: 0.8542 - val_precision: 0.8542 - val_recall: 0.8542\n",
      "Epoch 272/300\n",
      " - 0s - loss: 0.0916 - accuracy: 0.9719 - precision: 0.9718 - recall: 0.9712 - val_loss: 0.5525 - val_accuracy: 0.8542 - val_precision: 0.8542 - val_recall: 0.8542\n",
      "Epoch 273/300\n",
      " - 0s - loss: 0.0889 - accuracy: 0.9693 - precision: 0.9693 - recall: 0.9687 - val_loss: 0.5543 - val_accuracy: 0.8568 - val_precision: 0.8568 - val_recall: 0.8568\n",
      "Epoch 274/300\n",
      " - 0s - loss: 0.0936 - accuracy: 0.9661 - precision: 0.9661 - recall: 0.9661 - val_loss: 0.5458 - val_accuracy: 0.8568 - val_precision: 0.8568 - val_recall: 0.8568\n",
      "Epoch 275/300\n",
      " - 0s - loss: 0.0928 - accuracy: 0.9687 - precision: 0.9687 - recall: 0.9687 - val_loss: 0.5476 - val_accuracy: 0.8568 - val_precision: 0.8568 - val_recall: 0.8568\n",
      "Epoch 276/300\n",
      " - 0s - loss: 0.0897 - accuracy: 0.9642 - precision: 0.9642 - recall: 0.9642 - val_loss: 0.5654 - val_accuracy: 0.8593 - val_precision: 0.8593 - val_recall: 0.8593\n",
      "Epoch 277/300\n",
      " - 0s - loss: 0.1038 - accuracy: 0.9648 - precision: 0.9648 - recall: 0.9648 - val_loss: 0.5567 - val_accuracy: 0.8568 - val_precision: 0.8568 - val_recall: 0.8568\n",
      "Epoch 278/300\n",
      " - 0s - loss: 0.0949 - accuracy: 0.9629 - precision: 0.9629 - recall: 0.9629 - val_loss: 0.5513 - val_accuracy: 0.8593 - val_precision: 0.8593 - val_recall: 0.8593\n",
      "Epoch 279/300\n",
      " - 0s - loss: 0.0884 - accuracy: 0.9738 - precision: 0.9738 - recall: 0.9731 - val_loss: 0.5548 - val_accuracy: 0.8568 - val_precision: 0.8568 - val_recall: 0.8568\n",
      "Epoch 280/300\n",
      " - 0s - loss: 0.0806 - accuracy: 0.9725 - precision: 0.9725 - recall: 0.9725 - val_loss: 0.5548 - val_accuracy: 0.8593 - val_precision: 0.8593 - val_recall: 0.8593\n",
      "Epoch 281/300\n",
      " - 0s - loss: 0.0952 - accuracy: 0.9680 - precision: 0.9680 - recall: 0.9680 - val_loss: 0.5629 - val_accuracy: 0.8593 - val_precision: 0.8593 - val_recall: 0.8593\n",
      "Epoch 282/300\n",
      " - 0s - loss: 0.0977 - accuracy: 0.9636 - precision: 0.9636 - recall: 0.9636 - val_loss: 0.5728 - val_accuracy: 0.8568 - val_precision: 0.8568 - val_recall: 0.8568\n",
      "Epoch 283/300\n",
      " - 0s - loss: 0.0896 - accuracy: 0.9668 - precision: 0.9668 - recall: 0.9668 - val_loss: 0.5754 - val_accuracy: 0.8517 - val_precision: 0.8517 - val_recall: 0.8517\n",
      "Epoch 284/300\n",
      " - 0s - loss: 0.0992 - accuracy: 0.9648 - precision: 0.9648 - recall: 0.9648 - val_loss: 0.5688 - val_accuracy: 0.8491 - val_precision: 0.8491 - val_recall: 0.8491\n",
      "Epoch 285/300\n",
      " - 0s - loss: 0.0895 - accuracy: 0.9706 - precision: 0.9706 - recall: 0.9706 - val_loss: 0.5627 - val_accuracy: 0.8440 - val_precision: 0.8440 - val_recall: 0.8440\n",
      "Epoch 286/300\n",
      " - 0s - loss: 0.0879 - accuracy: 0.9687 - precision: 0.9687 - recall: 0.9687 - val_loss: 0.5558 - val_accuracy: 0.8568 - val_precision: 0.8568 - val_recall: 0.8568\n",
      "Epoch 287/300\n",
      " - 0s - loss: 0.0814 - accuracy: 0.9712 - precision: 0.9712 - recall: 0.9712 - val_loss: 0.5568 - val_accuracy: 0.8542 - val_precision: 0.8542 - val_recall: 0.8542\n",
      "Epoch 288/300\n",
      " - 0s - loss: 0.0817 - accuracy: 0.9693 - precision: 0.9699 - recall: 0.9693 - val_loss: 0.5662 - val_accuracy: 0.8542 - val_precision: 0.8542 - val_recall: 0.8542\n",
      "Epoch 289/300\n",
      " - 0s - loss: 0.0815 - accuracy: 0.9699 - precision: 0.9699 - recall: 0.9699 - val_loss: 0.5753 - val_accuracy: 0.8517 - val_precision: 0.8517 - val_recall: 0.8517\n",
      "Epoch 290/300\n",
      " - 0s - loss: 0.0836 - accuracy: 0.9744 - precision: 0.9744 - recall: 0.9744 - val_loss: 0.5704 - val_accuracy: 0.8542 - val_precision: 0.8542 - val_recall: 0.8542\n",
      "Epoch 291/300\n",
      " - 0s - loss: 0.0914 - accuracy: 0.9687 - precision: 0.9687 - recall: 0.9687 - val_loss: 0.5703 - val_accuracy: 0.8593 - val_precision: 0.8593 - val_recall: 0.8593\n",
      "Epoch 292/300\n",
      " - 0s - loss: 0.0812 - accuracy: 0.9719 - precision: 0.9719 - recall: 0.9719 - val_loss: 0.5834 - val_accuracy: 0.8542 - val_precision: 0.8542 - val_recall: 0.8542\n",
      "Epoch 293/300\n",
      " - 0s - loss: 0.0795 - accuracy: 0.9699 - precision: 0.9706 - recall: 0.9699 - val_loss: 0.5719 - val_accuracy: 0.8593 - val_precision: 0.8593 - val_recall: 0.8593\n",
      "Epoch 294/300\n",
      " - 0s - loss: 0.0877 - accuracy: 0.9636 - precision: 0.9636 - recall: 0.9636 - val_loss: 0.5676 - val_accuracy: 0.8645 - val_precision: 0.8645 - val_recall: 0.8645\n",
      "Epoch 295/300\n",
      " - 0s - loss: 0.0900 - accuracy: 0.9680 - precision: 0.9680 - recall: 0.9680 - val_loss: 0.5770 - val_accuracy: 0.8465 - val_precision: 0.8465 - val_recall: 0.8465\n",
      "Epoch 296/300\n",
      " - 0s - loss: 0.0804 - accuracy: 0.9731 - precision: 0.9731 - recall: 0.9731 - val_loss: 0.5761 - val_accuracy: 0.8491 - val_precision: 0.8491 - val_recall: 0.8491\n",
      "Epoch 297/300\n",
      " - 0s - loss: 0.0717 - accuracy: 0.9757 - precision: 0.9757 - recall: 0.9757 - val_loss: 0.5745 - val_accuracy: 0.8517 - val_precision: 0.8517 - val_recall: 0.8517\n",
      "Epoch 298/300\n",
      " - 0s - loss: 0.0833 - accuracy: 0.9731 - precision: 0.9731 - recall: 0.9731 - val_loss: 0.5815 - val_accuracy: 0.8542 - val_precision: 0.8542 - val_recall: 0.8542\n",
      "Epoch 299/300\n",
      " - 0s - loss: 0.0711 - accuracy: 0.9789 - precision: 0.9789 - recall: 0.9783 - val_loss: 0.5837 - val_accuracy: 0.8542 - val_precision: 0.8542 - val_recall: 0.8542\n",
      "Epoch 300/300\n",
      " - 0s - loss: 0.0787 - accuracy: 0.9731 - precision: 0.9738 - recall: 0.9731 - val_loss: 0.5924 - val_accuracy: 0.8542 - val_precision: 0.8542 - val_recall: 0.8542\n"
     ]
    },
    {
     "data": {
      "image/png": "[encoded data removed]",
      "text/plain": [
       "<Figure size 640x480 with 1 Axes>"
      ]
     },
     "metadata": {},
     "output_type": "display_data"
    },
    {
     "data": {
      "image/png": "[encoded data removed]",
      "text/plain": [
       "<Figure size 640x480 with 1 Axes>"
      ]
     },
     "metadata": {},
     "output_type": "display_data"
    },
    {
     "data": {
      "image/png": "[encoded data removed]",
      "text/plain": [
       "<Figure size 640x480 with 1 Axes>"
      ]
     },
     "metadata": {},
     "output_type": "display_data"
    },
    {
     "data": {
      "image/png": "[encoded data removed]",
      "text/plain": [
       "<Figure size 640x480 with 1 Axes>"
      ]
     },
     "metadata": {},
     "output_type": "display_data"
    },
    {
     "name": "stdout",
     "output_type": "stream",
     "text": [
      "838/838 [==============================] - 0s 145us/step\n",
      "Score of the Testing Data: [0.4865781372159648, 0.8448687195777893, 0.8458781242370605, 0.8448687195777893]\n",
      "predict    0    1    2\n",
      "label                 \n",
      "0        238    0   35\n",
      "1          0  260   20\n",
      "2         57   18  210\n"
     ]
    }
   ],
   "source": [
    "%run main.py -mode=gasf+cnn -targets=8COIN3Cnews_USD -pattern_ls=MorningStar_good,EveningStar_good -feature_channels=open,high,close,low,volumeto,rank_score -ignore_patternless=False -sample_size=931"
   ]
  },
  {
   "cell_type": "markdown",
   "id": "worse-stamp",
   "metadata": {},
   "source": [
    "## v2\n",
    "### Pattern Detection 5C"
   ]
  },
  {
   "cell_type": "code",
   "execution_count": 29,
   "id": "handmade-idaho",
   "metadata": {},
   "outputs": [
    {
     "name": "stdout",
     "output_type": "stream",
     "text": [
      "Rule : 1H\n",
      "Period : 2020-04-12 12:00:00 - 2022-02-28 23:00:00 \n",
      "\n",
      "Number of MorningStar_good : 283 // 16651 \n",
      "\n",
      "Number of MorningStar_bad : 771 // 16651 \n",
      "\n",
      "Number of EveningStar_good : 79 // 16651 \n",
      "\n",
      "Number of EveningStar_bad : 347 // 16651 \n",
      "\n"
     ]
    }
   ],
   "source": [
    "%run main.py -mode=csv_pattern -targets=BTCnews_USD -feature_channels=open,high,close,low,volumeto,rank_score,sentiment,sentimenttitle,sentimenttext -ignore_patternless=False"
   ]
  },
  {
   "cell_type": "code",
   "execution_count": 30,
   "id": "painful-setup",
   "metadata": {},
   "outputs": [
    {
     "name": "stdout",
     "output_type": "stream",
     "text": [
      "Rule : 1H\n",
      "Period : 2020-04-12 12:00:00 - 2022-02-28 23:00:00 \n",
      "\n",
      "Number of MorningStar_good : 328 // 16651 \n",
      "\n",
      "Number of MorningStar_bad : 700 // 16651 \n",
      "\n",
      "Number of EveningStar_good : 99 // 16651 \n",
      "\n",
      "Number of EveningStar_bad : 323 // 16651 \n",
      "\n"
     ]
    }
   ],
   "source": [
    "%run main.py -mode=csv_pattern -targets=ETHnews_USD -feature_channels=open,high,close,low,volumeto,rank_score,sentiment,sentimenttitle,sentimenttext -ignore_patternless=False"
   ]
  },
  {
   "cell_type": "code",
   "execution_count": 31,
   "id": "solid-prescription",
   "metadata": {},
   "outputs": [
    {
     "name": "stdout",
     "output_type": "stream",
     "text": [
      "Rule : 1H\n",
      "Period : 2020-04-12 12:00:00 - 2022-02-28 23:00:00 \n",
      "\n",
      "Number of MorningStar_good : 304 // 16651 \n",
      "\n",
      "Number of MorningStar_bad : 656 // 16651 \n",
      "\n",
      "Number of EveningStar_good : 114 // 16651 \n",
      "\n",
      "Number of EveningStar_bad : 317 // 16651 \n",
      "\n"
     ]
    }
   ],
   "source": [
    "%run main.py -mode=csv_pattern -targets=BNBnews_USD -feature_channels=open,high,close,low,volumeto,rank_score,sentiment,sentimenttitle,sentimenttext -ignore_patternless=False"
   ]
  },
  {
   "cell_type": "code",
   "execution_count": 32,
   "id": "fuzzy-greeting",
   "metadata": {},
   "outputs": [
    {
     "name": "stdout",
     "output_type": "stream",
     "text": [
      "Rule : 1H\n",
      "Period : 2020-04-12 12:00:00 - 2022-02-28 23:00:00 \n",
      "\n",
      "Number of MorningStar_good : 301 // 16651 \n",
      "\n",
      "Number of MorningStar_bad : 703 // 16651 \n",
      "\n",
      "Number of EveningStar_good : 109 // 16651 \n",
      "\n",
      "Number of EveningStar_bad : 279 // 16651 \n",
      "\n"
     ]
    }
   ],
   "source": [
    "%run main.py -mode=csv_pattern -targets=XRPnews_USD -feature_channels=open,high,close,low,volumeto,rank_score,sentiment,sentimenttitle,sentimenttext -ignore_patternless=False"
   ]
  },
  {
   "cell_type": "code",
   "execution_count": 33,
   "id": "freelance-permission",
   "metadata": {},
   "outputs": [
    {
     "name": "stdout",
     "output_type": "stream",
     "text": [
      "Rule : 1H\n",
      "Period : 2020-04-12 12:00:00 - 2022-02-28 23:00:00 \n",
      "\n",
      "Number of MorningStar_good : 376 // 16651 \n",
      "\n",
      "Number of MorningStar_bad : 570 // 16651 \n",
      "\n",
      "Number of EveningStar_good : 137 // 16651 \n",
      "\n",
      "Number of EveningStar_bad : 219 // 16651 \n",
      "\n"
     ]
    }
   ],
   "source": [
    "%run main.py -mode=csv_pattern -targets=LUNAnews_USD -feature_channels=open,high,close,low,volumeto,rank_score,sentiment,sentimenttitle,sentimenttext -ignore_patternless=False"
   ]
  },
  {
   "cell_type": "code",
   "execution_count": 34,
   "id": "clear-complement",
   "metadata": {},
   "outputs": [
    {
     "name": "stdout",
     "output_type": "stream",
     "text": [
      "Rule : 1H\n",
      "Period : 2020-05-11 20:00:00 - 2022-02-28 23:00:00 \n",
      "\n",
      "Number of MorningStar_good : 371 // 15929 \n",
      "\n",
      "Number of MorningStar_bad : 603 // 15929 \n",
      "\n",
      "Number of EveningStar_good : 135 // 15929 \n",
      "\n",
      "Number of EveningStar_bad : 232 // 15929 \n",
      "\n"
     ]
    }
   ],
   "source": [
    "%run main.py -mode=csv_pattern -targets=SOLnews_USD -feature_channels=open,high,close,low,volumeto,rank_score,sentiment,sentimenttitle,sentimenttext -ignore_patternless=False"
   ]
  },
  {
   "cell_type": "code",
   "execution_count": 35,
   "id": "respiratory-yorkshire",
   "metadata": {},
   "outputs": [
    {
     "name": "stdout",
     "output_type": "stream",
     "text": [
      "Rule : 1H\n",
      "Period : 2020-04-12 12:00:00 - 2022-02-28 23:00:00 \n",
      "\n",
      "Number of MorningStar_good : 312 // 16651 \n",
      "\n",
      "Number of MorningStar_bad : 682 // 16651 \n",
      "\n",
      "Number of EveningStar_good : 98 // 16651 \n",
      "\n",
      "Number of EveningStar_bad : 261 // 16651 \n",
      "\n"
     ]
    }
   ],
   "source": [
    "%run main.py -mode=csv_pattern -targets=ADAnews_USD -feature_channels=open,high,close,low,volumeto,rank_score,sentiment,sentimenttitle,sentimenttext -ignore_patternless=False"
   ]
  },
  {
   "cell_type": "code",
   "execution_count": 36,
   "id": "agreed-steam",
   "metadata": {},
   "outputs": [
    {
     "name": "stdout",
     "output_type": "stream",
     "text": [
      "Rule : 1H\n",
      "Period : 2020-04-12 12:00:00 - 2022-02-28 23:00:00 \n",
      "\n",
      "Number of MorningStar_good : 383 // 16651 \n",
      "\n",
      "Number of MorningStar_bad : 635 // 16651 \n",
      "\n",
      "Number of EveningStar_good : 160 // 16651 \n",
      "\n",
      "Number of EveningStar_bad : 221 // 16651 \n",
      "\n"
     ]
    }
   ],
   "source": [
    "%run main.py -mode=csv_pattern -targets=FTMnews_USD -feature_channels=open,high,close,low,volumeto,rank_score,sentiment,sentimenttitle,sentimenttext -ignore_patternless=False"
   ]
  },
  {
   "cell_type": "markdown",
   "id": "revolutionary-ending",
   "metadata": {},
   "source": [
    "### GASF"
   ]
  },
  {
   "cell_type": "code",
   "execution_count": 59,
   "id": "forced-piece",
   "metadata": {},
   "outputs": [],
   "source": [
    "%run main.py -mode=gasf -targets=BTCnews_USD -feature_channels=open,high,close,low,volumeto,rank_score,sentiment,sentimenttitle,sentimenttext  -ignore_patternless=False -sample_size=79"
   ]
  },
  {
   "cell_type": "code",
   "execution_count": 60,
   "id": "average-elder",
   "metadata": {},
   "outputs": [],
   "source": [
    "%run main.py -mode=gasf -targets=ETHnews_USD -feature_channels=open,high,close,low,volumeto,rank_score,sentiment,sentimenttitle,sentimenttext -ignore_patternless=False -sample_size=99"
   ]
  },
  {
   "cell_type": "code",
   "execution_count": 61,
   "id": "convenient-wheel",
   "metadata": {},
   "outputs": [],
   "source": [
    "%run main.py -mode=gasf -targets=BNBnews_USD -feature_channels=open,high,close,low,volumeto,rank_score,sentiment,sentimenttitle,sentimenttext -ignore_patternless=False -sample_size=114"
   ]
  },
  {
   "cell_type": "code",
   "execution_count": 62,
   "id": "cleared-culture",
   "metadata": {},
   "outputs": [],
   "source": [
    "%run main.py -mode=gasf -targets=XRPnews_USD -feature_channels=open,high,close,low,volumeto,rank_score,sentiment,sentimenttitle,sentimenttext -ignore_patternless=False -sample_size=109"
   ]
  },
  {
   "cell_type": "code",
   "execution_count": 63,
   "id": "global-graph",
   "metadata": {},
   "outputs": [],
   "source": [
    "%run main.py -mode=gasf -targets=LUNAnews_USD -feature_channels=open,high,close,low,volumeto,rank_score,sentiment,sentimenttitle,sentimenttext -ignore_patternless=False -sample_size=137"
   ]
  },
  {
   "cell_type": "code",
   "execution_count": 64,
   "id": "printable-square",
   "metadata": {},
   "outputs": [],
   "source": [
    "%run main.py -mode=gasf -targets=SOLnews_USD -feature_channels=open,high,close,low,volumeto,rank_score,sentiment,sentimenttitle,sentimenttext -ignore_patternless=False -sample_size=135"
   ]
  },
  {
   "cell_type": "code",
   "execution_count": 65,
   "id": "crude-bedroom",
   "metadata": {},
   "outputs": [],
   "source": [
    "%run main.py -mode=gasf -targets=ADAnews_USD -feature_channels=open,high,close,low,volumeto,rank_score,sentiment,sentimenttitle,sentimenttext -ignore_patternless=False -sample_size=98"
   ]
  },
  {
   "cell_type": "code",
   "execution_count": 66,
   "id": "martial-carbon",
   "metadata": {},
   "outputs": [],
   "source": [
    "%run main.py -mode=gasf -targets=FTMnews_USD -feature_channels=open,high,close,low,volumeto,rank_score,sentiment,sentimenttitle,sentimenttext -ignore_patternless=False -sample_size=160"
   ]
  },
  {
   "cell_type": "code",
   "execution_count": 67,
   "id": "absolute-century",
   "metadata": {},
   "outputs": [
    {
     "name": "stdout",
     "output_type": "stream",
     "text": [
      "<class 'numpy.ndarray'>\n",
      "<class 'numpy.ndarray'>\n",
      "<class 'numpy.ndarray'>\n",
      "<class 'numpy.ndarray'>\n",
      "<class 'numpy.ndarray'>\n",
      "<class 'numpy.ndarray'>\n",
      "<class 'numpy.ndarray'>\n",
      "<class 'numpy.ndarray'>\n",
      "(5, 931, 10, 10, 9)\n"
     ]
    },
    {
     "data": {
      "text/plain": [
       "<function BufferedReader.close>"
      ]
     },
     "execution_count": 67,
     "metadata": {},
     "output_type": "execute_result"
    }
   ],
   "source": [
    "coins = ['BTC', 'ETH', 'BNB', 'XRP', 'LUNA', 'SOL', 'ADA', 'FTM']\n",
    "comb = None\n",
    "for coin in coins:\n",
    "    filename = './gasf_arr/gasf_arr_'+coin+'news_USD'\n",
    "    with open(filename, mode='rb') as f:\n",
    "        a = pickle.load(f)\n",
    "#         print(type(a))\n",
    "        if comb is None:\n",
    "            comb = a\n",
    "        else:\n",
    "            comb = np.concatenate((comb,a), axis = 1)\n",
    "    \n",
    "print(comb.shape)\n",
    "f.close  "
   ]
  },
  {
   "cell_type": "code",
   "execution_count": 57,
   "id": "viral-worker",
   "metadata": {},
   "outputs": [
    {
     "data": {
      "text/plain": [
       "False"
      ]
     },
     "execution_count": 57,
     "metadata": {},
     "output_type": "execute_result"
    }
   ],
   "source": [
    "[] is None"
   ]
  },
  {
   "cell_type": "code",
   "execution_count": null,
   "id": "trained-measure",
   "metadata": {},
   "outputs": [],
   "source": []
  }
 ],
 "metadata": {
  "kernelspec": {
   "display_name": "Python 3",
   "language": "python",
   "name": "python3"
  },
  "language_info": {
   "codemirror_mode": {
    "name": "ipython",
    "version": 3
   },
   "file_extension": ".py",
   "mimetype": "text/x-python",
   "name": "python",
   "nbconvert_exporter": "python",
   "pygments_lexer": "ipython3",
   "version": "3.7.9"
  }
 },
 "nbformat": 4,
 "nbformat_minor": 5
}
